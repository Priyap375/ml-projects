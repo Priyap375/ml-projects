{
  "cells": [
    {
      "cell_type": "markdown",
      "metadata": {
        "id": "nr222iPzjjOh"
      },
      "source": [
        "# ***INTRODUCTION***\n",
        "\n",
        "In response to the global challenge posed by the COVID-19 pandemic, this project aims to develop a predictive model to accurately determine the outcomes of COVID-19 tests. who This project focuses on analyzing various features including demographic data, clinical symptoms, and exposure history. The primary objective is to create a binary classifier that can predict whether a tested individual is COVID-19 positive or negative. This model is intended to assist healthcare professionals in early identification of potential positive cases, thereby enabling timely medical interventions and efficient allocation of healthcare resources. The success of this project lies in its potential to reduce the burden on healthcare systems and contribute to effective pandemic management strategies."
      ]
    },
    {
      "cell_type": "markdown",
      "metadata": {
        "id": "VG8-L2SeVck6"
      },
      "source": [
        "# ***SECTION : 1***"
      ]
    },
    {
      "cell_type": "markdown",
      "metadata": {
        "id": "uPT4qzZ5mpaE"
      },
      "source": [
        "## **PROJECT** **PROPOSAL**\n",
        "\n",
        "**Objective**\n",
        "\n",
        "To develop a machine learning model for predicting COVID-19 test results, aiding in resource management and healthcare response.\n",
        "\n",
        "**Key Questions**\n",
        "\n",
        "* Can we predict COVID-19 outcomes from symptoms, demographics, and exposure?\n",
        "\n",
        "* What are the critical predictors for a positive test?\n",
        "\n",
        "* How do specific symptoms relate to test outcomes?\n",
        "\n",
        "**Initial Hypothesis**\n",
        "1. *Symptom Severity*: Headache symptom is linked to positive outcomes.\n",
        "\n",
        "2. *Contact History*: Individuals with known contact with COVID-19 cases are at a higher risk of testing positive.\n",
        "\n",
        "**Approach**\n",
        "\n",
        "***Data Preparation***: Processed and cleaned the dataset for analysis like converting values like 'True','False','FALSE','TRUE' in a column into lowercase and dropping unwanted columns. Handled missing values.\n",
        "\n",
        "***Exploratory Analysis***: Identified patterns and validated hypothesis like using plots to analyze relationships between features and COVID-19 outcomes and dentifying any apparent trends or correlations in the data.\n",
        "\n",
        "\n",
        "***Feature Selection/Engineering***: Determined and created key features. Used map function and LabelEncoder to convert categorical to numerical variables. Used Recursive Feature Elimination (RFE) to find the best features to train the model.\n",
        "\n",
        "***Model Training***: Used models like Logistic Regression, Decision Tree, Random Forest Classifier and Support vector machine for prediction.\n",
        "\n",
        "***Increased accuracy of the models***:\n",
        "\n",
        "*Hyperparameter Tuning*: Use techniques like GridSearchCV and RandomizedSearchCV for model optimization.\n",
        "\n",
        "*Cross-Validation*: Ensure model robustness and avoid overfitting.\n",
        "\n",
        "***Evaluation***: Assessed models based on precision, recall, F1-score and ROC-AUC.Select the best-performing model based on these metrics.\n",
        "\n",
        "***Deployment Plan***: Outlined the implementation and monitoring strategy.\n",
        "\n",
        "**Expected Outcomes**\n",
        "\n",
        "* An accurate model for COVID-19 test predictions.\n",
        "\n",
        "* Insights into influential factors for COVID-19 outcomes.\n",
        "\n",
        "* A framework adaptable for other healthcare challenges.\n",
        "\n",
        "**Conclusion**\n",
        "This project aims to enhance COVID-19 testing strategies through data-driven predictions, offering significant benefits in healthcare decision-making and resource allocation."
      ]
    },
    {
      "cell_type": "markdown",
      "metadata": {
        "id": "bwlIrRUipivd"
      },
      "source": [
        "## **Importance of the Proposal in Today's World**\n",
        "*Addressing the Global Health Crisis*\n",
        "\n",
        "* **Timely Response to Pandemics**:Essential for managing COVID-19 and future pandemics, focusing on using data-driven insights for quick and accurate predictions.\n",
        "\n",
        "*Enhancing Healthcare Systems*\n",
        "* **Efficient Resource Allocation**: Identifies high-risk patients to better allocate critical healthcare resources like ICU beds and ventilators.\n",
        "* **Effective Preventive Strategies**: Early detection aids in implementing quarantine measures to control virus spread.\n",
        "\n",
        "*Improving Patient Outcomes*\n",
        "* **Personalized Treatment**: Enables customized treatment plans based on accurate predictions, improving medical intervention effectiveness.\n",
        "* **Early Intervention**: Helps in early identification of severe cases, reducing mortality and morbidity rates.\n",
        "\n",
        "##**Impact of Accurate Disease Prediction on Medical Treatment**\n",
        "*Optimizing Treatment Plans*\n",
        "* **Optimized Treatment Plans**: Assists healthcare providers in prioritizing patients needing urgent care.\n",
        "\n",
        "* **Reduced Healthcare Burden**: Lowers unnecessary admissions, easing the strain on healthcare facilities.\n",
        "\n",
        "*Enhancing Preventive Medicine and Clinical Decision-Making*\n",
        "* **Proactive Risk Assessment**: Identifies individuals at risk, guiding preventive healthcare.\n",
        "* **Informed Public Health Strategies**: Supports policy-making with data-driven insights.\n",
        "***Data-Driven Clinical Decisions**: Enhances decision-making accuracy in clinical settings.\n",
        "* **Improved Diagnostic Accuracy**: Integrates predictive modeling with diagnostic processes for better accuracy."
      ]
    },
    {
      "cell_type": "markdown",
      "metadata": {
        "id": "TyhJ4CmqxGmj"
      },
      "source": [
        "## IMPACT ON MEDICAL FIELD\n",
        "\n",
        "The impact of effective disease prediction models, particularly in the context of COVID-19, on the medical field is substantial. Here's how it contributes to each aspect:\n",
        "\n",
        "*Enhancing Screening Efficiency*\n",
        "\n",
        "**Early Detection & Isolation**: Accurate predictions enable prompt isolation of infected individuals, crucial for outbreak control.\n",
        "\n",
        "**Resource Prioritization**: Aids in focusing testing efforts on high-risk individuals, optimizing the use of limited resources.\n",
        "\n",
        "**Improved Public Health Response:** Facilitates swift action by health officials in managing and containing outbreaks.\n",
        "\n",
        "**Accuracy in Testing**: Reduces false negatives and positives, ensuring proper care and containment measures.\n",
        "\n",
        "*Reducing Healthcare Burden*\n",
        "\n",
        "**Optimal Resource Allocation**: Predictive models help hospitals prepare and allocate essential resources effectively, preventing overwhelm.\n",
        "\n",
        "**Balanced Patient Management**: Assists in managing patient admissions, keeping healthcare systems from being overloaded.\n",
        "\n",
        "**Cost-Effectiveness**: Leads to more efficient healthcare delivery, easing financial constraints.\n",
        "\n",
        "**Healthcare Worker Support**: Minimizes the risk to medical staff by reducing unnecessary hospital admissions."
      ]
    },
    {
      "cell_type": "markdown",
      "metadata": {
        "id": "zUIRtkbVs3Gq"
      },
      "source": [
        "## FUTURE APPLICATIONS AND KNOWLEDGE GAP\n",
        "\n",
        " *Knowledge Gaps*\n",
        "\n",
        "**Data Quality**: Challenges in accessing diverse, high-quality datasets.\n",
        "\n",
        "**Model Generalizability**: Limited applicability of models to different populations or disease stages.\n",
        "\n",
        "**Disease Understanding**: Incomplete knowledge of COVID-19 pathology affects model accuracy.\n",
        "\n",
        "*Adding following data/columns could help us for better analysis of dataset:*\n",
        "\n",
        "**Detailed Symptom Data**: In-depth details on symptoms' onset, duration, and severity.\n",
        "\n",
        "**Comorbidities**: Information on pre-existing health conditions like diabetes, heart diseases.\n",
        "\n",
        "**Vaccination Status**: Details on COVID-19 vaccination type and doses.\n",
        "\n",
        "**Geographical Information**: Patient's location to identify regional disease patterns.\n",
        "\n",
        "**Behavioral Data**: Compliance with mask-wearing, social distancing, and hygiene.\n",
        "\n",
        "\n",
        "*Future Disease Applications*\n",
        "\n",
        "\n",
        "**Methodology Adaptability**: Techniques used can be tailored for other diseases needing prompt diagnosis.\n",
        "\n",
        "**Early Warning Systems**: Potential to develop systems for early detection of emerging infectious diseases.\n",
        "\n",
        "**Personalized Medicine**: Applicable in creating individualized treatment approaches for various illnesses.\n",
        "\n",
        "**Efficient Resource Use**: Helpful in resource planning and allocation during health crises.\n",
        "\n",
        "***Conclusion***\n",
        "\n",
        "Despite current knowledge gaps, the project's methodologies offer significant value for immediate COVID-19 management and future disease prediction, aiding in public health enhancement and patient care.\n",
        "\n",
        "\n",
        "\n",
        "\n"
      ]
    },
    {
      "cell_type": "markdown",
      "metadata": {
        "id": "y58RpwMQfWAK"
      },
      "source": [
        "# ***SECTION : 2***"
      ]
    },
    {
      "cell_type": "markdown",
      "metadata": {
        "id": "xiqn3kO_ffoN"
      },
      "source": [
        "## **INITIAL HYPOTHESIS**\n",
        "Based on the dataset provided, I have formed the following hypothesis:\n",
        "\n",
        "**Hypothesis 1 :**  Fever symptom is strongly correlated with Corona column.\n",
        "\n",
        "This hypothesis proposes that Fever symptom is a key indicator in identifying COVID-19 positive/negative cases. By analyzing this 'Fever' variable in the dataset, we can explore the relationship between the variable and the likelihood of a person being COVID positive or negative.\n",
        "\n",
        "**Hypothesis 2 :** Individuals who were in direct contact with confirmed COVID-19 positive patients are more likely to test positive for the virus.\n",
        "\n",
        "This hypothesis suggests that individuals who were in close contact with confirmed COVID-19 positive patients are at a higher risk of being corona positive. By analyzing the variable 'Known_contact' in the dataset, we can investigate whether there is a correlation between known contact and COVID-19 positive patients and the likelihood of being covid positive.\n",
        "\n",
        "**Hypothesis 3 :** Class imbalance between corona positive and negative, leading to low recall of ML prediction.\n",
        "\n",
        "This hypothesis suggests that there are more negative patients than positive leading to class imbalance, and thus, we will get low recall. By model training and evaluating, we can conclude that it is true or not."
      ]
    },
    {
      "cell_type": "markdown",
      "metadata": {
        "id": "33D6V3Y-oNn4"
      },
      "source": [
        "# ***SECTION 3: DATA ANALYSIS APPROACH***\n",
        "\n"
      ]
    },
    {
      "cell_type": "markdown",
      "metadata": {
        "id": "By31NcETGfE5"
      },
      "source": [
        "This Data Analysis Approcah includes :\n",
        "\n",
        "**Data Understanding :**\n",
        " Understanding the structure helps in identifying the right preprocessing steps and analytical techniques.\n",
        "\n",
        "**Data Cleaning :**\n",
        " It involves preparing the raw data for analysis by making it more suitable for the models we plan to use.\n",
        "\n",
        " In this dataset, we ensured that each column in our dataset is of the correct data type. Spotted and corrected errors in the dataset, such as typos, incorrect values, or mislabeled classes, is essential for maintaining data integrity and identified duplicate entries to prevent skewing the data analysis. Dropped unwanted columns which improves the model's accuracy and simplifies the model.\n",
        "\n",
        " **Exploratory Data Analysis:**\n",
        " It involves analyzing and investigating data sets to discover patterns, test hypotheses, and check assumptions with the help of graphical representations. EDA is essential for gaining insights from data before building models.\n",
        "\n",
        " **Feature Engineering:**\n",
        " Feature encoding transforms the categorical values into a numerical format that can be understood by the models and significantly impact the learning process and the predictive power of the model.\n",
        "\n",
        " Correlation analysis helped in identifying features that have a strong relationship with the target variable. Features with higher correlation can be more informative for the model, potentially leading to better predictions.\n",
        "\n",
        "\n"
      ]
    },
    {
      "cell_type": "markdown",
      "metadata": {
        "id": "MsBftCWrJIuQ"
      },
      "source": [
        "## DATA UNDERSTANDING"
      ]
    },
    {
      "cell_type": "markdown",
      "metadata": {
        "id": "QshKKZnfLvG7"
      },
      "source": [
        "Importing modules and Reading the dataset"
      ]
    },
    {
      "cell_type": "code",
      "execution_count": 7,
      "metadata": {
        "colab": {
          "base_uri": "https://localhost:8080/",
          "height": 461
        },
        "id": "expO2p6KZeCd",
        "outputId": "02718539-5e7a-45a5-e6d5-290feec2c018"
      },
      "outputs": [
        {
          "data": {
            "text/html": [
              "\n",
              "  <div id=\"df-8baef641-f47f-4c6e-91eb-b6bb6564f738\" class=\"colab-df-container\">\n",
              "    <div>\n",
              "<style scoped>\n",
              "    .dataframe tbody tr th:only-of-type {\n",
              "        vertical-align: middle;\n",
              "    }\n",
              "\n",
              "    .dataframe tbody tr th {\n",
              "        vertical-align: top;\n",
              "    }\n",
              "\n",
              "    .dataframe thead th {\n",
              "        text-align: right;\n",
              "    }\n",
              "</style>\n",
              "<table border=\"1\" class=\"dataframe\">\n",
              "  <thead>\n",
              "    <tr style=\"text-align: right;\">\n",
              "      <th></th>\n",
              "      <th>Ind_ID</th>\n",
              "      <th>Test_date</th>\n",
              "      <th>Cough_symptoms</th>\n",
              "      <th>Fever</th>\n",
              "      <th>Sore_throat</th>\n",
              "      <th>Shortness_of_breath</th>\n",
              "      <th>Headache</th>\n",
              "      <th>Corona</th>\n",
              "      <th>Age_60_above</th>\n",
              "      <th>Sex</th>\n",
              "      <th>Known_contact</th>\n",
              "    </tr>\n",
              "  </thead>\n",
              "  <tbody>\n",
              "    <tr>\n",
              "      <th>0</th>\n",
              "      <td>1</td>\n",
              "      <td>11-03-2020</td>\n",
              "      <td>TRUE</td>\n",
              "      <td>FALSE</td>\n",
              "      <td>TRUE</td>\n",
              "      <td>FALSE</td>\n",
              "      <td>FALSE</td>\n",
              "      <td>negative</td>\n",
              "      <td>None</td>\n",
              "      <td>None</td>\n",
              "      <td>Abroad</td>\n",
              "    </tr>\n",
              "    <tr>\n",
              "      <th>1</th>\n",
              "      <td>2</td>\n",
              "      <td>11-03-2020</td>\n",
              "      <td>FALSE</td>\n",
              "      <td>TRUE</td>\n",
              "      <td>FALSE</td>\n",
              "      <td>FALSE</td>\n",
              "      <td>FALSE</td>\n",
              "      <td>positive</td>\n",
              "      <td>None</td>\n",
              "      <td>None</td>\n",
              "      <td>Abroad</td>\n",
              "    </tr>\n",
              "    <tr>\n",
              "      <th>2</th>\n",
              "      <td>3</td>\n",
              "      <td>11-03-2020</td>\n",
              "      <td>FALSE</td>\n",
              "      <td>TRUE</td>\n",
              "      <td>FALSE</td>\n",
              "      <td>FALSE</td>\n",
              "      <td>FALSE</td>\n",
              "      <td>positive</td>\n",
              "      <td>None</td>\n",
              "      <td>None</td>\n",
              "      <td>Abroad</td>\n",
              "    </tr>\n",
              "    <tr>\n",
              "      <th>3</th>\n",
              "      <td>4</td>\n",
              "      <td>11-03-2020</td>\n",
              "      <td>TRUE</td>\n",
              "      <td>FALSE</td>\n",
              "      <td>FALSE</td>\n",
              "      <td>FALSE</td>\n",
              "      <td>FALSE</td>\n",
              "      <td>negative</td>\n",
              "      <td>None</td>\n",
              "      <td>None</td>\n",
              "      <td>Abroad</td>\n",
              "    </tr>\n",
              "    <tr>\n",
              "      <th>4</th>\n",
              "      <td>5</td>\n",
              "      <td>11-03-2020</td>\n",
              "      <td>TRUE</td>\n",
              "      <td>FALSE</td>\n",
              "      <td>FALSE</td>\n",
              "      <td>FALSE</td>\n",
              "      <td>FALSE</td>\n",
              "      <td>negative</td>\n",
              "      <td>None</td>\n",
              "      <td>None</td>\n",
              "      <td>Contact with confirmed</td>\n",
              "    </tr>\n",
              "    <tr>\n",
              "      <th>...</th>\n",
              "      <td>...</td>\n",
              "      <td>...</td>\n",
              "      <td>...</td>\n",
              "      <td>...</td>\n",
              "      <td>...</td>\n",
              "      <td>...</td>\n",
              "      <td>...</td>\n",
              "      <td>...</td>\n",
              "      <td>...</td>\n",
              "      <td>...</td>\n",
              "      <td>...</td>\n",
              "    </tr>\n",
              "    <tr>\n",
              "      <th>278843</th>\n",
              "      <td>278844</td>\n",
              "      <td>30-04-2020</td>\n",
              "      <td>False</td>\n",
              "      <td>False</td>\n",
              "      <td>False</td>\n",
              "      <td>False</td>\n",
              "      <td>False</td>\n",
              "      <td>positive</td>\n",
              "      <td>None</td>\n",
              "      <td>male</td>\n",
              "      <td>Other</td>\n",
              "    </tr>\n",
              "    <tr>\n",
              "      <th>278844</th>\n",
              "      <td>278845</td>\n",
              "      <td>30-04-2020</td>\n",
              "      <td>False</td>\n",
              "      <td>False</td>\n",
              "      <td>False</td>\n",
              "      <td>False</td>\n",
              "      <td>False</td>\n",
              "      <td>negative</td>\n",
              "      <td>None</td>\n",
              "      <td>female</td>\n",
              "      <td>Other</td>\n",
              "    </tr>\n",
              "    <tr>\n",
              "      <th>278845</th>\n",
              "      <td>278846</td>\n",
              "      <td>30-04-2020</td>\n",
              "      <td>False</td>\n",
              "      <td>False</td>\n",
              "      <td>False</td>\n",
              "      <td>False</td>\n",
              "      <td>False</td>\n",
              "      <td>negative</td>\n",
              "      <td>None</td>\n",
              "      <td>male</td>\n",
              "      <td>Other</td>\n",
              "    </tr>\n",
              "    <tr>\n",
              "      <th>278846</th>\n",
              "      <td>278847</td>\n",
              "      <td>30-04-2020</td>\n",
              "      <td>False</td>\n",
              "      <td>False</td>\n",
              "      <td>False</td>\n",
              "      <td>False</td>\n",
              "      <td>False</td>\n",
              "      <td>negative</td>\n",
              "      <td>None</td>\n",
              "      <td>male</td>\n",
              "      <td>Other</td>\n",
              "    </tr>\n",
              "    <tr>\n",
              "      <th>278847</th>\n",
              "      <td>278848</td>\n",
              "      <td>30-04-2020</td>\n",
              "      <td>False</td>\n",
              "      <td>False</td>\n",
              "      <td>False</td>\n",
              "      <td>False</td>\n",
              "      <td>False</td>\n",
              "      <td>negative</td>\n",
              "      <td>None</td>\n",
              "      <td>female</td>\n",
              "      <td>Other</td>\n",
              "    </tr>\n",
              "  </tbody>\n",
              "</table>\n",
              "<p>278848 rows × 11 columns</p>\n",
              "</div>\n",
              "    <div class=\"colab-df-buttons\">\n",
              "\n",
              "  <div class=\"colab-df-container\">\n",
              "    <button class=\"colab-df-convert\" onclick=\"convertToInteractive('df-8baef641-f47f-4c6e-91eb-b6bb6564f738')\"\n",
              "            title=\"Convert this dataframe to an interactive table.\"\n",
              "            style=\"display:none;\">\n",
              "\n",
              "  <svg xmlns=\"http://www.w3.org/2000/svg\" height=\"24px\" viewBox=\"0 -960 960 960\">\n",
              "    <path d=\"M120-120v-720h720v720H120Zm60-500h600v-160H180v160Zm220 220h160v-160H400v160Zm0 220h160v-160H400v160ZM180-400h160v-160H180v160Zm440 0h160v-160H620v160ZM180-180h160v-160H180v160Zm440 0h160v-160H620v160Z\"/>\n",
              "  </svg>\n",
              "    </button>\n",
              "\n",
              "  <style>\n",
              "    .colab-df-container {\n",
              "      display:flex;\n",
              "      gap: 12px;\n",
              "    }\n",
              "\n",
              "    .colab-df-convert {\n",
              "      background-color: #E8F0FE;\n",
              "      border: none;\n",
              "      border-radius: 50%;\n",
              "      cursor: pointer;\n",
              "      display: none;\n",
              "      fill: #1967D2;\n",
              "      height: 32px;\n",
              "      padding: 0 0 0 0;\n",
              "      width: 32px;\n",
              "    }\n",
              "\n",
              "    .colab-df-convert:hover {\n",
              "      background-color: #E2EBFA;\n",
              "      box-shadow: 0px 1px 2px rgba(60, 64, 67, 0.3), 0px 1px 3px 1px rgba(60, 64, 67, 0.15);\n",
              "      fill: #174EA6;\n",
              "    }\n",
              "\n",
              "    .colab-df-buttons div {\n",
              "      margin-bottom: 4px;\n",
              "    }\n",
              "\n",
              "    [theme=dark] .colab-df-convert {\n",
              "      background-color: #3B4455;\n",
              "      fill: #D2E3FC;\n",
              "    }\n",
              "\n",
              "    [theme=dark] .colab-df-convert:hover {\n",
              "      background-color: #434B5C;\n",
              "      box-shadow: 0px 1px 3px 1px rgba(0, 0, 0, 0.15);\n",
              "      filter: drop-shadow(0px 1px 2px rgba(0, 0, 0, 0.3));\n",
              "      fill: #FFFFFF;\n",
              "    }\n",
              "  </style>\n",
              "\n",
              "    <script>\n",
              "      const buttonEl =\n",
              "        document.querySelector('#df-8baef641-f47f-4c6e-91eb-b6bb6564f738 button.colab-df-convert');\n",
              "      buttonEl.style.display =\n",
              "        google.colab.kernel.accessAllowed ? 'block' : 'none';\n",
              "\n",
              "      async function convertToInteractive(key) {\n",
              "        const element = document.querySelector('#df-8baef641-f47f-4c6e-91eb-b6bb6564f738');\n",
              "        const dataTable =\n",
              "          await google.colab.kernel.invokeFunction('convertToInteractive',\n",
              "                                                    [key], {});\n",
              "        if (!dataTable) return;\n",
              "\n",
              "        const docLinkHtml = 'Like what you see? Visit the ' +\n",
              "          '<a target=\"_blank\" href=https://colab.research.google.com/notebooks/data_table.ipynb>data table notebook</a>'\n",
              "          + ' to learn more about interactive tables.';\n",
              "        element.innerHTML = '';\n",
              "        dataTable['output_type'] = 'display_data';\n",
              "        await google.colab.output.renderOutput(dataTable, element);\n",
              "        const docLink = document.createElement('div');\n",
              "        docLink.innerHTML = docLinkHtml;\n",
              "        element.appendChild(docLink);\n",
              "      }\n",
              "    </script>\n",
              "  </div>\n",
              "\n",
              "\n",
              "<div id=\"df-de01dca7-1d65-4338-a05d-acbd584c467b\">\n",
              "  <button class=\"colab-df-quickchart\" onclick=\"quickchart('df-de01dca7-1d65-4338-a05d-acbd584c467b')\"\n",
              "            title=\"Suggest charts\"\n",
              "            style=\"display:none;\">\n",
              "\n",
              "<svg xmlns=\"http://www.w3.org/2000/svg\" height=\"24px\"viewBox=\"0 0 24 24\"\n",
              "     width=\"24px\">\n",
              "    <g>\n",
              "        <path d=\"M19 3H5c-1.1 0-2 .9-2 2v14c0 1.1.9 2 2 2h14c1.1 0 2-.9 2-2V5c0-1.1-.9-2-2-2zM9 17H7v-7h2v7zm4 0h-2V7h2v10zm4 0h-2v-4h2v4z\"/>\n",
              "    </g>\n",
              "</svg>\n",
              "  </button>\n",
              "\n",
              "<style>\n",
              "  .colab-df-quickchart {\n",
              "      --bg-color: #E8F0FE;\n",
              "      --fill-color: #1967D2;\n",
              "      --hover-bg-color: #E2EBFA;\n",
              "      --hover-fill-color: #174EA6;\n",
              "      --disabled-fill-color: #AAA;\n",
              "      --disabled-bg-color: #DDD;\n",
              "  }\n",
              "\n",
              "  [theme=dark] .colab-df-quickchart {\n",
              "      --bg-color: #3B4455;\n",
              "      --fill-color: #D2E3FC;\n",
              "      --hover-bg-color: #434B5C;\n",
              "      --hover-fill-color: #FFFFFF;\n",
              "      --disabled-bg-color: #3B4455;\n",
              "      --disabled-fill-color: #666;\n",
              "  }\n",
              "\n",
              "  .colab-df-quickchart {\n",
              "    background-color: var(--bg-color);\n",
              "    border: none;\n",
              "    border-radius: 50%;\n",
              "    cursor: pointer;\n",
              "    display: none;\n",
              "    fill: var(--fill-color);\n",
              "    height: 32px;\n",
              "    padding: 0;\n",
              "    width: 32px;\n",
              "  }\n",
              "\n",
              "  .colab-df-quickchart:hover {\n",
              "    background-color: var(--hover-bg-color);\n",
              "    box-shadow: 0 1px 2px rgba(60, 64, 67, 0.3), 0 1px 3px 1px rgba(60, 64, 67, 0.15);\n",
              "    fill: var(--button-hover-fill-color);\n",
              "  }\n",
              "\n",
              "  .colab-df-quickchart-complete:disabled,\n",
              "  .colab-df-quickchart-complete:disabled:hover {\n",
              "    background-color: var(--disabled-bg-color);\n",
              "    fill: var(--disabled-fill-color);\n",
              "    box-shadow: none;\n",
              "  }\n",
              "\n",
              "  .colab-df-spinner {\n",
              "    border: 2px solid var(--fill-color);\n",
              "    border-color: transparent;\n",
              "    border-bottom-color: var(--fill-color);\n",
              "    animation:\n",
              "      spin 1s steps(1) infinite;\n",
              "  }\n",
              "\n",
              "  @keyframes spin {\n",
              "    0% {\n",
              "      border-color: transparent;\n",
              "      border-bottom-color: var(--fill-color);\n",
              "      border-left-color: var(--fill-color);\n",
              "    }\n",
              "    20% {\n",
              "      border-color: transparent;\n",
              "      border-left-color: var(--fill-color);\n",
              "      border-top-color: var(--fill-color);\n",
              "    }\n",
              "    30% {\n",
              "      border-color: transparent;\n",
              "      border-left-color: var(--fill-color);\n",
              "      border-top-color: var(--fill-color);\n",
              "      border-right-color: var(--fill-color);\n",
              "    }\n",
              "    40% {\n",
              "      border-color: transparent;\n",
              "      border-right-color: var(--fill-color);\n",
              "      border-top-color: var(--fill-color);\n",
              "    }\n",
              "    60% {\n",
              "      border-color: transparent;\n",
              "      border-right-color: var(--fill-color);\n",
              "    }\n",
              "    80% {\n",
              "      border-color: transparent;\n",
              "      border-right-color: var(--fill-color);\n",
              "      border-bottom-color: var(--fill-color);\n",
              "    }\n",
              "    90% {\n",
              "      border-color: transparent;\n",
              "      border-bottom-color: var(--fill-color);\n",
              "    }\n",
              "  }\n",
              "</style>\n",
              "\n",
              "  <script>\n",
              "    async function quickchart(key) {\n",
              "      const quickchartButtonEl =\n",
              "        document.querySelector('#' + key + ' button');\n",
              "      quickchartButtonEl.disabled = true;  // To prevent multiple clicks.\n",
              "      quickchartButtonEl.classList.add('colab-df-spinner');\n",
              "      try {\n",
              "        const charts = await google.colab.kernel.invokeFunction(\n",
              "            'suggestCharts', [key], {});\n",
              "      } catch (error) {\n",
              "        console.error('Error during call to suggestCharts:', error);\n",
              "      }\n",
              "      quickchartButtonEl.classList.remove('colab-df-spinner');\n",
              "      quickchartButtonEl.classList.add('colab-df-quickchart-complete');\n",
              "    }\n",
              "    (() => {\n",
              "      let quickchartButtonEl =\n",
              "        document.querySelector('#df-de01dca7-1d65-4338-a05d-acbd584c467b button');\n",
              "      quickchartButtonEl.style.display =\n",
              "        google.colab.kernel.accessAllowed ? 'block' : 'none';\n",
              "    })();\n",
              "  </script>\n",
              "</div>\n",
              "\n",
              "  <div id=\"id_f33bdf0f-33d0-410a-8a58-db1ebf7c133f\">\n",
              "    <style>\n",
              "      .colab-df-generate {\n",
              "        background-color: #E8F0FE;\n",
              "        border: none;\n",
              "        border-radius: 50%;\n",
              "        cursor: pointer;\n",
              "        display: none;\n",
              "        fill: #1967D2;\n",
              "        height: 32px;\n",
              "        padding: 0 0 0 0;\n",
              "        width: 32px;\n",
              "      }\n",
              "\n",
              "      .colab-df-generate:hover {\n",
              "        background-color: #E2EBFA;\n",
              "        box-shadow: 0px 1px 2px rgba(60, 64, 67, 0.3), 0px 1px 3px 1px rgba(60, 64, 67, 0.15);\n",
              "        fill: #174EA6;\n",
              "      }\n",
              "\n",
              "      [theme=dark] .colab-df-generate {\n",
              "        background-color: #3B4455;\n",
              "        fill: #D2E3FC;\n",
              "      }\n",
              "\n",
              "      [theme=dark] .colab-df-generate:hover {\n",
              "        background-color: #434B5C;\n",
              "        box-shadow: 0px 1px 3px 1px rgba(0, 0, 0, 0.15);\n",
              "        filter: drop-shadow(0px 1px 2px rgba(0, 0, 0, 0.3));\n",
              "        fill: #FFFFFF;\n",
              "      }\n",
              "    </style>\n",
              "    <button class=\"colab-df-generate\" onclick=\"generateWithVariable('df')\"\n",
              "            title=\"Generate code using this dataframe.\"\n",
              "            style=\"display:none;\">\n",
              "\n",
              "  <svg xmlns=\"http://www.w3.org/2000/svg\" height=\"24px\"viewBox=\"0 0 24 24\"\n",
              "       width=\"24px\">\n",
              "    <path d=\"M7,19H8.4L18.45,9,17,7.55,7,17.6ZM5,21V16.75L18.45,3.32a2,2,0,0,1,2.83,0l1.4,1.43a1.91,1.91,0,0,1,.58,1.4,1.91,1.91,0,0,1-.58,1.4L9.25,21ZM18.45,9,17,7.55Zm-12,3A5.31,5.31,0,0,0,4.9,8.1,5.31,5.31,0,0,0,1,6.5,5.31,5.31,0,0,0,4.9,4.9,5.31,5.31,0,0,0,6.5,1,5.31,5.31,0,0,0,8.1,4.9,5.31,5.31,0,0,0,12,6.5,5.46,5.46,0,0,0,6.5,12Z\"/>\n",
              "  </svg>\n",
              "    </button>\n",
              "    <script>\n",
              "      (() => {\n",
              "      const buttonEl =\n",
              "        document.querySelector('#id_f33bdf0f-33d0-410a-8a58-db1ebf7c133f button.colab-df-generate');\n",
              "      buttonEl.style.display =\n",
              "        google.colab.kernel.accessAllowed ? 'block' : 'none';\n",
              "\n",
              "      buttonEl.onclick = () => {\n",
              "        google.colab.notebook.generateWithVariable('df');\n",
              "      }\n",
              "      })();\n",
              "    </script>\n",
              "  </div>\n",
              "\n",
              "    </div>\n",
              "  </div>\n"
            ],
            "text/plain": [
              "        Ind_ID   Test_date Cough_symptoms  Fever Sore_throat  \\\n",
              "0            1  11-03-2020           TRUE  FALSE        TRUE   \n",
              "1            2  11-03-2020          FALSE   TRUE       FALSE   \n",
              "2            3  11-03-2020          FALSE   TRUE       FALSE   \n",
              "3            4  11-03-2020           TRUE  FALSE       FALSE   \n",
              "4            5  11-03-2020           TRUE  FALSE       FALSE   \n",
              "...        ...         ...            ...    ...         ...   \n",
              "278843  278844  30-04-2020          False  False       False   \n",
              "278844  278845  30-04-2020          False  False       False   \n",
              "278845  278846  30-04-2020          False  False       False   \n",
              "278846  278847  30-04-2020          False  False       False   \n",
              "278847  278848  30-04-2020          False  False       False   \n",
              "\n",
              "       Shortness_of_breath Headache    Corona Age_60_above     Sex  \\\n",
              "0                    FALSE    FALSE  negative         None    None   \n",
              "1                    FALSE    FALSE  positive         None    None   \n",
              "2                    FALSE    FALSE  positive         None    None   \n",
              "3                    FALSE    FALSE  negative         None    None   \n",
              "4                    FALSE    FALSE  negative         None    None   \n",
              "...                    ...      ...       ...          ...     ...   \n",
              "278843               False    False  positive         None    male   \n",
              "278844               False    False  negative         None  female   \n",
              "278845               False    False  negative         None    male   \n",
              "278846               False    False  negative         None    male   \n",
              "278847               False    False  negative         None  female   \n",
              "\n",
              "                 Known_contact  \n",
              "0                       Abroad  \n",
              "1                       Abroad  \n",
              "2                       Abroad  \n",
              "3                       Abroad  \n",
              "4       Contact with confirmed  \n",
              "...                        ...  \n",
              "278843                   Other  \n",
              "278844                   Other  \n",
              "278845                   Other  \n",
              "278846                   Other  \n",
              "278847                   Other  \n",
              "\n",
              "[278848 rows x 11 columns]"
            ]
          },
          "execution_count": 7,
          "metadata": {},
          "output_type": "execute_result"
        }
      ],
      "source": [
        "import numpy as np\n",
        "import pandas as pd\n",
        "import seaborn as sns\n",
        "import matplotlib.pyplot as plt\n",
        "import plotly.express as px\n",
        "import sklearn\n",
        "import warnings\n",
        "warnings.filterwarnings(\"ignore\") #ignoring warnings\n",
        "\n",
        "\n",
        "\n",
        "# Read the data set\n",
        "df = pd.read_csv(\"/content/corona_tested_006.csv\")\n",
        "df"
      ]
    },
    {
      "cell_type": "code",
      "execution_count": 8,
      "metadata": {
        "colab": {
          "base_uri": "https://localhost:8080/"
        },
        "id": "Dn8-tyYKMLs4",
        "outputId": "f1084430-7726-4f0f-8a09-fb71d7c31684"
      },
      "outputs": [
        {
          "data": {
            "text/plain": [
              "Index(['Ind_ID', 'Test_date', 'Cough_symptoms', 'Fever', 'Sore_throat',\n",
              "       'Shortness_of_breath', 'Headache', 'Corona', 'Age_60_above', 'Sex',\n",
              "       'Known_contact'],\n",
              "      dtype='object')"
            ]
          },
          "execution_count": 8,
          "metadata": {},
          "output_type": "execute_result"
        }
      ],
      "source": [
        "# getting column names in df\n",
        "df.columns"
      ]
    },
    {
      "cell_type": "code",
      "execution_count": 9,
      "metadata": {
        "id": "C8O2u2d__Obm"
      },
      "outputs": [],
      "source": [
        "# creating a copy of the dataset\n",
        "data = df.copy()"
      ]
    },
    {
      "cell_type": "code",
      "execution_count": 10,
      "metadata": {
        "colab": {
          "base_uri": "https://localhost:8080/",
          "height": 244
        },
        "id": "LiEJv7O1Gv1E",
        "outputId": "817e469f-b094-41a7-9418-421313231f6a"
      },
      "outputs": [
        {
          "data": {
            "text/html": [
              "\n",
              "  <div id=\"df-f97bd279-80ea-49ae-8c51-9e62594fc941\" class=\"colab-df-container\">\n",
              "    <div>\n",
              "<style scoped>\n",
              "    .dataframe tbody tr th:only-of-type {\n",
              "        vertical-align: middle;\n",
              "    }\n",
              "\n",
              "    .dataframe tbody tr th {\n",
              "        vertical-align: top;\n",
              "    }\n",
              "\n",
              "    .dataframe thead th {\n",
              "        text-align: right;\n",
              "    }\n",
              "</style>\n",
              "<table border=\"1\" class=\"dataframe\">\n",
              "  <thead>\n",
              "    <tr style=\"text-align: right;\">\n",
              "      <th></th>\n",
              "      <th>Ind_ID</th>\n",
              "      <th>Test_date</th>\n",
              "      <th>Cough_symptoms</th>\n",
              "      <th>Fever</th>\n",
              "      <th>Sore_throat</th>\n",
              "      <th>Shortness_of_breath</th>\n",
              "      <th>Headache</th>\n",
              "      <th>Corona</th>\n",
              "      <th>Age_60_above</th>\n",
              "      <th>Sex</th>\n",
              "      <th>Known_contact</th>\n",
              "    </tr>\n",
              "  </thead>\n",
              "  <tbody>\n",
              "    <tr>\n",
              "      <th>0</th>\n",
              "      <td>1</td>\n",
              "      <td>11-03-2020</td>\n",
              "      <td>TRUE</td>\n",
              "      <td>FALSE</td>\n",
              "      <td>TRUE</td>\n",
              "      <td>FALSE</td>\n",
              "      <td>FALSE</td>\n",
              "      <td>negative</td>\n",
              "      <td>None</td>\n",
              "      <td>None</td>\n",
              "      <td>Abroad</td>\n",
              "    </tr>\n",
              "    <tr>\n",
              "      <th>1</th>\n",
              "      <td>2</td>\n",
              "      <td>11-03-2020</td>\n",
              "      <td>FALSE</td>\n",
              "      <td>TRUE</td>\n",
              "      <td>FALSE</td>\n",
              "      <td>FALSE</td>\n",
              "      <td>FALSE</td>\n",
              "      <td>positive</td>\n",
              "      <td>None</td>\n",
              "      <td>None</td>\n",
              "      <td>Abroad</td>\n",
              "    </tr>\n",
              "    <tr>\n",
              "      <th>2</th>\n",
              "      <td>3</td>\n",
              "      <td>11-03-2020</td>\n",
              "      <td>FALSE</td>\n",
              "      <td>TRUE</td>\n",
              "      <td>FALSE</td>\n",
              "      <td>FALSE</td>\n",
              "      <td>FALSE</td>\n",
              "      <td>positive</td>\n",
              "      <td>None</td>\n",
              "      <td>None</td>\n",
              "      <td>Abroad</td>\n",
              "    </tr>\n",
              "    <tr>\n",
              "      <th>3</th>\n",
              "      <td>4</td>\n",
              "      <td>11-03-2020</td>\n",
              "      <td>TRUE</td>\n",
              "      <td>FALSE</td>\n",
              "      <td>FALSE</td>\n",
              "      <td>FALSE</td>\n",
              "      <td>FALSE</td>\n",
              "      <td>negative</td>\n",
              "      <td>None</td>\n",
              "      <td>None</td>\n",
              "      <td>Abroad</td>\n",
              "    </tr>\n",
              "    <tr>\n",
              "      <th>4</th>\n",
              "      <td>5</td>\n",
              "      <td>11-03-2020</td>\n",
              "      <td>TRUE</td>\n",
              "      <td>FALSE</td>\n",
              "      <td>FALSE</td>\n",
              "      <td>FALSE</td>\n",
              "      <td>FALSE</td>\n",
              "      <td>negative</td>\n",
              "      <td>None</td>\n",
              "      <td>None</td>\n",
              "      <td>Contact with confirmed</td>\n",
              "    </tr>\n",
              "  </tbody>\n",
              "</table>\n",
              "</div>\n",
              "    <div class=\"colab-df-buttons\">\n",
              "\n",
              "  <div class=\"colab-df-container\">\n",
              "    <button class=\"colab-df-convert\" onclick=\"convertToInteractive('df-f97bd279-80ea-49ae-8c51-9e62594fc941')\"\n",
              "            title=\"Convert this dataframe to an interactive table.\"\n",
              "            style=\"display:none;\">\n",
              "\n",
              "  <svg xmlns=\"http://www.w3.org/2000/svg\" height=\"24px\" viewBox=\"0 -960 960 960\">\n",
              "    <path d=\"M120-120v-720h720v720H120Zm60-500h600v-160H180v160Zm220 220h160v-160H400v160Zm0 220h160v-160H400v160ZM180-400h160v-160H180v160Zm440 0h160v-160H620v160ZM180-180h160v-160H180v160Zm440 0h160v-160H620v160Z\"/>\n",
              "  </svg>\n",
              "    </button>\n",
              "\n",
              "  <style>\n",
              "    .colab-df-container {\n",
              "      display:flex;\n",
              "      gap: 12px;\n",
              "    }\n",
              "\n",
              "    .colab-df-convert {\n",
              "      background-color: #E8F0FE;\n",
              "      border: none;\n",
              "      border-radius: 50%;\n",
              "      cursor: pointer;\n",
              "      display: none;\n",
              "      fill: #1967D2;\n",
              "      height: 32px;\n",
              "      padding: 0 0 0 0;\n",
              "      width: 32px;\n",
              "    }\n",
              "\n",
              "    .colab-df-convert:hover {\n",
              "      background-color: #E2EBFA;\n",
              "      box-shadow: 0px 1px 2px rgba(60, 64, 67, 0.3), 0px 1px 3px 1px rgba(60, 64, 67, 0.15);\n",
              "      fill: #174EA6;\n",
              "    }\n",
              "\n",
              "    .colab-df-buttons div {\n",
              "      margin-bottom: 4px;\n",
              "    }\n",
              "\n",
              "    [theme=dark] .colab-df-convert {\n",
              "      background-color: #3B4455;\n",
              "      fill: #D2E3FC;\n",
              "    }\n",
              "\n",
              "    [theme=dark] .colab-df-convert:hover {\n",
              "      background-color: #434B5C;\n",
              "      box-shadow: 0px 1px 3px 1px rgba(0, 0, 0, 0.15);\n",
              "      filter: drop-shadow(0px 1px 2px rgba(0, 0, 0, 0.3));\n",
              "      fill: #FFFFFF;\n",
              "    }\n",
              "  </style>\n",
              "\n",
              "    <script>\n",
              "      const buttonEl =\n",
              "        document.querySelector('#df-f97bd279-80ea-49ae-8c51-9e62594fc941 button.colab-df-convert');\n",
              "      buttonEl.style.display =\n",
              "        google.colab.kernel.accessAllowed ? 'block' : 'none';\n",
              "\n",
              "      async function convertToInteractive(key) {\n",
              "        const element = document.querySelector('#df-f97bd279-80ea-49ae-8c51-9e62594fc941');\n",
              "        const dataTable =\n",
              "          await google.colab.kernel.invokeFunction('convertToInteractive',\n",
              "                                                    [key], {});\n",
              "        if (!dataTable) return;\n",
              "\n",
              "        const docLinkHtml = 'Like what you see? Visit the ' +\n",
              "          '<a target=\"_blank\" href=https://colab.research.google.com/notebooks/data_table.ipynb>data table notebook</a>'\n",
              "          + ' to learn more about interactive tables.';\n",
              "        element.innerHTML = '';\n",
              "        dataTable['output_type'] = 'display_data';\n",
              "        await google.colab.output.renderOutput(dataTable, element);\n",
              "        const docLink = document.createElement('div');\n",
              "        docLink.innerHTML = docLinkHtml;\n",
              "        element.appendChild(docLink);\n",
              "      }\n",
              "    </script>\n",
              "  </div>\n",
              "\n",
              "\n",
              "<div id=\"df-2fc20e76-1aa0-4347-a91b-8fa3d2aa6469\">\n",
              "  <button class=\"colab-df-quickchart\" onclick=\"quickchart('df-2fc20e76-1aa0-4347-a91b-8fa3d2aa6469')\"\n",
              "            title=\"Suggest charts\"\n",
              "            style=\"display:none;\">\n",
              "\n",
              "<svg xmlns=\"http://www.w3.org/2000/svg\" height=\"24px\"viewBox=\"0 0 24 24\"\n",
              "     width=\"24px\">\n",
              "    <g>\n",
              "        <path d=\"M19 3H5c-1.1 0-2 .9-2 2v14c0 1.1.9 2 2 2h14c1.1 0 2-.9 2-2V5c0-1.1-.9-2-2-2zM9 17H7v-7h2v7zm4 0h-2V7h2v10zm4 0h-2v-4h2v4z\"/>\n",
              "    </g>\n",
              "</svg>\n",
              "  </button>\n",
              "\n",
              "<style>\n",
              "  .colab-df-quickchart {\n",
              "      --bg-color: #E8F0FE;\n",
              "      --fill-color: #1967D2;\n",
              "      --hover-bg-color: #E2EBFA;\n",
              "      --hover-fill-color: #174EA6;\n",
              "      --disabled-fill-color: #AAA;\n",
              "      --disabled-bg-color: #DDD;\n",
              "  }\n",
              "\n",
              "  [theme=dark] .colab-df-quickchart {\n",
              "      --bg-color: #3B4455;\n",
              "      --fill-color: #D2E3FC;\n",
              "      --hover-bg-color: #434B5C;\n",
              "      --hover-fill-color: #FFFFFF;\n",
              "      --disabled-bg-color: #3B4455;\n",
              "      --disabled-fill-color: #666;\n",
              "  }\n",
              "\n",
              "  .colab-df-quickchart {\n",
              "    background-color: var(--bg-color);\n",
              "    border: none;\n",
              "    border-radius: 50%;\n",
              "    cursor: pointer;\n",
              "    display: none;\n",
              "    fill: var(--fill-color);\n",
              "    height: 32px;\n",
              "    padding: 0;\n",
              "    width: 32px;\n",
              "  }\n",
              "\n",
              "  .colab-df-quickchart:hover {\n",
              "    background-color: var(--hover-bg-color);\n",
              "    box-shadow: 0 1px 2px rgba(60, 64, 67, 0.3), 0 1px 3px 1px rgba(60, 64, 67, 0.15);\n",
              "    fill: var(--button-hover-fill-color);\n",
              "  }\n",
              "\n",
              "  .colab-df-quickchart-complete:disabled,\n",
              "  .colab-df-quickchart-complete:disabled:hover {\n",
              "    background-color: var(--disabled-bg-color);\n",
              "    fill: var(--disabled-fill-color);\n",
              "    box-shadow: none;\n",
              "  }\n",
              "\n",
              "  .colab-df-spinner {\n",
              "    border: 2px solid var(--fill-color);\n",
              "    border-color: transparent;\n",
              "    border-bottom-color: var(--fill-color);\n",
              "    animation:\n",
              "      spin 1s steps(1) infinite;\n",
              "  }\n",
              "\n",
              "  @keyframes spin {\n",
              "    0% {\n",
              "      border-color: transparent;\n",
              "      border-bottom-color: var(--fill-color);\n",
              "      border-left-color: var(--fill-color);\n",
              "    }\n",
              "    20% {\n",
              "      border-color: transparent;\n",
              "      border-left-color: var(--fill-color);\n",
              "      border-top-color: var(--fill-color);\n",
              "    }\n",
              "    30% {\n",
              "      border-color: transparent;\n",
              "      border-left-color: var(--fill-color);\n",
              "      border-top-color: var(--fill-color);\n",
              "      border-right-color: var(--fill-color);\n",
              "    }\n",
              "    40% {\n",
              "      border-color: transparent;\n",
              "      border-right-color: var(--fill-color);\n",
              "      border-top-color: var(--fill-color);\n",
              "    }\n",
              "    60% {\n",
              "      border-color: transparent;\n",
              "      border-right-color: var(--fill-color);\n",
              "    }\n",
              "    80% {\n",
              "      border-color: transparent;\n",
              "      border-right-color: var(--fill-color);\n",
              "      border-bottom-color: var(--fill-color);\n",
              "    }\n",
              "    90% {\n",
              "      border-color: transparent;\n",
              "      border-bottom-color: var(--fill-color);\n",
              "    }\n",
              "  }\n",
              "</style>\n",
              "\n",
              "  <script>\n",
              "    async function quickchart(key) {\n",
              "      const quickchartButtonEl =\n",
              "        document.querySelector('#' + key + ' button');\n",
              "      quickchartButtonEl.disabled = true;  // To prevent multiple clicks.\n",
              "      quickchartButtonEl.classList.add('colab-df-spinner');\n",
              "      try {\n",
              "        const charts = await google.colab.kernel.invokeFunction(\n",
              "            'suggestCharts', [key], {});\n",
              "      } catch (error) {\n",
              "        console.error('Error during call to suggestCharts:', error);\n",
              "      }\n",
              "      quickchartButtonEl.classList.remove('colab-df-spinner');\n",
              "      quickchartButtonEl.classList.add('colab-df-quickchart-complete');\n",
              "    }\n",
              "    (() => {\n",
              "      let quickchartButtonEl =\n",
              "        document.querySelector('#df-2fc20e76-1aa0-4347-a91b-8fa3d2aa6469 button');\n",
              "      quickchartButtonEl.style.display =\n",
              "        google.colab.kernel.accessAllowed ? 'block' : 'none';\n",
              "    })();\n",
              "  </script>\n",
              "</div>\n",
              "\n",
              "    </div>\n",
              "  </div>\n"
            ],
            "text/plain": [
              "   Ind_ID   Test_date Cough_symptoms  Fever Sore_throat Shortness_of_breath  \\\n",
              "0       1  11-03-2020           TRUE  FALSE        TRUE               FALSE   \n",
              "1       2  11-03-2020          FALSE   TRUE       FALSE               FALSE   \n",
              "2       3  11-03-2020          FALSE   TRUE       FALSE               FALSE   \n",
              "3       4  11-03-2020           TRUE  FALSE       FALSE               FALSE   \n",
              "4       5  11-03-2020           TRUE  FALSE       FALSE               FALSE   \n",
              "\n",
              "  Headache    Corona Age_60_above   Sex           Known_contact  \n",
              "0    FALSE  negative         None  None                  Abroad  \n",
              "1    FALSE  positive         None  None                  Abroad  \n",
              "2    FALSE  positive         None  None                  Abroad  \n",
              "3    FALSE  negative         None  None                  Abroad  \n",
              "4    FALSE  negative         None  None  Contact with confirmed  "
            ]
          },
          "execution_count": 10,
          "metadata": {},
          "output_type": "execute_result"
        }
      ],
      "source": [
        "#check the first 5 rows\n",
        "data.head()"
      ]
    },
    {
      "cell_type": "code",
      "execution_count": 11,
      "metadata": {
        "colab": {
          "base_uri": "https://localhost:8080/",
          "height": 226
        },
        "id": "MpMkpHijG58t",
        "outputId": "4f4191bf-640a-494b-c26d-c5ff8fa9d4bd"
      },
      "outputs": [
        {
          "data": {
            "text/html": [
              "\n",
              "  <div id=\"df-eaa0b9ca-05c3-4718-9f1c-ea168f1d3da1\" class=\"colab-df-container\">\n",
              "    <div>\n",
              "<style scoped>\n",
              "    .dataframe tbody tr th:only-of-type {\n",
              "        vertical-align: middle;\n",
              "    }\n",
              "\n",
              "    .dataframe tbody tr th {\n",
              "        vertical-align: top;\n",
              "    }\n",
              "\n",
              "    .dataframe thead th {\n",
              "        text-align: right;\n",
              "    }\n",
              "</style>\n",
              "<table border=\"1\" class=\"dataframe\">\n",
              "  <thead>\n",
              "    <tr style=\"text-align: right;\">\n",
              "      <th></th>\n",
              "      <th>Ind_ID</th>\n",
              "      <th>Test_date</th>\n",
              "      <th>Cough_symptoms</th>\n",
              "      <th>Fever</th>\n",
              "      <th>Sore_throat</th>\n",
              "      <th>Shortness_of_breath</th>\n",
              "      <th>Headache</th>\n",
              "      <th>Corona</th>\n",
              "      <th>Age_60_above</th>\n",
              "      <th>Sex</th>\n",
              "      <th>Known_contact</th>\n",
              "    </tr>\n",
              "  </thead>\n",
              "  <tbody>\n",
              "    <tr>\n",
              "      <th>278843</th>\n",
              "      <td>278844</td>\n",
              "      <td>30-04-2020</td>\n",
              "      <td>False</td>\n",
              "      <td>False</td>\n",
              "      <td>False</td>\n",
              "      <td>False</td>\n",
              "      <td>False</td>\n",
              "      <td>positive</td>\n",
              "      <td>None</td>\n",
              "      <td>male</td>\n",
              "      <td>Other</td>\n",
              "    </tr>\n",
              "    <tr>\n",
              "      <th>278844</th>\n",
              "      <td>278845</td>\n",
              "      <td>30-04-2020</td>\n",
              "      <td>False</td>\n",
              "      <td>False</td>\n",
              "      <td>False</td>\n",
              "      <td>False</td>\n",
              "      <td>False</td>\n",
              "      <td>negative</td>\n",
              "      <td>None</td>\n",
              "      <td>female</td>\n",
              "      <td>Other</td>\n",
              "    </tr>\n",
              "    <tr>\n",
              "      <th>278845</th>\n",
              "      <td>278846</td>\n",
              "      <td>30-04-2020</td>\n",
              "      <td>False</td>\n",
              "      <td>False</td>\n",
              "      <td>False</td>\n",
              "      <td>False</td>\n",
              "      <td>False</td>\n",
              "      <td>negative</td>\n",
              "      <td>None</td>\n",
              "      <td>male</td>\n",
              "      <td>Other</td>\n",
              "    </tr>\n",
              "    <tr>\n",
              "      <th>278846</th>\n",
              "      <td>278847</td>\n",
              "      <td>30-04-2020</td>\n",
              "      <td>False</td>\n",
              "      <td>False</td>\n",
              "      <td>False</td>\n",
              "      <td>False</td>\n",
              "      <td>False</td>\n",
              "      <td>negative</td>\n",
              "      <td>None</td>\n",
              "      <td>male</td>\n",
              "      <td>Other</td>\n",
              "    </tr>\n",
              "    <tr>\n",
              "      <th>278847</th>\n",
              "      <td>278848</td>\n",
              "      <td>30-04-2020</td>\n",
              "      <td>False</td>\n",
              "      <td>False</td>\n",
              "      <td>False</td>\n",
              "      <td>False</td>\n",
              "      <td>False</td>\n",
              "      <td>negative</td>\n",
              "      <td>None</td>\n",
              "      <td>female</td>\n",
              "      <td>Other</td>\n",
              "    </tr>\n",
              "  </tbody>\n",
              "</table>\n",
              "</div>\n",
              "    <div class=\"colab-df-buttons\">\n",
              "\n",
              "  <div class=\"colab-df-container\">\n",
              "    <button class=\"colab-df-convert\" onclick=\"convertToInteractive('df-eaa0b9ca-05c3-4718-9f1c-ea168f1d3da1')\"\n",
              "            title=\"Convert this dataframe to an interactive table.\"\n",
              "            style=\"display:none;\">\n",
              "\n",
              "  <svg xmlns=\"http://www.w3.org/2000/svg\" height=\"24px\" viewBox=\"0 -960 960 960\">\n",
              "    <path d=\"M120-120v-720h720v720H120Zm60-500h600v-160H180v160Zm220 220h160v-160H400v160Zm0 220h160v-160H400v160ZM180-400h160v-160H180v160Zm440 0h160v-160H620v160ZM180-180h160v-160H180v160Zm440 0h160v-160H620v160Z\"/>\n",
              "  </svg>\n",
              "    </button>\n",
              "\n",
              "  <style>\n",
              "    .colab-df-container {\n",
              "      display:flex;\n",
              "      gap: 12px;\n",
              "    }\n",
              "\n",
              "    .colab-df-convert {\n",
              "      background-color: #E8F0FE;\n",
              "      border: none;\n",
              "      border-radius: 50%;\n",
              "      cursor: pointer;\n",
              "      display: none;\n",
              "      fill: #1967D2;\n",
              "      height: 32px;\n",
              "      padding: 0 0 0 0;\n",
              "      width: 32px;\n",
              "    }\n",
              "\n",
              "    .colab-df-convert:hover {\n",
              "      background-color: #E2EBFA;\n",
              "      box-shadow: 0px 1px 2px rgba(60, 64, 67, 0.3), 0px 1px 3px 1px rgba(60, 64, 67, 0.15);\n",
              "      fill: #174EA6;\n",
              "    }\n",
              "\n",
              "    .colab-df-buttons div {\n",
              "      margin-bottom: 4px;\n",
              "    }\n",
              "\n",
              "    [theme=dark] .colab-df-convert {\n",
              "      background-color: #3B4455;\n",
              "      fill: #D2E3FC;\n",
              "    }\n",
              "\n",
              "    [theme=dark] .colab-df-convert:hover {\n",
              "      background-color: #434B5C;\n",
              "      box-shadow: 0px 1px 3px 1px rgba(0, 0, 0, 0.15);\n",
              "      filter: drop-shadow(0px 1px 2px rgba(0, 0, 0, 0.3));\n",
              "      fill: #FFFFFF;\n",
              "    }\n",
              "  </style>\n",
              "\n",
              "    <script>\n",
              "      const buttonEl =\n",
              "        document.querySelector('#df-eaa0b9ca-05c3-4718-9f1c-ea168f1d3da1 button.colab-df-convert');\n",
              "      buttonEl.style.display =\n",
              "        google.colab.kernel.accessAllowed ? 'block' : 'none';\n",
              "\n",
              "      async function convertToInteractive(key) {\n",
              "        const element = document.querySelector('#df-eaa0b9ca-05c3-4718-9f1c-ea168f1d3da1');\n",
              "        const dataTable =\n",
              "          await google.colab.kernel.invokeFunction('convertToInteractive',\n",
              "                                                    [key], {});\n",
              "        if (!dataTable) return;\n",
              "\n",
              "        const docLinkHtml = 'Like what you see? Visit the ' +\n",
              "          '<a target=\"_blank\" href=https://colab.research.google.com/notebooks/data_table.ipynb>data table notebook</a>'\n",
              "          + ' to learn more about interactive tables.';\n",
              "        element.innerHTML = '';\n",
              "        dataTable['output_type'] = 'display_data';\n",
              "        await google.colab.output.renderOutput(dataTable, element);\n",
              "        const docLink = document.createElement('div');\n",
              "        docLink.innerHTML = docLinkHtml;\n",
              "        element.appendChild(docLink);\n",
              "      }\n",
              "    </script>\n",
              "  </div>\n",
              "\n",
              "\n",
              "<div id=\"df-49ae98b6-2960-4e8a-a593-bc2c4758ea64\">\n",
              "  <button class=\"colab-df-quickchart\" onclick=\"quickchart('df-49ae98b6-2960-4e8a-a593-bc2c4758ea64')\"\n",
              "            title=\"Suggest charts\"\n",
              "            style=\"display:none;\">\n",
              "\n",
              "<svg xmlns=\"http://www.w3.org/2000/svg\" height=\"24px\"viewBox=\"0 0 24 24\"\n",
              "     width=\"24px\">\n",
              "    <g>\n",
              "        <path d=\"M19 3H5c-1.1 0-2 .9-2 2v14c0 1.1.9 2 2 2h14c1.1 0 2-.9 2-2V5c0-1.1-.9-2-2-2zM9 17H7v-7h2v7zm4 0h-2V7h2v10zm4 0h-2v-4h2v4z\"/>\n",
              "    </g>\n",
              "</svg>\n",
              "  </button>\n",
              "\n",
              "<style>\n",
              "  .colab-df-quickchart {\n",
              "      --bg-color: #E8F0FE;\n",
              "      --fill-color: #1967D2;\n",
              "      --hover-bg-color: #E2EBFA;\n",
              "      --hover-fill-color: #174EA6;\n",
              "      --disabled-fill-color: #AAA;\n",
              "      --disabled-bg-color: #DDD;\n",
              "  }\n",
              "\n",
              "  [theme=dark] .colab-df-quickchart {\n",
              "      --bg-color: #3B4455;\n",
              "      --fill-color: #D2E3FC;\n",
              "      --hover-bg-color: #434B5C;\n",
              "      --hover-fill-color: #FFFFFF;\n",
              "      --disabled-bg-color: #3B4455;\n",
              "      --disabled-fill-color: #666;\n",
              "  }\n",
              "\n",
              "  .colab-df-quickchart {\n",
              "    background-color: var(--bg-color);\n",
              "    border: none;\n",
              "    border-radius: 50%;\n",
              "    cursor: pointer;\n",
              "    display: none;\n",
              "    fill: var(--fill-color);\n",
              "    height: 32px;\n",
              "    padding: 0;\n",
              "    width: 32px;\n",
              "  }\n",
              "\n",
              "  .colab-df-quickchart:hover {\n",
              "    background-color: var(--hover-bg-color);\n",
              "    box-shadow: 0 1px 2px rgba(60, 64, 67, 0.3), 0 1px 3px 1px rgba(60, 64, 67, 0.15);\n",
              "    fill: var(--button-hover-fill-color);\n",
              "  }\n",
              "\n",
              "  .colab-df-quickchart-complete:disabled,\n",
              "  .colab-df-quickchart-complete:disabled:hover {\n",
              "    background-color: var(--disabled-bg-color);\n",
              "    fill: var(--disabled-fill-color);\n",
              "    box-shadow: none;\n",
              "  }\n",
              "\n",
              "  .colab-df-spinner {\n",
              "    border: 2px solid var(--fill-color);\n",
              "    border-color: transparent;\n",
              "    border-bottom-color: var(--fill-color);\n",
              "    animation:\n",
              "      spin 1s steps(1) infinite;\n",
              "  }\n",
              "\n",
              "  @keyframes spin {\n",
              "    0% {\n",
              "      border-color: transparent;\n",
              "      border-bottom-color: var(--fill-color);\n",
              "      border-left-color: var(--fill-color);\n",
              "    }\n",
              "    20% {\n",
              "      border-color: transparent;\n",
              "      border-left-color: var(--fill-color);\n",
              "      border-top-color: var(--fill-color);\n",
              "    }\n",
              "    30% {\n",
              "      border-color: transparent;\n",
              "      border-left-color: var(--fill-color);\n",
              "      border-top-color: var(--fill-color);\n",
              "      border-right-color: var(--fill-color);\n",
              "    }\n",
              "    40% {\n",
              "      border-color: transparent;\n",
              "      border-right-color: var(--fill-color);\n",
              "      border-top-color: var(--fill-color);\n",
              "    }\n",
              "    60% {\n",
              "      border-color: transparent;\n",
              "      border-right-color: var(--fill-color);\n",
              "    }\n",
              "    80% {\n",
              "      border-color: transparent;\n",
              "      border-right-color: var(--fill-color);\n",
              "      border-bottom-color: var(--fill-color);\n",
              "    }\n",
              "    90% {\n",
              "      border-color: transparent;\n",
              "      border-bottom-color: var(--fill-color);\n",
              "    }\n",
              "  }\n",
              "</style>\n",
              "\n",
              "  <script>\n",
              "    async function quickchart(key) {\n",
              "      const quickchartButtonEl =\n",
              "        document.querySelector('#' + key + ' button');\n",
              "      quickchartButtonEl.disabled = true;  // To prevent multiple clicks.\n",
              "      quickchartButtonEl.classList.add('colab-df-spinner');\n",
              "      try {\n",
              "        const charts = await google.colab.kernel.invokeFunction(\n",
              "            'suggestCharts', [key], {});\n",
              "      } catch (error) {\n",
              "        console.error('Error during call to suggestCharts:', error);\n",
              "      }\n",
              "      quickchartButtonEl.classList.remove('colab-df-spinner');\n",
              "      quickchartButtonEl.classList.add('colab-df-quickchart-complete');\n",
              "    }\n",
              "    (() => {\n",
              "      let quickchartButtonEl =\n",
              "        document.querySelector('#df-49ae98b6-2960-4e8a-a593-bc2c4758ea64 button');\n",
              "      quickchartButtonEl.style.display =\n",
              "        google.colab.kernel.accessAllowed ? 'block' : 'none';\n",
              "    })();\n",
              "  </script>\n",
              "</div>\n",
              "\n",
              "    </div>\n",
              "  </div>\n"
            ],
            "text/plain": [
              "        Ind_ID   Test_date Cough_symptoms  Fever Sore_throat  \\\n",
              "278843  278844  30-04-2020          False  False       False   \n",
              "278844  278845  30-04-2020          False  False       False   \n",
              "278845  278846  30-04-2020          False  False       False   \n",
              "278846  278847  30-04-2020          False  False       False   \n",
              "278847  278848  30-04-2020          False  False       False   \n",
              "\n",
              "       Shortness_of_breath Headache    Corona Age_60_above     Sex  \\\n",
              "278843               False    False  positive         None    male   \n",
              "278844               False    False  negative         None  female   \n",
              "278845               False    False  negative         None    male   \n",
              "278846               False    False  negative         None    male   \n",
              "278847               False    False  negative         None  female   \n",
              "\n",
              "       Known_contact  \n",
              "278843         Other  \n",
              "278844         Other  \n",
              "278845         Other  \n",
              "278846         Other  \n",
              "278847         Other  "
            ]
          },
          "execution_count": 11,
          "metadata": {},
          "output_type": "execute_result"
        }
      ],
      "source": [
        "#check the last 5 rows\n",
        "data.tail()"
      ]
    },
    {
      "cell_type": "code",
      "execution_count": 12,
      "metadata": {
        "colab": {
          "base_uri": "https://localhost:8080/"
        },
        "id": "1AN7pEaDG9Ec",
        "outputId": "39d79480-3dbf-4194-8956-1f3052cf1815"
      },
      "outputs": [
        {
          "data": {
            "text/plain": [
              "(278848, 11)"
            ]
          },
          "execution_count": 12,
          "metadata": {},
          "output_type": "execute_result"
        }
      ],
      "source": [
        "#finding the total number of rows and columns\n",
        "data.shape"
      ]
    },
    {
      "cell_type": "markdown",
      "metadata": {
        "id": "pjzIYigai9wY"
      },
      "source": [
        "The dataset contains 11 columns(features) and 278848(rows)individuals."
      ]
    },
    {
      "cell_type": "code",
      "execution_count": 13,
      "metadata": {
        "colab": {
          "base_uri": "https://localhost:8080/"
        },
        "id": "mcaW1RSgHN1r",
        "outputId": "211dd979-3b99-46b0-8b6d-6d5840f5d30a"
      },
      "outputs": [
        {
          "data": {
            "text/plain": [
              "Ind_ID                  int64\n",
              "Test_date              object\n",
              "Cough_symptoms         object\n",
              "Fever                  object\n",
              "Sore_throat            object\n",
              "Shortness_of_breath    object\n",
              "Headache               object\n",
              "Corona                 object\n",
              "Age_60_above           object\n",
              "Sex                    object\n",
              "Known_contact          object\n",
              "dtype: object"
            ]
          },
          "execution_count": 13,
          "metadata": {},
          "output_type": "execute_result"
        }
      ],
      "source": [
        "# check the datatype of the feature\n",
        "data.dtypes"
      ]
    },
    {
      "cell_type": "code",
      "execution_count": 14,
      "metadata": {
        "colab": {
          "base_uri": "https://localhost:8080/"
        },
        "id": "Xqsb937oHVo6",
        "outputId": "ba75ea19-3a30-4dd6-c05e-f2eb8c603968"
      },
      "outputs": [
        {
          "name": "stdout",
          "output_type": "stream",
          "text": [
            "<class 'pandas.core.frame.DataFrame'>\n",
            "RangeIndex: 278848 entries, 0 to 278847\n",
            "Data columns (total 11 columns):\n",
            " #   Column               Non-Null Count   Dtype \n",
            "---  ------               --------------   ----- \n",
            " 0   Ind_ID               278848 non-null  int64 \n",
            " 1   Test_date            278848 non-null  object\n",
            " 2   Cough_symptoms       278848 non-null  object\n",
            " 3   Fever                278848 non-null  object\n",
            " 4   Sore_throat          278848 non-null  object\n",
            " 5   Shortness_of_breath  278848 non-null  object\n",
            " 6   Headache             278848 non-null  object\n",
            " 7   Corona               278848 non-null  object\n",
            " 8   Age_60_above         278848 non-null  object\n",
            " 9   Sex                  278848 non-null  object\n",
            " 10  Known_contact        278848 non-null  object\n",
            "dtypes: int64(1), object(10)\n",
            "memory usage: 23.4+ MB\n"
          ]
        }
      ],
      "source": [
        "#check the basic info of the columns and datatype\n",
        "data.info()"
      ]
    },
    {
      "cell_type": "markdown",
      "metadata": {
        "id": "4Iu3nApMNteF"
      },
      "source": [
        "All the columns are of object datatype except 'Ind_ID' which is an integer datatype."
      ]
    },
    {
      "cell_type": "code",
      "execution_count": 15,
      "metadata": {
        "colab": {
          "base_uri": "https://localhost:8080/",
          "height": 414
        },
        "id": "tfeeNnbgHkau",
        "outputId": "d6f64c64-825c-43ae-9c50-192715b0382a"
      },
      "outputs": [
        {
          "data": {
            "text/html": [
              "\n",
              "  <div id=\"df-546e55b8-9eb8-4a6e-b722-02229ac03a04\" class=\"colab-df-container\">\n",
              "    <div>\n",
              "<style scoped>\n",
              "    .dataframe tbody tr th:only-of-type {\n",
              "        vertical-align: middle;\n",
              "    }\n",
              "\n",
              "    .dataframe tbody tr th {\n",
              "        vertical-align: top;\n",
              "    }\n",
              "\n",
              "    .dataframe thead th {\n",
              "        text-align: right;\n",
              "    }\n",
              "</style>\n",
              "<table border=\"1\" class=\"dataframe\">\n",
              "  <thead>\n",
              "    <tr style=\"text-align: right;\">\n",
              "      <th></th>\n",
              "      <th>Ind_ID</th>\n",
              "      <th>Test_date</th>\n",
              "      <th>Cough_symptoms</th>\n",
              "      <th>Fever</th>\n",
              "      <th>Sore_throat</th>\n",
              "      <th>Shortness_of_breath</th>\n",
              "      <th>Headache</th>\n",
              "      <th>Corona</th>\n",
              "      <th>Age_60_above</th>\n",
              "      <th>Sex</th>\n",
              "      <th>Known_contact</th>\n",
              "    </tr>\n",
              "  </thead>\n",
              "  <tbody>\n",
              "    <tr>\n",
              "      <th>count</th>\n",
              "      <td>278848.000000</td>\n",
              "      <td>278848</td>\n",
              "      <td>278848</td>\n",
              "      <td>278848</td>\n",
              "      <td>278848</td>\n",
              "      <td>278848</td>\n",
              "      <td>278848</td>\n",
              "      <td>278848</td>\n",
              "      <td>278848</td>\n",
              "      <td>278848</td>\n",
              "      <td>278848</td>\n",
              "    </tr>\n",
              "    <tr>\n",
              "      <th>unique</th>\n",
              "      <td>NaN</td>\n",
              "      <td>51</td>\n",
              "      <td>5</td>\n",
              "      <td>5</td>\n",
              "      <td>5</td>\n",
              "      <td>5</td>\n",
              "      <td>5</td>\n",
              "      <td>3</td>\n",
              "      <td>3</td>\n",
              "      <td>3</td>\n",
              "      <td>3</td>\n",
              "    </tr>\n",
              "    <tr>\n",
              "      <th>top</th>\n",
              "      <td>NaN</td>\n",
              "      <td>20-04-2020</td>\n",
              "      <td>False</td>\n",
              "      <td>False</td>\n",
              "      <td>False</td>\n",
              "      <td>False</td>\n",
              "      <td>False</td>\n",
              "      <td>negative</td>\n",
              "      <td>None</td>\n",
              "      <td>female</td>\n",
              "      <td>Other</td>\n",
              "    </tr>\n",
              "    <tr>\n",
              "      <th>freq</th>\n",
              "      <td>NaN</td>\n",
              "      <td>10921</td>\n",
              "      <td>127531</td>\n",
              "      <td>137774</td>\n",
              "      <td>212584</td>\n",
              "      <td>212842</td>\n",
              "      <td>212326</td>\n",
              "      <td>260227</td>\n",
              "      <td>127320</td>\n",
              "      <td>130158</td>\n",
              "      <td>242741</td>\n",
              "    </tr>\n",
              "    <tr>\n",
              "      <th>mean</th>\n",
              "      <td>139424.500000</td>\n",
              "      <td>NaN</td>\n",
              "      <td>NaN</td>\n",
              "      <td>NaN</td>\n",
              "      <td>NaN</td>\n",
              "      <td>NaN</td>\n",
              "      <td>NaN</td>\n",
              "      <td>NaN</td>\n",
              "      <td>NaN</td>\n",
              "      <td>NaN</td>\n",
              "      <td>NaN</td>\n",
              "    </tr>\n",
              "    <tr>\n",
              "      <th>std</th>\n",
              "      <td>80496.628269</td>\n",
              "      <td>NaN</td>\n",
              "      <td>NaN</td>\n",
              "      <td>NaN</td>\n",
              "      <td>NaN</td>\n",
              "      <td>NaN</td>\n",
              "      <td>NaN</td>\n",
              "      <td>NaN</td>\n",
              "      <td>NaN</td>\n",
              "      <td>NaN</td>\n",
              "      <td>NaN</td>\n",
              "    </tr>\n",
              "    <tr>\n",
              "      <th>min</th>\n",
              "      <td>1.000000</td>\n",
              "      <td>NaN</td>\n",
              "      <td>NaN</td>\n",
              "      <td>NaN</td>\n",
              "      <td>NaN</td>\n",
              "      <td>NaN</td>\n",
              "      <td>NaN</td>\n",
              "      <td>NaN</td>\n",
              "      <td>NaN</td>\n",
              "      <td>NaN</td>\n",
              "      <td>NaN</td>\n",
              "    </tr>\n",
              "    <tr>\n",
              "      <th>25%</th>\n",
              "      <td>69712.750000</td>\n",
              "      <td>NaN</td>\n",
              "      <td>NaN</td>\n",
              "      <td>NaN</td>\n",
              "      <td>NaN</td>\n",
              "      <td>NaN</td>\n",
              "      <td>NaN</td>\n",
              "      <td>NaN</td>\n",
              "      <td>NaN</td>\n",
              "      <td>NaN</td>\n",
              "      <td>NaN</td>\n",
              "    </tr>\n",
              "    <tr>\n",
              "      <th>50%</th>\n",
              "      <td>139424.500000</td>\n",
              "      <td>NaN</td>\n",
              "      <td>NaN</td>\n",
              "      <td>NaN</td>\n",
              "      <td>NaN</td>\n",
              "      <td>NaN</td>\n",
              "      <td>NaN</td>\n",
              "      <td>NaN</td>\n",
              "      <td>NaN</td>\n",
              "      <td>NaN</td>\n",
              "      <td>NaN</td>\n",
              "    </tr>\n",
              "    <tr>\n",
              "      <th>75%</th>\n",
              "      <td>209136.250000</td>\n",
              "      <td>NaN</td>\n",
              "      <td>NaN</td>\n",
              "      <td>NaN</td>\n",
              "      <td>NaN</td>\n",
              "      <td>NaN</td>\n",
              "      <td>NaN</td>\n",
              "      <td>NaN</td>\n",
              "      <td>NaN</td>\n",
              "      <td>NaN</td>\n",
              "      <td>NaN</td>\n",
              "    </tr>\n",
              "    <tr>\n",
              "      <th>max</th>\n",
              "      <td>278848.000000</td>\n",
              "      <td>NaN</td>\n",
              "      <td>NaN</td>\n",
              "      <td>NaN</td>\n",
              "      <td>NaN</td>\n",
              "      <td>NaN</td>\n",
              "      <td>NaN</td>\n",
              "      <td>NaN</td>\n",
              "      <td>NaN</td>\n",
              "      <td>NaN</td>\n",
              "      <td>NaN</td>\n",
              "    </tr>\n",
              "  </tbody>\n",
              "</table>\n",
              "</div>\n",
              "    <div class=\"colab-df-buttons\">\n",
              "\n",
              "  <div class=\"colab-df-container\">\n",
              "    <button class=\"colab-df-convert\" onclick=\"convertToInteractive('df-546e55b8-9eb8-4a6e-b722-02229ac03a04')\"\n",
              "            title=\"Convert this dataframe to an interactive table.\"\n",
              "            style=\"display:none;\">\n",
              "\n",
              "  <svg xmlns=\"http://www.w3.org/2000/svg\" height=\"24px\" viewBox=\"0 -960 960 960\">\n",
              "    <path d=\"M120-120v-720h720v720H120Zm60-500h600v-160H180v160Zm220 220h160v-160H400v160Zm0 220h160v-160H400v160ZM180-400h160v-160H180v160Zm440 0h160v-160H620v160ZM180-180h160v-160H180v160Zm440 0h160v-160H620v160Z\"/>\n",
              "  </svg>\n",
              "    </button>\n",
              "\n",
              "  <style>\n",
              "    .colab-df-container {\n",
              "      display:flex;\n",
              "      gap: 12px;\n",
              "    }\n",
              "\n",
              "    .colab-df-convert {\n",
              "      background-color: #E8F0FE;\n",
              "      border: none;\n",
              "      border-radius: 50%;\n",
              "      cursor: pointer;\n",
              "      display: none;\n",
              "      fill: #1967D2;\n",
              "      height: 32px;\n",
              "      padding: 0 0 0 0;\n",
              "      width: 32px;\n",
              "    }\n",
              "\n",
              "    .colab-df-convert:hover {\n",
              "      background-color: #E2EBFA;\n",
              "      box-shadow: 0px 1px 2px rgba(60, 64, 67, 0.3), 0px 1px 3px 1px rgba(60, 64, 67, 0.15);\n",
              "      fill: #174EA6;\n",
              "    }\n",
              "\n",
              "    .colab-df-buttons div {\n",
              "      margin-bottom: 4px;\n",
              "    }\n",
              "\n",
              "    [theme=dark] .colab-df-convert {\n",
              "      background-color: #3B4455;\n",
              "      fill: #D2E3FC;\n",
              "    }\n",
              "\n",
              "    [theme=dark] .colab-df-convert:hover {\n",
              "      background-color: #434B5C;\n",
              "      box-shadow: 0px 1px 3px 1px rgba(0, 0, 0, 0.15);\n",
              "      filter: drop-shadow(0px 1px 2px rgba(0, 0, 0, 0.3));\n",
              "      fill: #FFFFFF;\n",
              "    }\n",
              "  </style>\n",
              "\n",
              "    <script>\n",
              "      const buttonEl =\n",
              "        document.querySelector('#df-546e55b8-9eb8-4a6e-b722-02229ac03a04 button.colab-df-convert');\n",
              "      buttonEl.style.display =\n",
              "        google.colab.kernel.accessAllowed ? 'block' : 'none';\n",
              "\n",
              "      async function convertToInteractive(key) {\n",
              "        const element = document.querySelector('#df-546e55b8-9eb8-4a6e-b722-02229ac03a04');\n",
              "        const dataTable =\n",
              "          await google.colab.kernel.invokeFunction('convertToInteractive',\n",
              "                                                    [key], {});\n",
              "        if (!dataTable) return;\n",
              "\n",
              "        const docLinkHtml = 'Like what you see? Visit the ' +\n",
              "          '<a target=\"_blank\" href=https://colab.research.google.com/notebooks/data_table.ipynb>data table notebook</a>'\n",
              "          + ' to learn more about interactive tables.';\n",
              "        element.innerHTML = '';\n",
              "        dataTable['output_type'] = 'display_data';\n",
              "        await google.colab.output.renderOutput(dataTable, element);\n",
              "        const docLink = document.createElement('div');\n",
              "        docLink.innerHTML = docLinkHtml;\n",
              "        element.appendChild(docLink);\n",
              "      }\n",
              "    </script>\n",
              "  </div>\n",
              "\n",
              "\n",
              "<div id=\"df-2c7acdd5-9ac9-4706-ae47-85cc0cb8230a\">\n",
              "  <button class=\"colab-df-quickchart\" onclick=\"quickchart('df-2c7acdd5-9ac9-4706-ae47-85cc0cb8230a')\"\n",
              "            title=\"Suggest charts\"\n",
              "            style=\"display:none;\">\n",
              "\n",
              "<svg xmlns=\"http://www.w3.org/2000/svg\" height=\"24px\"viewBox=\"0 0 24 24\"\n",
              "     width=\"24px\">\n",
              "    <g>\n",
              "        <path d=\"M19 3H5c-1.1 0-2 .9-2 2v14c0 1.1.9 2 2 2h14c1.1 0 2-.9 2-2V5c0-1.1-.9-2-2-2zM9 17H7v-7h2v7zm4 0h-2V7h2v10zm4 0h-2v-4h2v4z\"/>\n",
              "    </g>\n",
              "</svg>\n",
              "  </button>\n",
              "\n",
              "<style>\n",
              "  .colab-df-quickchart {\n",
              "      --bg-color: #E8F0FE;\n",
              "      --fill-color: #1967D2;\n",
              "      --hover-bg-color: #E2EBFA;\n",
              "      --hover-fill-color: #174EA6;\n",
              "      --disabled-fill-color: #AAA;\n",
              "      --disabled-bg-color: #DDD;\n",
              "  }\n",
              "\n",
              "  [theme=dark] .colab-df-quickchart {\n",
              "      --bg-color: #3B4455;\n",
              "      --fill-color: #D2E3FC;\n",
              "      --hover-bg-color: #434B5C;\n",
              "      --hover-fill-color: #FFFFFF;\n",
              "      --disabled-bg-color: #3B4455;\n",
              "      --disabled-fill-color: #666;\n",
              "  }\n",
              "\n",
              "  .colab-df-quickchart {\n",
              "    background-color: var(--bg-color);\n",
              "    border: none;\n",
              "    border-radius: 50%;\n",
              "    cursor: pointer;\n",
              "    display: none;\n",
              "    fill: var(--fill-color);\n",
              "    height: 32px;\n",
              "    padding: 0;\n",
              "    width: 32px;\n",
              "  }\n",
              "\n",
              "  .colab-df-quickchart:hover {\n",
              "    background-color: var(--hover-bg-color);\n",
              "    box-shadow: 0 1px 2px rgba(60, 64, 67, 0.3), 0 1px 3px 1px rgba(60, 64, 67, 0.15);\n",
              "    fill: var(--button-hover-fill-color);\n",
              "  }\n",
              "\n",
              "  .colab-df-quickchart-complete:disabled,\n",
              "  .colab-df-quickchart-complete:disabled:hover {\n",
              "    background-color: var(--disabled-bg-color);\n",
              "    fill: var(--disabled-fill-color);\n",
              "    box-shadow: none;\n",
              "  }\n",
              "\n",
              "  .colab-df-spinner {\n",
              "    border: 2px solid var(--fill-color);\n",
              "    border-color: transparent;\n",
              "    border-bottom-color: var(--fill-color);\n",
              "    animation:\n",
              "      spin 1s steps(1) infinite;\n",
              "  }\n",
              "\n",
              "  @keyframes spin {\n",
              "    0% {\n",
              "      border-color: transparent;\n",
              "      border-bottom-color: var(--fill-color);\n",
              "      border-left-color: var(--fill-color);\n",
              "    }\n",
              "    20% {\n",
              "      border-color: transparent;\n",
              "      border-left-color: var(--fill-color);\n",
              "      border-top-color: var(--fill-color);\n",
              "    }\n",
              "    30% {\n",
              "      border-color: transparent;\n",
              "      border-left-color: var(--fill-color);\n",
              "      border-top-color: var(--fill-color);\n",
              "      border-right-color: var(--fill-color);\n",
              "    }\n",
              "    40% {\n",
              "      border-color: transparent;\n",
              "      border-right-color: var(--fill-color);\n",
              "      border-top-color: var(--fill-color);\n",
              "    }\n",
              "    60% {\n",
              "      border-color: transparent;\n",
              "      border-right-color: var(--fill-color);\n",
              "    }\n",
              "    80% {\n",
              "      border-color: transparent;\n",
              "      border-right-color: var(--fill-color);\n",
              "      border-bottom-color: var(--fill-color);\n",
              "    }\n",
              "    90% {\n",
              "      border-color: transparent;\n",
              "      border-bottom-color: var(--fill-color);\n",
              "    }\n",
              "  }\n",
              "</style>\n",
              "\n",
              "  <script>\n",
              "    async function quickchart(key) {\n",
              "      const quickchartButtonEl =\n",
              "        document.querySelector('#' + key + ' button');\n",
              "      quickchartButtonEl.disabled = true;  // To prevent multiple clicks.\n",
              "      quickchartButtonEl.classList.add('colab-df-spinner');\n",
              "      try {\n",
              "        const charts = await google.colab.kernel.invokeFunction(\n",
              "            'suggestCharts', [key], {});\n",
              "      } catch (error) {\n",
              "        console.error('Error during call to suggestCharts:', error);\n",
              "      }\n",
              "      quickchartButtonEl.classList.remove('colab-df-spinner');\n",
              "      quickchartButtonEl.classList.add('colab-df-quickchart-complete');\n",
              "    }\n",
              "    (() => {\n",
              "      let quickchartButtonEl =\n",
              "        document.querySelector('#df-2c7acdd5-9ac9-4706-ae47-85cc0cb8230a button');\n",
              "      quickchartButtonEl.style.display =\n",
              "        google.colab.kernel.accessAllowed ? 'block' : 'none';\n",
              "    })();\n",
              "  </script>\n",
              "</div>\n",
              "\n",
              "    </div>\n",
              "  </div>\n"
            ],
            "text/plain": [
              "               Ind_ID   Test_date Cough_symptoms   Fever Sore_throat  \\\n",
              "count   278848.000000      278848         278848  278848      278848   \n",
              "unique            NaN          51              5       5           5   \n",
              "top               NaN  20-04-2020          False   False       False   \n",
              "freq              NaN       10921         127531  137774      212584   \n",
              "mean    139424.500000         NaN            NaN     NaN         NaN   \n",
              "std      80496.628269         NaN            NaN     NaN         NaN   \n",
              "min          1.000000         NaN            NaN     NaN         NaN   \n",
              "25%      69712.750000         NaN            NaN     NaN         NaN   \n",
              "50%     139424.500000         NaN            NaN     NaN         NaN   \n",
              "75%     209136.250000         NaN            NaN     NaN         NaN   \n",
              "max     278848.000000         NaN            NaN     NaN         NaN   \n",
              "\n",
              "       Shortness_of_breath Headache    Corona Age_60_above     Sex  \\\n",
              "count               278848   278848    278848       278848  278848   \n",
              "unique                   5        5         3            3       3   \n",
              "top                  False    False  negative         None  female   \n",
              "freq                212842   212326    260227       127320  130158   \n",
              "mean                   NaN      NaN       NaN          NaN     NaN   \n",
              "std                    NaN      NaN       NaN          NaN     NaN   \n",
              "min                    NaN      NaN       NaN          NaN     NaN   \n",
              "25%                    NaN      NaN       NaN          NaN     NaN   \n",
              "50%                    NaN      NaN       NaN          NaN     NaN   \n",
              "75%                    NaN      NaN       NaN          NaN     NaN   \n",
              "max                    NaN      NaN       NaN          NaN     NaN   \n",
              "\n",
              "       Known_contact  \n",
              "count         278848  \n",
              "unique             3  \n",
              "top            Other  \n",
              "freq          242741  \n",
              "mean             NaN  \n",
              "std              NaN  \n",
              "min              NaN  \n",
              "25%              NaN  \n",
              "50%              NaN  \n",
              "75%              NaN  \n",
              "max              NaN  "
            ]
          },
          "execution_count": 15,
          "metadata": {},
          "output_type": "execute_result"
        }
      ],
      "source": [
        "#statistical info about feature\n",
        "data.describe(include = 'all')"
      ]
    },
    {
      "cell_type": "code",
      "execution_count": 16,
      "metadata": {
        "colab": {
          "base_uri": "https://localhost:8080/"
        },
        "id": "82fSTK9i63sa",
        "outputId": "a71bb625-5237-4d37-dc03-c15e0f3d1444"
      },
      "outputs": [
        {
          "data": {
            "text/plain": [
              "Ind_ID                 0\n",
              "Test_date              0\n",
              "Cough_symptoms         0\n",
              "Fever                  0\n",
              "Sore_throat            0\n",
              "Shortness_of_breath    0\n",
              "Headache               0\n",
              "Corona                 0\n",
              "Age_60_above           0\n",
              "Sex                    0\n",
              "Known_contact          0\n",
              "dtype: int64"
            ]
          },
          "execution_count": 16,
          "metadata": {},
          "output_type": "execute_result"
        }
      ],
      "source": [
        "#checking the null values in given dataset\n",
        "data.isnull().sum()"
      ]
    },
    {
      "cell_type": "markdown",
      "metadata": {
        "id": "WqEGxcrTN67U"
      },
      "source": [
        "There are no null values in the dataset"
      ]
    },
    {
      "cell_type": "code",
      "execution_count": 17,
      "metadata": {
        "colab": {
          "base_uri": "https://localhost:8080/",
          "height": 429
        },
        "id": "HtZeDstpOnay",
        "outputId": "de71226b-4c24-450c-e58c-02004539d316"
      },
      "outputs": [
        {
          "data": {
            "text/plain": [
              "<Axes: ylabel='Ind_ID'>"
            ]
          },
          "execution_count": 17,
          "metadata": {},
          "output_type": "execute_result"
        },
        {
          "data": {
            "image/png": "[encoded data removed]",
            "text/plain": [
              "<Figure size 640x480 with 1 Axes>"
            ]
          },
          "metadata": {},
          "output_type": "display_data"
        }
      ],
      "source": [
        "# checking for outliers in the 'Ind_ID' column\n",
        "sns.boxplot(data['Ind_ID'])"
      ]
    },
    {
      "cell_type": "markdown",
      "metadata": {
        "id": "f0cjekL5Oi-j"
      },
      "source": [
        "There are no outliers in the 'Ind_ID' column"
      ]
    },
    {
      "cell_type": "markdown",
      "metadata": {
        "id": "h-voF0Ax5Ka-"
      },
      "source": [
        "## DATA CLEANING"
      ]
    },
    {
      "cell_type": "code",
      "execution_count": 18,
      "metadata": {
        "colab": {
          "base_uri": "https://localhost:8080/"
        },
        "id": "E-EJYsJNO0uL",
        "outputId": "597eff62-ef0d-4689-e0b1-d66e98291101"
      },
      "outputs": [
        {
          "data": {
            "text/plain": [
              "0"
            ]
          },
          "execution_count": 18,
          "metadata": {},
          "output_type": "execute_result"
        }
      ],
      "source": [
        "# checking for duplicates in data\n",
        "data.duplicated().sum()"
      ]
    },
    {
      "cell_type": "markdown",
      "metadata": {
        "id": "kzringNTO_pF"
      },
      "source": [
        "There are no duplicates in the data"
      ]
    },
    {
      "cell_type": "code",
      "execution_count": 19,
      "metadata": {
        "colab": {
          "base_uri": "https://localhost:8080/"
        },
        "id": "tpptM_EjPgLD",
        "outputId": "320d5d17-fee9-4a59-bd36-3bb595a5bf89"
      },
      "outputs": [
        {
          "data": {
            "text/plain": [
              "Ind_ID                 278848\n",
              "Test_date                  51\n",
              "Cough_symptoms              5\n",
              "Fever                       5\n",
              "Sore_throat                 5\n",
              "Shortness_of_breath         5\n",
              "Headache                    5\n",
              "Corona                      3\n",
              "Age_60_above                3\n",
              "Sex                         3\n",
              "Known_contact               3\n",
              "dtype: int64"
            ]
          },
          "execution_count": 19,
          "metadata": {},
          "output_type": "execute_result"
        }
      ],
      "source": [
        "## checking for uniques in data\n",
        "data.nunique()"
      ]
    },
    {
      "cell_type": "code",
      "execution_count": 20,
      "metadata": {
        "colab": {
          "base_uri": "https://localhost:8080/"
        },
        "id": "ruIuayb0Qn9i",
        "outputId": "8626c382-ce88-41ec-b98a-4d672eddee9a"
      },
      "outputs": [
        {
          "data": {
            "text/plain": [
              "Index(['Ind_ID', 'Test_date', 'Cough_symptoms', 'Fever', 'Sore_throat',\n",
              "       'Shortness_of_breath', 'Headache', 'Corona', 'Age_60_above', 'Sex',\n",
              "       'Known_contact'],\n",
              "      dtype='object')"
            ]
          },
          "execution_count": 20,
          "metadata": {},
          "output_type": "execute_result"
        }
      ],
      "source": [
        "data.columns"
      ]
    },
    {
      "cell_type": "markdown",
      "metadata": {
        "id": "iqg1qyBAPz-r"
      },
      "source": [
        "**Dropping columns which are not needed based on domain knowledge**\n",
        "\n",
        "'Ind_ID' and 'Test_date' are not required for data analysis and model building. However, as per business requirement, the dataset is needed to be divided into training and testing set based on 'Test_date'. So, for now we are only dropping 'Ind_ID' and will drop 'Test_date' after splitting dataset into training and testing set based on it."
      ]
    },
    {
      "cell_type": "code",
      "execution_count": 21,
      "metadata": {
        "id": "NKW8_eJISojs"
      },
      "outputs": [],
      "source": [
        "data = data.drop(['Ind_ID'], axis = 1)"
      ]
    },
    {
      "cell_type": "code",
      "execution_count": 22,
      "metadata": {
        "colab": {
          "base_uri": "https://localhost:8080/",
          "height": 244
        },
        "id": "Z9Rv2ARDS1jM",
        "outputId": "b5231b99-9397-4967-df67-78452b5fabac"
      },
      "outputs": [
        {
          "data": {
            "text/html": [
              "\n",
              "  <div id=\"df-f374e714-2f35-40bb-9ca0-d83dfb0c5c53\" class=\"colab-df-container\">\n",
              "    <div>\n",
              "<style scoped>\n",
              "    .dataframe tbody tr th:only-of-type {\n",
              "        vertical-align: middle;\n",
              "    }\n",
              "\n",
              "    .dataframe tbody tr th {\n",
              "        vertical-align: top;\n",
              "    }\n",
              "\n",
              "    .dataframe thead th {\n",
              "        text-align: right;\n",
              "    }\n",
              "</style>\n",
              "<table border=\"1\" class=\"dataframe\">\n",
              "  <thead>\n",
              "    <tr style=\"text-align: right;\">\n",
              "      <th></th>\n",
              "      <th>Test_date</th>\n",
              "      <th>Cough_symptoms</th>\n",
              "      <th>Fever</th>\n",
              "      <th>Sore_throat</th>\n",
              "      <th>Shortness_of_breath</th>\n",
              "      <th>Headache</th>\n",
              "      <th>Corona</th>\n",
              "      <th>Age_60_above</th>\n",
              "      <th>Sex</th>\n",
              "      <th>Known_contact</th>\n",
              "    </tr>\n",
              "  </thead>\n",
              "  <tbody>\n",
              "    <tr>\n",
              "      <th>0</th>\n",
              "      <td>11-03-2020</td>\n",
              "      <td>TRUE</td>\n",
              "      <td>FALSE</td>\n",
              "      <td>TRUE</td>\n",
              "      <td>FALSE</td>\n",
              "      <td>FALSE</td>\n",
              "      <td>negative</td>\n",
              "      <td>None</td>\n",
              "      <td>None</td>\n",
              "      <td>Abroad</td>\n",
              "    </tr>\n",
              "    <tr>\n",
              "      <th>1</th>\n",
              "      <td>11-03-2020</td>\n",
              "      <td>FALSE</td>\n",
              "      <td>TRUE</td>\n",
              "      <td>FALSE</td>\n",
              "      <td>FALSE</td>\n",
              "      <td>FALSE</td>\n",
              "      <td>positive</td>\n",
              "      <td>None</td>\n",
              "      <td>None</td>\n",
              "      <td>Abroad</td>\n",
              "    </tr>\n",
              "    <tr>\n",
              "      <th>2</th>\n",
              "      <td>11-03-2020</td>\n",
              "      <td>FALSE</td>\n",
              "      <td>TRUE</td>\n",
              "      <td>FALSE</td>\n",
              "      <td>FALSE</td>\n",
              "      <td>FALSE</td>\n",
              "      <td>positive</td>\n",
              "      <td>None</td>\n",
              "      <td>None</td>\n",
              "      <td>Abroad</td>\n",
              "    </tr>\n",
              "    <tr>\n",
              "      <th>3</th>\n",
              "      <td>11-03-2020</td>\n",
              "      <td>TRUE</td>\n",
              "      <td>FALSE</td>\n",
              "      <td>FALSE</td>\n",
              "      <td>FALSE</td>\n",
              "      <td>FALSE</td>\n",
              "      <td>negative</td>\n",
              "      <td>None</td>\n",
              "      <td>None</td>\n",
              "      <td>Abroad</td>\n",
              "    </tr>\n",
              "    <tr>\n",
              "      <th>4</th>\n",
              "      <td>11-03-2020</td>\n",
              "      <td>TRUE</td>\n",
              "      <td>FALSE</td>\n",
              "      <td>FALSE</td>\n",
              "      <td>FALSE</td>\n",
              "      <td>FALSE</td>\n",
              "      <td>negative</td>\n",
              "      <td>None</td>\n",
              "      <td>None</td>\n",
              "      <td>Contact with confirmed</td>\n",
              "    </tr>\n",
              "  </tbody>\n",
              "</table>\n",
              "</div>\n",
              "    <div class=\"colab-df-buttons\">\n",
              "\n",
              "  <div class=\"colab-df-container\">\n",
              "    <button class=\"colab-df-convert\" onclick=\"convertToInteractive('df-f374e714-2f35-40bb-9ca0-d83dfb0c5c53')\"\n",
              "            title=\"Convert this dataframe to an interactive table.\"\n",
              "            style=\"display:none;\">\n",
              "\n",
              "  <svg xmlns=\"http://www.w3.org/2000/svg\" height=\"24px\" viewBox=\"0 -960 960 960\">\n",
              "    <path d=\"M120-120v-720h720v720H120Zm60-500h600v-160H180v160Zm220 220h160v-160H400v160Zm0 220h160v-160H400v160ZM180-400h160v-160H180v160Zm440 0h160v-160H620v160ZM180-180h160v-160H180v160Zm440 0h160v-160H620v160Z\"/>\n",
              "  </svg>\n",
              "    </button>\n",
              "\n",
              "  <style>\n",
              "    .colab-df-container {\n",
              "      display:flex;\n",
              "      gap: 12px;\n",
              "    }\n",
              "\n",
              "    .colab-df-convert {\n",
              "      background-color: #E8F0FE;\n",
              "      border: none;\n",
              "      border-radius: 50%;\n",
              "      cursor: pointer;\n",
              "      display: none;\n",
              "      fill: #1967D2;\n",
              "      height: 32px;\n",
              "      padding: 0 0 0 0;\n",
              "      width: 32px;\n",
              "    }\n",
              "\n",
              "    .colab-df-convert:hover {\n",
              "      background-color: #E2EBFA;\n",
              "      box-shadow: 0px 1px 2px rgba(60, 64, 67, 0.3), 0px 1px 3px 1px rgba(60, 64, 67, 0.15);\n",
              "      fill: #174EA6;\n",
              "    }\n",
              "\n",
              "    .colab-df-buttons div {\n",
              "      margin-bottom: 4px;\n",
              "    }\n",
              "\n",
              "    [theme=dark] .colab-df-convert {\n",
              "      background-color: #3B4455;\n",
              "      fill: #D2E3FC;\n",
              "    }\n",
              "\n",
              "    [theme=dark] .colab-df-convert:hover {\n",
              "      background-color: #434B5C;\n",
              "      box-shadow: 0px 1px 3px 1px rgba(0, 0, 0, 0.15);\n",
              "      filter: drop-shadow(0px 1px 2px rgba(0, 0, 0, 0.3));\n",
              "      fill: #FFFFFF;\n",
              "    }\n",
              "  </style>\n",
              "\n",
              "    <script>\n",
              "      const buttonEl =\n",
              "        document.querySelector('#df-f374e714-2f35-40bb-9ca0-d83dfb0c5c53 button.colab-df-convert');\n",
              "      buttonEl.style.display =\n",
              "        google.colab.kernel.accessAllowed ? 'block' : 'none';\n",
              "\n",
              "      async function convertToInteractive(key) {\n",
              "        const element = document.querySelector('#df-f374e714-2f35-40bb-9ca0-d83dfb0c5c53');\n",
              "        const dataTable =\n",
              "          await google.colab.kernel.invokeFunction('convertToInteractive',\n",
              "                                                    [key], {});\n",
              "        if (!dataTable) return;\n",
              "\n",
              "        const docLinkHtml = 'Like what you see? Visit the ' +\n",
              "          '<a target=\"_blank\" href=https://colab.research.google.com/notebooks/data_table.ipynb>data table notebook</a>'\n",
              "          + ' to learn more about interactive tables.';\n",
              "        element.innerHTML = '';\n",
              "        dataTable['output_type'] = 'display_data';\n",
              "        await google.colab.output.renderOutput(dataTable, element);\n",
              "        const docLink = document.createElement('div');\n",
              "        docLink.innerHTML = docLinkHtml;\n",
              "        element.appendChild(docLink);\n",
              "      }\n",
              "    </script>\n",
              "  </div>\n",
              "\n",
              "\n",
              "<div id=\"df-735fc800-602d-4f0a-bb4c-ca60894e1d44\">\n",
              "  <button class=\"colab-df-quickchart\" onclick=\"quickchart('df-735fc800-602d-4f0a-bb4c-ca60894e1d44')\"\n",
              "            title=\"Suggest charts\"\n",
              "            style=\"display:none;\">\n",
              "\n",
              "<svg xmlns=\"http://www.w3.org/2000/svg\" height=\"24px\"viewBox=\"0 0 24 24\"\n",
              "     width=\"24px\">\n",
              "    <g>\n",
              "        <path d=\"M19 3H5c-1.1 0-2 .9-2 2v14c0 1.1.9 2 2 2h14c1.1 0 2-.9 2-2V5c0-1.1-.9-2-2-2zM9 17H7v-7h2v7zm4 0h-2V7h2v10zm4 0h-2v-4h2v4z\"/>\n",
              "    </g>\n",
              "</svg>\n",
              "  </button>\n",
              "\n",
              "<style>\n",
              "  .colab-df-quickchart {\n",
              "      --bg-color: #E8F0FE;\n",
              "      --fill-color: #1967D2;\n",
              "      --hover-bg-color: #E2EBFA;\n",
              "      --hover-fill-color: #174EA6;\n",
              "      --disabled-fill-color: #AAA;\n",
              "      --disabled-bg-color: #DDD;\n",
              "  }\n",
              "\n",
              "  [theme=dark] .colab-df-quickchart {\n",
              "      --bg-color: #3B4455;\n",
              "      --fill-color: #D2E3FC;\n",
              "      --hover-bg-color: #434B5C;\n",
              "      --hover-fill-color: #FFFFFF;\n",
              "      --disabled-bg-color: #3B4455;\n",
              "      --disabled-fill-color: #666;\n",
              "  }\n",
              "\n",
              "  .colab-df-quickchart {\n",
              "    background-color: var(--bg-color);\n",
              "    border: none;\n",
              "    border-radius: 50%;\n",
              "    cursor: pointer;\n",
              "    display: none;\n",
              "    fill: var(--fill-color);\n",
              "    height: 32px;\n",
              "    padding: 0;\n",
              "    width: 32px;\n",
              "  }\n",
              "\n",
              "  .colab-df-quickchart:hover {\n",
              "    background-color: var(--hover-bg-color);\n",
              "    box-shadow: 0 1px 2px rgba(60, 64, 67, 0.3), 0 1px 3px 1px rgba(60, 64, 67, 0.15);\n",
              "    fill: var(--button-hover-fill-color);\n",
              "  }\n",
              "\n",
              "  .colab-df-quickchart-complete:disabled,\n",
              "  .colab-df-quickchart-complete:disabled:hover {\n",
              "    background-color: var(--disabled-bg-color);\n",
              "    fill: var(--disabled-fill-color);\n",
              "    box-shadow: none;\n",
              "  }\n",
              "\n",
              "  .colab-df-spinner {\n",
              "    border: 2px solid var(--fill-color);\n",
              "    border-color: transparent;\n",
              "    border-bottom-color: var(--fill-color);\n",
              "    animation:\n",
              "      spin 1s steps(1) infinite;\n",
              "  }\n",
              "\n",
              "  @keyframes spin {\n",
              "    0% {\n",
              "      border-color: transparent;\n",
              "      border-bottom-color: var(--fill-color);\n",
              "      border-left-color: var(--fill-color);\n",
              "    }\n",
              "    20% {\n",
              "      border-color: transparent;\n",
              "      border-left-color: var(--fill-color);\n",
              "      border-top-color: var(--fill-color);\n",
              "    }\n",
              "    30% {\n",
              "      border-color: transparent;\n",
              "      border-left-color: var(--fill-color);\n",
              "      border-top-color: var(--fill-color);\n",
              "      border-right-color: var(--fill-color);\n",
              "    }\n",
              "    40% {\n",
              "      border-color: transparent;\n",
              "      border-right-color: var(--fill-color);\n",
              "      border-top-color: var(--fill-color);\n",
              "    }\n",
              "    60% {\n",
              "      border-color: transparent;\n",
              "      border-right-color: var(--fill-color);\n",
              "    }\n",
              "    80% {\n",
              "      border-color: transparent;\n",
              "      border-right-color: var(--fill-color);\n",
              "      border-bottom-color: var(--fill-color);\n",
              "    }\n",
              "    90% {\n",
              "      border-color: transparent;\n",
              "      border-bottom-color: var(--fill-color);\n",
              "    }\n",
              "  }\n",
              "</style>\n",
              "\n",
              "  <script>\n",
              "    async function quickchart(key) {\n",
              "      const quickchartButtonEl =\n",
              "        document.querySelector('#' + key + ' button');\n",
              "      quickchartButtonEl.disabled = true;  // To prevent multiple clicks.\n",
              "      quickchartButtonEl.classList.add('colab-df-spinner');\n",
              "      try {\n",
              "        const charts = await google.colab.kernel.invokeFunction(\n",
              "            'suggestCharts', [key], {});\n",
              "      } catch (error) {\n",
              "        console.error('Error during call to suggestCharts:', error);\n",
              "      }\n",
              "      quickchartButtonEl.classList.remove('colab-df-spinner');\n",
              "      quickchartButtonEl.classList.add('colab-df-quickchart-complete');\n",
              "    }\n",
              "    (() => {\n",
              "      let quickchartButtonEl =\n",
              "        document.querySelector('#df-735fc800-602d-4f0a-bb4c-ca60894e1d44 button');\n",
              "      quickchartButtonEl.style.display =\n",
              "        google.colab.kernel.accessAllowed ? 'block' : 'none';\n",
              "    })();\n",
              "  </script>\n",
              "</div>\n",
              "\n",
              "    </div>\n",
              "  </div>\n"
            ],
            "text/plain": [
              "    Test_date Cough_symptoms  Fever Sore_throat Shortness_of_breath Headache  \\\n",
              "0  11-03-2020           TRUE  FALSE        TRUE               FALSE    FALSE   \n",
              "1  11-03-2020          FALSE   TRUE       FALSE               FALSE    FALSE   \n",
              "2  11-03-2020          FALSE   TRUE       FALSE               FALSE    FALSE   \n",
              "3  11-03-2020           TRUE  FALSE       FALSE               FALSE    FALSE   \n",
              "4  11-03-2020           TRUE  FALSE       FALSE               FALSE    FALSE   \n",
              "\n",
              "     Corona Age_60_above   Sex           Known_contact  \n",
              "0  negative         None  None                  Abroad  \n",
              "1  positive         None  None                  Abroad  \n",
              "2  positive         None  None                  Abroad  \n",
              "3  negative         None  None                  Abroad  \n",
              "4  negative         None  None  Contact with confirmed  "
            ]
          },
          "execution_count": 22,
          "metadata": {},
          "output_type": "execute_result"
        }
      ],
      "source": [
        "data.head()"
      ]
    },
    {
      "cell_type": "markdown",
      "metadata": {
        "id": "8kP93Gu4S5is"
      },
      "source": [
        "In the 'Cough_symptoms','Fever','Sore_throat','Shortness_of_breath' and 'Headache' columns of dataset, we can see that there are values as 'TRUE','FALSE','True' and 'False' which we are going to deal with by converting them in lowercase.  "
      ]
    },
    {
      "cell_type": "code",
      "execution_count": 23,
      "metadata": {
        "colab": {
          "base_uri": "https://localhost:8080/"
        },
        "id": "OCXctl9kCRHP",
        "outputId": "e5319f68-3a19-4fba-91db-8d21f15de2ca"
      },
      "outputs": [
        {
          "data": {
            "text/plain": [
              "False    127531\n",
              "FALSE    108837\n",
              "TRUE      21983\n",
              "True      20245\n",
              "None        252\n",
              "Name: Cough_symptoms, dtype: int64"
            ]
          },
          "execution_count": 23,
          "metadata": {},
          "output_type": "execute_result"
        }
      ],
      "source": [
        "data['Cough_symptoms'].value_counts()"
      ]
    },
    {
      "cell_type": "code",
      "execution_count": 24,
      "metadata": {
        "id": "q4qeVQKrBVt6"
      },
      "outputs": [],
      "source": [
        "data['Cough_symptoms'] = data['Cough_symptoms'].apply(lambda x : str(x).lower() )"
      ]
    },
    {
      "cell_type": "code",
      "execution_count": 25,
      "metadata": {
        "colab": {
          "base_uri": "https://localhost:8080/"
        },
        "id": "nY9Ccm_DBxlB",
        "outputId": "c6ac1244-e5f9-46db-eb18-1753da8ea1a5"
      },
      "outputs": [
        {
          "data": {
            "text/plain": [
              "false    236368\n",
              "true      42228\n",
              "none        252\n",
              "Name: Cough_symptoms, dtype: int64"
            ]
          },
          "execution_count": 25,
          "metadata": {},
          "output_type": "execute_result"
        }
      ],
      "source": [
        "data['Cough_symptoms'].value_counts()"
      ]
    },
    {
      "cell_type": "code",
      "execution_count": 26,
      "metadata": {
        "colab": {
          "base_uri": "https://localhost:8080/"
        },
        "id": "fxVflghp7l_h",
        "outputId": "db601a24-ebf4-4f5d-849f-10b572890f9b"
      },
      "outputs": [
        {
          "data": {
            "text/plain": [
              "False    137774\n",
              "FALSE    119070\n",
              "TRUE      11750\n",
              "True      10002\n",
              "None        252\n",
              "Name: Fever, dtype: int64"
            ]
          },
          "execution_count": 26,
          "metadata": {},
          "output_type": "execute_result"
        }
      ],
      "source": [
        "data['Fever'].value_counts()"
      ]
    },
    {
      "cell_type": "code",
      "execution_count": 27,
      "metadata": {
        "id": "eL3Vod_PNNx_"
      },
      "outputs": [],
      "source": [
        "data['Fever'] = data['Fever'].apply(lambda x : str(x).lower())\n",
        "data['Fever'] = data['Fever'].apply(lambda x : 'false' if x == 'fal' else x)"
      ]
    },
    {
      "cell_type": "code",
      "execution_count": 28,
      "metadata": {
        "colab": {
          "base_uri": "https://localhost:8080/"
        },
        "id": "bXakZekgNTPf",
        "outputId": "e46faa98-7e80-4655-a3c8-7aa798c615bf"
      },
      "outputs": [
        {
          "data": {
            "text/plain": [
              "false    256844\n",
              "true      21752\n",
              "none        252\n",
              "Name: Fever, dtype: int64"
            ]
          },
          "execution_count": 28,
          "metadata": {},
          "output_type": "execute_result"
        }
      ],
      "source": [
        "data['Fever'].value_counts()"
      ]
    },
    {
      "cell_type": "code",
      "execution_count": 29,
      "metadata": {
        "colab": {
          "base_uri": "https://localhost:8080/"
        },
        "id": "CA_Xnd8FSgyh",
        "outputId": "1efe7184-4a1e-4bcc-dccf-dc8d896e1dec"
      },
      "outputs": [
        {
          "data": {
            "text/plain": [
              "False    212584\n",
              "FALSE     64337\n",
              "TRUE       1198\n",
              "True        728\n",
              "None          1\n",
              "Name: Sore_throat, dtype: int64"
            ]
          },
          "execution_count": 29,
          "metadata": {},
          "output_type": "execute_result"
        }
      ],
      "source": [
        "data['Sore_throat'].value_counts()"
      ]
    },
    {
      "cell_type": "code",
      "execution_count": 30,
      "metadata": {
        "colab": {
          "base_uri": "https://localhost:8080/"
        },
        "id": "V-jMtTvR-GJ4",
        "outputId": "04576e18-d340-48ba-a29d-43b3f23a7393"
      },
      "outputs": [
        {
          "data": {
            "text/plain": [
              "false    276921\n",
              "true       1926\n",
              "none          1\n",
              "Name: Sore_throat, dtype: int64"
            ]
          },
          "execution_count": 30,
          "metadata": {},
          "output_type": "execute_result"
        }
      ],
      "source": [
        "data['Sore_throat'] = data['Sore_throat'].apply(lambda x : str(x).lower())\n",
        "data['Sore_throat'].value_counts()\n"
      ]
    },
    {
      "cell_type": "code",
      "execution_count": 31,
      "metadata": {
        "colab": {
          "base_uri": "https://localhost:8080/"
        },
        "id": "cOxwRXN9OGuP",
        "outputId": "870dd0e3-933f-4efa-9fba-43e3f1f7f601"
      },
      "outputs": [
        {
          "data": {
            "text/plain": [
              "False    212842\n",
              "FALSE     64428\n",
              "TRUE       1107\n",
              "True        470\n",
              "None          1\n",
              "Name: Shortness_of_breath, dtype: int64"
            ]
          },
          "execution_count": 31,
          "metadata": {},
          "output_type": "execute_result"
        }
      ],
      "source": [
        "data['Shortness_of_breath'].value_counts()"
      ]
    },
    {
      "cell_type": "code",
      "execution_count": 32,
      "metadata": {
        "colab": {
          "base_uri": "https://localhost:8080/"
        },
        "id": "JvjdAsjL-rpk",
        "outputId": "25ae3d2d-e3bc-4d1a-ef34-c1a73e09e2d4"
      },
      "outputs": [
        {
          "data": {
            "text/plain": [
              "false    277270\n",
              "true       1577\n",
              "none          1\n",
              "Name: Shortness_of_breath, dtype: int64"
            ]
          },
          "execution_count": 32,
          "metadata": {},
          "output_type": "execute_result"
        }
      ],
      "source": [
        "data['Shortness_of_breath'] = data['Shortness_of_breath'].apply(lambda x : str(x).lower())\n",
        "data['Shortness_of_breath'].value_counts()"
      ]
    },
    {
      "cell_type": "code",
      "execution_count": 33,
      "metadata": {
        "colab": {
          "base_uri": "https://localhost:8080/"
        },
        "id": "1k-euGzf-3G8",
        "outputId": "1d0ab5f8-e0ff-43fd-8798-570f1bad13be"
      },
      "outputs": [
        {
          "data": {
            "text/plain": [
              "False    212326\n",
              "FALSE     64107\n",
              "TRUE       1428\n",
              "True        986\n",
              "None          1\n",
              "Name: Headache, dtype: int64"
            ]
          },
          "execution_count": 33,
          "metadata": {},
          "output_type": "execute_result"
        }
      ],
      "source": [
        "data['Headache'].value_counts()"
      ]
    },
    {
      "cell_type": "code",
      "execution_count": 34,
      "metadata": {
        "colab": {
          "base_uri": "https://localhost:8080/"
        },
        "id": "v2Hfg_bj-_l5",
        "outputId": "140e3766-eb06-4ec2-e93b-2a05327341fc"
      },
      "outputs": [
        {
          "data": {
            "text/plain": [
              "false    276433\n",
              "true       2414\n",
              "none          1\n",
              "Name: Headache, dtype: int64"
            ]
          },
          "execution_count": 34,
          "metadata": {},
          "output_type": "execute_result"
        }
      ],
      "source": [
        "data['Headache'] = data['Headache'].apply(lambda x : str(x).lower())\n",
        "data['Headache'].value_counts()"
      ]
    },
    {
      "cell_type": "code",
      "execution_count": 35,
      "metadata": {
        "colab": {
          "base_uri": "https://localhost:8080/"
        },
        "id": "eaWaR9ngALFy",
        "outputId": "ec20c48d-89ad-4073-f42e-fd1c4236bf52"
      },
      "outputs": [
        {
          "data": {
            "text/plain": [
              "None    127320\n",
              "No      125703\n",
              "Yes      25825\n",
              "Name: Age_60_above, dtype: int64"
            ]
          },
          "execution_count": 35,
          "metadata": {},
          "output_type": "execute_result"
        }
      ],
      "source": [
        "data['Age_60_above'].value_counts()"
      ]
    },
    {
      "cell_type": "code",
      "execution_count": 36,
      "metadata": {
        "colab": {
          "base_uri": "https://localhost:8080/"
        },
        "id": "szQCBIovAcL0",
        "outputId": "713c35b4-4c59-423e-8a25-b881b61c8495"
      },
      "outputs": [
        {
          "data": {
            "text/plain": [
              "female    130158\n",
              "male      129127\n",
              "None       19563\n",
              "Name: Sex, dtype: int64"
            ]
          },
          "execution_count": 36,
          "metadata": {},
          "output_type": "execute_result"
        }
      ],
      "source": [
        "data['Sex'].value_counts()"
      ]
    },
    {
      "cell_type": "code",
      "execution_count": 37,
      "metadata": {
        "colab": {
          "base_uri": "https://localhost:8080/"
        },
        "id": "HnvgzrQIAkcK",
        "outputId": "7f0c1dd9-f6a1-4ec1-f3b2-81cac5fbb78b"
      },
      "outputs": [
        {
          "data": {
            "text/plain": [
              "Other                     242741\n",
              "Abroad                     25468\n",
              "Contact with confirmed     10639\n",
              "Name: Known_contact, dtype: int64"
            ]
          },
          "execution_count": 37,
          "metadata": {},
          "output_type": "execute_result"
        }
      ],
      "source": [
        "data['Known_contact'].value_counts()"
      ]
    },
    {
      "cell_type": "code",
      "execution_count": 38,
      "metadata": {
        "colab": {
          "base_uri": "https://localhost:8080/"
        },
        "id": "qskI4Oocibae",
        "outputId": "5897cfb8-b7c8-4108-dbce-8bf6234770eb"
      },
      "outputs": [
        {
          "data": {
            "text/plain": [
              "negative    260227\n",
              "positive     14729\n",
              "other         3892\n",
              "Name: Corona, dtype: int64"
            ]
          },
          "execution_count": 38,
          "metadata": {},
          "output_type": "execute_result"
        }
      ],
      "source": [
        "data['Corona'].value_counts()"
      ]
    },
    {
      "cell_type": "markdown",
      "metadata": {
        "id": "e5ziM5xMifll"
      },
      "source": [
        "We have three values in target variable ,that is, 'negative','positive' and 'others'. Since, we need to built a model that can predict whether a person is covid positive or negative and 'other' values is quite less, we can replace it with 'negative' as 'negative' values are quite high."
      ]
    },
    {
      "cell_type": "code",
      "execution_count": 39,
      "metadata": {
        "colab": {
          "base_uri": "https://localhost:8080/"
        },
        "id": "tJuYLx2lN35a",
        "outputId": "78df16ca-f888-4e4b-fcf2-38df80684b47"
      },
      "outputs": [
        {
          "data": {
            "text/plain": [
              "negative    264119\n",
              "positive     14729\n",
              "Name: Corona, dtype: int64"
            ]
          },
          "execution_count": 39,
          "metadata": {},
          "output_type": "execute_result"
        }
      ],
      "source": [
        "#replacing 'other' to 'negative' values\n",
        "data['Corona'] = data['Corona'].replace('other','negative')\n",
        "data['Corona'].value_counts()"
      ]
    },
    {
      "cell_type": "markdown",
      "metadata": {
        "id": "lHuBeJ43kJFn"
      },
      "source": [
        "Making a copy of this cleaned data which will be used later for performing sql queries"
      ]
    },
    {
      "cell_type": "code",
      "execution_count": 40,
      "metadata": {
        "id": "SO73iaDGMgOP"
      },
      "outputs": [],
      "source": [
        "cleaned_data_sql = data.copy()"
      ]
    },
    {
      "cell_type": "code",
      "execution_count": 41,
      "metadata": {
        "id": "bquUG2lTD0nB"
      },
      "outputs": [],
      "source": [
        "# changing date column into datetime dtype\n",
        "cleaned_data_sql['Test_date'] = pd.to_datetime(cleaned_data_sql['Test_date'], format='%d-%m-%Y')\n",
        "\n",
        "# format the dates in 'YYYY-MM-DD' format for the cleaned dataset\n",
        "cleaned_data_sql['Test_date'] = cleaned_data_sql['Test_date'].dt.strftime('%Y-%m-%d')\n",
        "\n"
      ]
    },
    {
      "cell_type": "markdown",
      "metadata": {
        "id": "1HRttxAZKXHg"
      },
      "source": [
        "## TESTING HYPOTHESIS 1"
      ]
    },
    {
      "cell_type": "markdown",
      "metadata": {
        "id": "iOW6l87mxQgv"
      },
      "source": [
        "***Performing Chi-Square test and using countplot graph to prove or disprove the first hypothesis that is, the relation between Fever with Corona***"
      ]
    },
    {
      "cell_type": "code",
      "execution_count": 42,
      "metadata": {
        "colab": {
          "base_uri": "https://localhost:8080/"
        },
        "id": "qN7WaO271e2e",
        "outputId": "6d789542-ea9d-4664-d367-758534f21a8d"
      },
      "outputs": [
        {
          "name": "stdout",
          "output_type": "stream",
          "text": [
            "Chi-square statistic: 19428.741638683237\n",
            "P-value: 0.0\n"
          ]
        }
      ],
      "source": [
        "from scipy.stats import chi2_contingency\n",
        "contingency_table = pd.crosstab(data['Fever'], data['Corona'])\n",
        "\n",
        "# Performing the Chi-square test\n",
        "chi2, p, dof, expected = chi2_contingency(contingency_table)\n",
        "\n",
        "print(\"Chi-square statistic:\", chi2)\n",
        "print(\"P-value:\", p)"
      ]
    },
    {
      "cell_type": "code",
      "execution_count": 43,
      "metadata": {
        "colab": {
          "base_uri": "https://localhost:8080/"
        },
        "id": "ueHMFIvc1j0D",
        "outputId": "6893b5b7-8de3-43ab-9317-6d7143f5ad0a"
      },
      "outputs": [
        {
          "name": "stdout",
          "output_type": "stream",
          "text": [
            "There is a significant association between Fever and Corona status.\n"
          ]
        }
      ],
      "source": [
        "# Interpreting the p-value\n",
        "if p < 0.05:\n",
        "    print(\"There is a significant association between Fever and Corona status.\")\n",
        "else:\n",
        "    print(\"There is no significant association between Fever and Corona status.\")"
      ]
    },
    {
      "cell_type": "markdown",
      "metadata": {
        "id": "QnJbyUiG3-cq"
      },
      "source": [
        "**Thus, from above test, we can conclude that out first hypothesis is proved right and fever column has strong correlation with the corona column**"
      ]
    },
    {
      "cell_type": "markdown",
      "metadata": {
        "id": "Gpawv9j8jqlp"
      },
      "source": [
        "## EXPLORATORY DATA ANALYSIS"
      ]
    },
    {
      "cell_type": "code",
      "execution_count": 44,
      "metadata": {
        "colab": {
          "base_uri": "https://localhost:8080/",
          "height": 406
        },
        "id": "LBWX4rFHkwRU",
        "outputId": "02ea9e58-ebf1-4850-ff28-dc33a8fa0d79"
      },
      "outputs": [
        {
          "data": {
            "image/png": "[encoded data removed]",
            "text/plain": [
              "<Figure size 640x480 with 1 Axes>"
            ]
          },
          "metadata": {},
          "output_type": "display_data"
        }
      ],
      "source": [
        "# checking the imbalance of target variable 'Corona' using piechart\n",
        "\n",
        "plt.pie(data['Corona'].value_counts(),labels = ['negative','positive'], autopct = \"%0.2f\")\n",
        "plt.show()"
      ]
    },
    {
      "cell_type": "markdown",
      "metadata": {
        "id": "pAzEMZIflmxW"
      },
      "source": [
        "Data is highly **imbalanced** with **94.72%** are covid **negative** and only **5.28%** are covid **positive**."
      ]
    },
    {
      "cell_type": "markdown",
      "metadata": {
        "id": "XolVPapXpf1O"
      },
      "source": [
        "####DATA VISUALIZATIONS TO FIND PATTERN IN DATA"
      ]
    },
    {
      "cell_type": "code",
      "execution_count": 45,
      "metadata": {
        "colab": {
          "base_uri": "https://localhost:8080/",
          "height": 0
        },
        "id": "VneZR9C8peJe",
        "outputId": "c2351b9e-dadf-4c9d-8b13-f4ca9da5ae3b"
      },
      "outputs": [
        {
          "data": {
            "image/png": "[encoded data removed]",
            "text/plain": [
              "<Figure size 400x200 with 1 Axes>"
            ]
          },
          "metadata": {},
          "output_type": "display_data"
        },
        {
          "data": {
            "image/png": "[encoded data removed]",
            "text/plain": [
              "<Figure size 400x200 with 1 Axes>"
            ]
          },
          "metadata": {},
          "output_type": "display_data"
        },
        {
          "data": {
            "image/png": "[encoded data removed]",
            "text/plain": [
              "<Figure size 400x200 with 1 Axes>"
            ]
          },
          "metadata": {},
          "output_type": "display_data"
        },
        {
          "data": {
            "image/png": "[encoded data removed]",
            "text/plain": [
              "<Figure size 400x200 with 1 Axes>"
            ]
          },
          "metadata": {},
          "output_type": "display_data"
        },
        {
          "data": {
            "image/png": "[encoded data removed]",
            "text/plain": [
              "<Figure size 400x200 with 1 Axes>"
            ]
          },
          "metadata": {},
          "output_type": "display_data"
        },
        {
          "data": {
            "image/png": "[encoded data removed]",
            "text/plain": [
              "<Figure size 400x200 with 1 Axes>"
            ]
          },
          "metadata": {},
          "output_type": "display_data"
        },
        {
          "data": {
            "image/png": "[encoded data removed]",
            "text/plain": [
              "<Figure size 400x200 with 1 Axes>"
            ]
          },
          "metadata": {},
          "output_type": "display_data"
        },
        {
          "data": {
            "image/png": "[encoded data removed]",
            "text/plain": [
              "<Figure size 400x200 with 1 Axes>"
            ]
          },
          "metadata": {},
          "output_type": "display_data"
        }
      ],
      "source": [
        "# Cough_symptoms\n",
        "plt.figure(figsize=(4, 2))\n",
        "sns.countplot(x='Cough_symptoms', hue='Corona', data= data)\n",
        "plt.title(\"Distribution of Cough_symptoms\")\n",
        "plt.ylabel('count')\n",
        "plt.xlabel('Cough_symptoms')\n",
        "plt.show()\n",
        "\n",
        "#Fever\n",
        "plt.figure(figsize=(4, 2))\n",
        "sns.countplot(x='Fever', hue='Corona', data= data)\n",
        "plt.title(\"Distribution of Fever\")\n",
        "plt.ylabel('count')\n",
        "plt.xlabel('Fever')\n",
        "plt.show()\n",
        "\n",
        "#Sore_throat\n",
        "plt.figure(figsize=(4, 2))\n",
        "sns.countplot(x='Sore_throat', hue='Corona', data= data)\n",
        "plt.title(\"Distribution of Sore_throat\")\n",
        "plt.ylabel('count')\n",
        "plt.xlabel('Sore_throat')\n",
        "plt.show()\n",
        "\n",
        "#Shortness_of_breath\n",
        "plt.figure(figsize=(4, 2))\n",
        "sns.countplot(x='Shortness_of_breath', hue='Corona', data= data)\n",
        "plt.title(\"Distribution of Shortness_of_breath\")\n",
        "plt.ylabel('count')\n",
        "plt.xlabel('Shortness_of_breath')\n",
        "plt.show()\n",
        "\n",
        "#Headache\n",
        "plt.figure(figsize=(4, 2))\n",
        "sns.countplot(x='Headache', hue='Corona', data= data)\n",
        "plt.title(\"Distribution of Headache \")\n",
        "plt.ylabel('count')\n",
        "plt.xlabel('Headache')\n",
        "plt.show()\n",
        "\n",
        "#Age_60_above\n",
        "plt.figure(figsize=(4, 2))\n",
        "sns.countplot(x='Age_60_above', hue='Corona', data= data)\n",
        "plt.title(\"Distribution of Age_60_above \")\n",
        "plt.ylabel('count')\n",
        "plt.xlabel('Age_60_above')\n",
        "plt.show()\n",
        "\n",
        "#Sex\n",
        "plt.figure(figsize=(4, 2))\n",
        "sns.countplot(x='Sex', hue='Corona', data= data)\n",
        "plt.title(\"Distribution of Sex \")\n",
        "plt.ylabel('count')\n",
        "plt.xlabel('Sex')\n",
        "plt.show()\n",
        "\n",
        "#Known_contact\n",
        "plt.figure(figsize=(4, 2))\n",
        "sns.countplot(x='Known_contact', hue='Corona', data= data)\n",
        "plt.title(\"Distribution of Known_contact\")\n",
        "plt.ylabel('count')\n",
        "plt.xlabel('Known_contact')\n",
        "plt.show()"
      ]
    },
    {
      "cell_type": "markdown",
      "metadata": {
        "id": "b8wtYxDbqnpE"
      },
      "source": [
        "**OBSERVATIONS:**\n",
        "\n",
        "*From the above visualization, we can confer that -*\n",
        "* **Most corona positive patients have cough_symptoms and fever.**\n",
        "* **Most of the corona positive patients have been in contact with other confirmed positive patients**\n",
        "* **We can also see that more corona positive patients are below age 60**"
      ]
    },
    {
      "cell_type": "markdown",
      "metadata": {
        "id": "MGIln546K6pO"
      },
      "source": [
        "## TESTING HYPOTHESIS 2"
      ]
    },
    {
      "cell_type": "markdown",
      "metadata": {
        "id": "mj6I_9Et4c1F"
      },
      "source": [
        "**From above count plot graphs in Exploratory data analysis, we can conclude that our second hypothesis is proved right and most of the individuals who were in direct contact with confirmed COVID-19 positive patients tested positive for the virus.**"
      ]
    },
    {
      "cell_type": "markdown",
      "metadata": {
        "id": "XtR96FgsId-p"
      },
      "source": [
        "## FEATURE ENGINEERING"
      ]
    },
    {
      "cell_type": "markdown",
      "metadata": {
        "id": "LAy8XvqWAsf_"
      },
      "source": [
        "Feature engineering is a crucial step in the data preprocessing phase of machine learning and involves creating new features or transforming existing ones to improve the performance of a machine learning model. Essentially, it's about enhancing the input data in ways that make it more informative and suitable for modeling.\n",
        "\n",
        "Following are the Feature engineering techniques that are used in this dataset:\n",
        "* **Categorical Encoding:** Used map function for independent variables and Label Encoder for target variable to convert in numerical features.\n",
        "* **Feature Selection:** Selected important features using Recursive Feature Elimination (RFE) before applying machine learning algorithms.\n",
        "* **Feature Scaling:** Used StandardScaler to standardize the features in the dataset before applying machine learning algorithms.\n",
        "\n",
        "Converted 'Test_date' to datetime data type from object data type.\n",
        "\n",
        "Both the Feature selection and Feature scaling are performed under Machine Learning Approach."
      ]
    },
    {
      "cell_type": "markdown",
      "metadata": {
        "id": "7QQuN-h7ILpO"
      },
      "source": [
        "Encoding categorical to numerical feature using map function and Sklearn LabelEncoder"
      ]
    },
    {
      "cell_type": "code",
      "execution_count": 46,
      "metadata": {
        "colab": {
          "base_uri": "https://localhost:8080/"
        },
        "id": "GJFSucnU6FTa",
        "outputId": "f58f8079-fecc-45d9-e964-789a9bfe1e4a"
      },
      "outputs": [
        {
          "data": {
            "text/plain": [
              "0.0    236368\n",
              "1.0     42228\n",
              "Name: Cough_symptoms, dtype: int64"
            ]
          },
          "execution_count": 46,
          "metadata": {},
          "output_type": "execute_result"
        }
      ],
      "source": [
        "data['Cough_symptoms'] = data['Cough_symptoms'].map({\"true\":1,\"false\":0})\n",
        "data['Cough_symptoms'].value_counts()"
      ]
    },
    {
      "cell_type": "code",
      "execution_count": 47,
      "metadata": {
        "colab": {
          "base_uri": "https://localhost:8080/"
        },
        "id": "D0QdpSzH6Oy2",
        "outputId": "1a66b95c-ebec-451a-d221-11933d85c0a6"
      },
      "outputs": [
        {
          "data": {
            "text/plain": [
              "0.0    256844\n",
              "1.0     21752\n",
              "Name: Fever, dtype: int64"
            ]
          },
          "execution_count": 47,
          "metadata": {},
          "output_type": "execute_result"
        }
      ],
      "source": [
        "data['Fever'] = data['Fever'].map({\"true\":1,\"false\":0})\n",
        "data['Fever'].value_counts()"
      ]
    },
    {
      "cell_type": "code",
      "execution_count": 48,
      "metadata": {
        "colab": {
          "base_uri": "https://localhost:8080/"
        },
        "id": "YTx9u-YN6WSG",
        "outputId": "1a4c032c-c8ce-473e-8fad-01ad0a141884"
      },
      "outputs": [
        {
          "data": {
            "text/plain": [
              "0.0    276921\n",
              "1.0      1926\n",
              "Name: Sore_throat, dtype: int64"
            ]
          },
          "execution_count": 48,
          "metadata": {},
          "output_type": "execute_result"
        }
      ],
      "source": [
        "data['Sore_throat']= data['Sore_throat'].map({\"true\":1,\"false\":0})\n",
        "data['Sore_throat'].value_counts()"
      ]
    },
    {
      "cell_type": "code",
      "execution_count": 49,
      "metadata": {
        "colab": {
          "base_uri": "https://localhost:8080/"
        },
        "id": "_oZcKrrh6dyd",
        "outputId": "00869335-920d-46e4-ee3b-03474a6a3865"
      },
      "outputs": [
        {
          "data": {
            "text/plain": [
              "0.0    277270\n",
              "1.0      1577\n",
              "Name: Shortness_of_breath, dtype: int64"
            ]
          },
          "execution_count": 49,
          "metadata": {},
          "output_type": "execute_result"
        }
      ],
      "source": [
        "data['Shortness_of_breath']= data['Shortness_of_breath'].map({\"true\":1,\"false\":0})\n",
        "data['Shortness_of_breath'].value_counts()"
      ]
    },
    {
      "cell_type": "code",
      "execution_count": 50,
      "metadata": {
        "colab": {
          "base_uri": "https://localhost:8080/"
        },
        "id": "kMebI8Ox6j_p",
        "outputId": "1480dd8a-a68b-4a1e-b15d-895de81baa8e"
      },
      "outputs": [
        {
          "data": {
            "text/plain": [
              "0.0    276433\n",
              "1.0      2414\n",
              "Name: Headache, dtype: int64"
            ]
          },
          "execution_count": 50,
          "metadata": {},
          "output_type": "execute_result"
        }
      ],
      "source": [
        "data['Headache']= data['Headache'].map({\"true\":1,\"false\":0})\n",
        "data['Headache'].value_counts()"
      ]
    },
    {
      "cell_type": "code",
      "execution_count": 51,
      "metadata": {
        "colab": {
          "base_uri": "https://localhost:8080/"
        },
        "id": "9hsazw2e8YeJ",
        "outputId": "8a531d9e-627a-421b-b4cb-16b65f6d4a50"
      },
      "outputs": [
        {
          "data": {
            "text/plain": [
              "(278848, 10)"
            ]
          },
          "execution_count": 51,
          "metadata": {},
          "output_type": "execute_result"
        }
      ],
      "source": [
        "data.shape"
      ]
    },
    {
      "cell_type": "code",
      "execution_count": 52,
      "metadata": {
        "colab": {
          "base_uri": "https://localhost:8080/"
        },
        "id": "4RdCZf_C8Z5F",
        "outputId": "bbaf64ad-81df-4e7e-9d2b-b0ce74553cd2"
      },
      "outputs": [
        {
          "data": {
            "text/plain": [
              "Test_date                0\n",
              "Cough_symptoms         252\n",
              "Fever                  252\n",
              "Sore_throat              1\n",
              "Shortness_of_breath      1\n",
              "Headache                 1\n",
              "Corona                   0\n",
              "Age_60_above             0\n",
              "Sex                      0\n",
              "Known_contact            0\n",
              "dtype: int64"
            ]
          },
          "execution_count": 52,
          "metadata": {},
          "output_type": "execute_result"
        }
      ],
      "source": [
        "data.isnull().sum()"
      ]
    },
    {
      "cell_type": "code",
      "execution_count": 53,
      "metadata": {
        "id": "jA0ULZqq_yH-"
      },
      "outputs": [],
      "source": [
        "data = data.dropna()"
      ]
    },
    {
      "cell_type": "code",
      "execution_count": 54,
      "metadata": {
        "colab": {
          "base_uri": "https://localhost:8080/"
        },
        "id": "jjp_4k9x_ztk",
        "outputId": "2dbb3d82-a06b-40c4-f67e-ea6166bcf38b"
      },
      "outputs": [
        {
          "data": {
            "text/plain": [
              "Test_date              0\n",
              "Cough_symptoms         0\n",
              "Fever                  0\n",
              "Sore_throat            0\n",
              "Shortness_of_breath    0\n",
              "Headache               0\n",
              "Corona                 0\n",
              "Age_60_above           0\n",
              "Sex                    0\n",
              "Known_contact          0\n",
              "dtype: int64"
            ]
          },
          "execution_count": 54,
          "metadata": {},
          "output_type": "execute_result"
        }
      ],
      "source": [
        "# handling null values\n",
        "data.isnull().sum()"
      ]
    },
    {
      "cell_type": "code",
      "execution_count": 55,
      "metadata": {
        "id": "Gcx0miXD3B47"
      },
      "outputs": [],
      "source": [
        "data_corr = data.copy()\n"
      ]
    },
    {
      "cell_type": "code",
      "execution_count": 56,
      "metadata": {
        "colab": {
          "base_uri": "https://localhost:8080/"
        },
        "id": "zECs1c4534aE",
        "outputId": "a7d9d718-981d-4fcf-e315-c1baa8167b2b"
      },
      "outputs": [
        {
          "data": {
            "text/plain": [
              "2    127315\n",
              "1    125504\n",
              "0     25775\n",
              "Name: Age_60_above, dtype: int64"
            ]
          },
          "execution_count": 56,
          "metadata": {},
          "output_type": "execute_result"
        }
      ],
      "source": [
        "data['Age_60_above']= data['Age_60_above'].map({\"Yes\":0,\"No\":1,\"None\": 2})\n",
        "data['Age_60_above'].value_counts()"
      ]
    },
    {
      "cell_type": "code",
      "execution_count": 57,
      "metadata": {
        "colab": {
          "base_uri": "https://localhost:8080/"
        },
        "id": "2tZHwBYV35J8",
        "outputId": "cd603d12-67b4-4356-8527-b388e673d4a9"
      },
      "outputs": [
        {
          "data": {
            "text/plain": [
              "0    130030\n",
              "1    129012\n",
              "2     19552\n",
              "Name: Sex, dtype: int64"
            ]
          },
          "execution_count": 57,
          "metadata": {},
          "output_type": "execute_result"
        }
      ],
      "source": [
        "data['Sex']= data['Sex'].map({\"female\":0,\"male\":1,'None':2})\n",
        "data['Sex'].value_counts()"
      ]
    },
    {
      "cell_type": "code",
      "execution_count": 58,
      "metadata": {
        "colab": {
          "base_uri": "https://localhost:8080/"
        },
        "id": "H-Wdasqd4Dhm",
        "outputId": "396fd718-1113-40a8-ac36-37167f051582"
      },
      "outputs": [
        {
          "data": {
            "text/plain": [
              "0    242504\n",
              "1     25462\n",
              "2     10628\n",
              "Name: Known_contact, dtype: int64"
            ]
          },
          "execution_count": 58,
          "metadata": {},
          "output_type": "execute_result"
        }
      ],
      "source": [
        "data['Known_contact']= data['Known_contact'].map({\"Other\":0,\"Abroad\":1,\"Contact with confirmed\":2})\n",
        "data['Known_contact'].value_counts()"
      ]
    },
    {
      "cell_type": "code",
      "execution_count": 59,
      "metadata": {
        "colab": {
          "base_uri": "https://localhost:8080/",
          "height": 0
        },
        "id": "XhSbnJzB5muF",
        "outputId": "d286403d-11b2-42ee-8feb-c341bc01ba8b"
      },
      "outputs": [
        {
          "data": {
            "text/html": [
              "\n",
              "  <div id=\"df-695f0508-466a-4e08-b060-7745dd8d6650\" class=\"colab-df-container\">\n",
              "    <div>\n",
              "<style scoped>\n",
              "    .dataframe tbody tr th:only-of-type {\n",
              "        vertical-align: middle;\n",
              "    }\n",
              "\n",
              "    .dataframe tbody tr th {\n",
              "        vertical-align: top;\n",
              "    }\n",
              "\n",
              "    .dataframe thead th {\n",
              "        text-align: right;\n",
              "    }\n",
              "</style>\n",
              "<table border=\"1\" class=\"dataframe\">\n",
              "  <thead>\n",
              "    <tr style=\"text-align: right;\">\n",
              "      <th></th>\n",
              "      <th>Test_date</th>\n",
              "      <th>Cough_symptoms</th>\n",
              "      <th>Fever</th>\n",
              "      <th>Sore_throat</th>\n",
              "      <th>Shortness_of_breath</th>\n",
              "      <th>Headache</th>\n",
              "      <th>Corona</th>\n",
              "      <th>Age_60_above</th>\n",
              "      <th>Sex</th>\n",
              "      <th>Known_contact</th>\n",
              "    </tr>\n",
              "  </thead>\n",
              "  <tbody>\n",
              "    <tr>\n",
              "      <th>0</th>\n",
              "      <td>11-03-2020</td>\n",
              "      <td>1.0</td>\n",
              "      <td>0.0</td>\n",
              "      <td>1.0</td>\n",
              "      <td>0.0</td>\n",
              "      <td>0.0</td>\n",
              "      <td>0</td>\n",
              "      <td>2</td>\n",
              "      <td>2</td>\n",
              "      <td>1</td>\n",
              "    </tr>\n",
              "    <tr>\n",
              "      <th>1</th>\n",
              "      <td>11-03-2020</td>\n",
              "      <td>0.0</td>\n",
              "      <td>1.0</td>\n",
              "      <td>0.0</td>\n",
              "      <td>0.0</td>\n",
              "      <td>0.0</td>\n",
              "      <td>1</td>\n",
              "      <td>2</td>\n",
              "      <td>2</td>\n",
              "      <td>1</td>\n",
              "    </tr>\n",
              "    <tr>\n",
              "      <th>2</th>\n",
              "      <td>11-03-2020</td>\n",
              "      <td>0.0</td>\n",
              "      <td>1.0</td>\n",
              "      <td>0.0</td>\n",
              "      <td>0.0</td>\n",
              "      <td>0.0</td>\n",
              "      <td>1</td>\n",
              "      <td>2</td>\n",
              "      <td>2</td>\n",
              "      <td>1</td>\n",
              "    </tr>\n",
              "    <tr>\n",
              "      <th>3</th>\n",
              "      <td>11-03-2020</td>\n",
              "      <td>1.0</td>\n",
              "      <td>0.0</td>\n",
              "      <td>0.0</td>\n",
              "      <td>0.0</td>\n",
              "      <td>0.0</td>\n",
              "      <td>0</td>\n",
              "      <td>2</td>\n",
              "      <td>2</td>\n",
              "      <td>1</td>\n",
              "    </tr>\n",
              "    <tr>\n",
              "      <th>4</th>\n",
              "      <td>11-03-2020</td>\n",
              "      <td>1.0</td>\n",
              "      <td>0.0</td>\n",
              "      <td>0.0</td>\n",
              "      <td>0.0</td>\n",
              "      <td>0.0</td>\n",
              "      <td>0</td>\n",
              "      <td>2</td>\n",
              "      <td>2</td>\n",
              "      <td>2</td>\n",
              "    </tr>\n",
              "  </tbody>\n",
              "</table>\n",
              "</div>\n",
              "    <div class=\"colab-df-buttons\">\n",
              "\n",
              "  <div class=\"colab-df-container\">\n",
              "    <button class=\"colab-df-convert\" onclick=\"convertToInteractive('df-695f0508-466a-4e08-b060-7745dd8d6650')\"\n",
              "            title=\"Convert this dataframe to an interactive table.\"\n",
              "            style=\"display:none;\">\n",
              "\n",
              "  <svg xmlns=\"http://www.w3.org/2000/svg\" height=\"24px\" viewBox=\"0 -960 960 960\">\n",
              "    <path d=\"M120-120v-720h720v720H120Zm60-500h600v-160H180v160Zm220 220h160v-160H400v160Zm0 220h160v-160H400v160ZM180-400h160v-160H180v160Zm440 0h160v-160H620v160ZM180-180h160v-160H180v160Zm440 0h160v-160H620v160Z\"/>\n",
              "  </svg>\n",
              "    </button>\n",
              "\n",
              "  <style>\n",
              "    .colab-df-container {\n",
              "      display:flex;\n",
              "      gap: 12px;\n",
              "    }\n",
              "\n",
              "    .colab-df-convert {\n",
              "      background-color: #E8F0FE;\n",
              "      border: none;\n",
              "      border-radius: 50%;\n",
              "      cursor: pointer;\n",
              "      display: none;\n",
              "      fill: #1967D2;\n",
              "      height: 32px;\n",
              "      padding: 0 0 0 0;\n",
              "      width: 32px;\n",
              "    }\n",
              "\n",
              "    .colab-df-convert:hover {\n",
              "      background-color: #E2EBFA;\n",
              "      box-shadow: 0px 1px 2px rgba(60, 64, 67, 0.3), 0px 1px 3px 1px rgba(60, 64, 67, 0.15);\n",
              "      fill: #174EA6;\n",
              "    }\n",
              "\n",
              "    .colab-df-buttons div {\n",
              "      margin-bottom: 4px;\n",
              "    }\n",
              "\n",
              "    [theme=dark] .colab-df-convert {\n",
              "      background-color: #3B4455;\n",
              "      fill: #D2E3FC;\n",
              "    }\n",
              "\n",
              "    [theme=dark] .colab-df-convert:hover {\n",
              "      background-color: #434B5C;\n",
              "      box-shadow: 0px 1px 3px 1px rgba(0, 0, 0, 0.15);\n",
              "      filter: drop-shadow(0px 1px 2px rgba(0, 0, 0, 0.3));\n",
              "      fill: #FFFFFF;\n",
              "    }\n",
              "  </style>\n",
              "\n",
              "    <script>\n",
              "      const buttonEl =\n",
              "        document.querySelector('#df-695f0508-466a-4e08-b060-7745dd8d6650 button.colab-df-convert');\n",
              "      buttonEl.style.display =\n",
              "        google.colab.kernel.accessAllowed ? 'block' : 'none';\n",
              "\n",
              "      async function convertToInteractive(key) {\n",
              "        const element = document.querySelector('#df-695f0508-466a-4e08-b060-7745dd8d6650');\n",
              "        const dataTable =\n",
              "          await google.colab.kernel.invokeFunction('convertToInteractive',\n",
              "                                                    [key], {});\n",
              "        if (!dataTable) return;\n",
              "\n",
              "        const docLinkHtml = 'Like what you see? Visit the ' +\n",
              "          '<a target=\"_blank\" href=https://colab.research.google.com/notebooks/data_table.ipynb>data table notebook</a>'\n",
              "          + ' to learn more about interactive tables.';\n",
              "        element.innerHTML = '';\n",
              "        dataTable['output_type'] = 'display_data';\n",
              "        await google.colab.output.renderOutput(dataTable, element);\n",
              "        const docLink = document.createElement('div');\n",
              "        docLink.innerHTML = docLinkHtml;\n",
              "        element.appendChild(docLink);\n",
              "      }\n",
              "    </script>\n",
              "  </div>\n",
              "\n",
              "\n",
              "<div id=\"df-f4eee1a5-0b8e-4748-86ba-b82507334ade\">\n",
              "  <button class=\"colab-df-quickchart\" onclick=\"quickchart('df-f4eee1a5-0b8e-4748-86ba-b82507334ade')\"\n",
              "            title=\"Suggest charts\"\n",
              "            style=\"display:none;\">\n",
              "\n",
              "<svg xmlns=\"http://www.w3.org/2000/svg\" height=\"24px\"viewBox=\"0 0 24 24\"\n",
              "     width=\"24px\">\n",
              "    <g>\n",
              "        <path d=\"M19 3H5c-1.1 0-2 .9-2 2v14c0 1.1.9 2 2 2h14c1.1 0 2-.9 2-2V5c0-1.1-.9-2-2-2zM9 17H7v-7h2v7zm4 0h-2V7h2v10zm4 0h-2v-4h2v4z\"/>\n",
              "    </g>\n",
              "</svg>\n",
              "  </button>\n",
              "\n",
              "<style>\n",
              "  .colab-df-quickchart {\n",
              "      --bg-color: #E8F0FE;\n",
              "      --fill-color: #1967D2;\n",
              "      --hover-bg-color: #E2EBFA;\n",
              "      --hover-fill-color: #174EA6;\n",
              "      --disabled-fill-color: #AAA;\n",
              "      --disabled-bg-color: #DDD;\n",
              "  }\n",
              "\n",
              "  [theme=dark] .colab-df-quickchart {\n",
              "      --bg-color: #3B4455;\n",
              "      --fill-color: #D2E3FC;\n",
              "      --hover-bg-color: #434B5C;\n",
              "      --hover-fill-color: #FFFFFF;\n",
              "      --disabled-bg-color: #3B4455;\n",
              "      --disabled-fill-color: #666;\n",
              "  }\n",
              "\n",
              "  .colab-df-quickchart {\n",
              "    background-color: var(--bg-color);\n",
              "    border: none;\n",
              "    border-radius: 50%;\n",
              "    cursor: pointer;\n",
              "    display: none;\n",
              "    fill: var(--fill-color);\n",
              "    height: 32px;\n",
              "    padding: 0;\n",
              "    width: 32px;\n",
              "  }\n",
              "\n",
              "  .colab-df-quickchart:hover {\n",
              "    background-color: var(--hover-bg-color);\n",
              "    box-shadow: 0 1px 2px rgba(60, 64, 67, 0.3), 0 1px 3px 1px rgba(60, 64, 67, 0.15);\n",
              "    fill: var(--button-hover-fill-color);\n",
              "  }\n",
              "\n",
              "  .colab-df-quickchart-complete:disabled,\n",
              "  .colab-df-quickchart-complete:disabled:hover {\n",
              "    background-color: var(--disabled-bg-color);\n",
              "    fill: var(--disabled-fill-color);\n",
              "    box-shadow: none;\n",
              "  }\n",
              "\n",
              "  .colab-df-spinner {\n",
              "    border: 2px solid var(--fill-color);\n",
              "    border-color: transparent;\n",
              "    border-bottom-color: var(--fill-color);\n",
              "    animation:\n",
              "      spin 1s steps(1) infinite;\n",
              "  }\n",
              "\n",
              "  @keyframes spin {\n",
              "    0% {\n",
              "      border-color: transparent;\n",
              "      border-bottom-color: var(--fill-color);\n",
              "      border-left-color: var(--fill-color);\n",
              "    }\n",
              "    20% {\n",
              "      border-color: transparent;\n",
              "      border-left-color: var(--fill-color);\n",
              "      border-top-color: var(--fill-color);\n",
              "    }\n",
              "    30% {\n",
              "      border-color: transparent;\n",
              "      border-left-color: var(--fill-color);\n",
              "      border-top-color: var(--fill-color);\n",
              "      border-right-color: var(--fill-color);\n",
              "    }\n",
              "    40% {\n",
              "      border-color: transparent;\n",
              "      border-right-color: var(--fill-color);\n",
              "      border-top-color: var(--fill-color);\n",
              "    }\n",
              "    60% {\n",
              "      border-color: transparent;\n",
              "      border-right-color: var(--fill-color);\n",
              "    }\n",
              "    80% {\n",
              "      border-color: transparent;\n",
              "      border-right-color: var(--fill-color);\n",
              "      border-bottom-color: var(--fill-color);\n",
              "    }\n",
              "    90% {\n",
              "      border-color: transparent;\n",
              "      border-bottom-color: var(--fill-color);\n",
              "    }\n",
              "  }\n",
              "</style>\n",
              "\n",
              "  <script>\n",
              "    async function quickchart(key) {\n",
              "      const quickchartButtonEl =\n",
              "        document.querySelector('#' + key + ' button');\n",
              "      quickchartButtonEl.disabled = true;  // To prevent multiple clicks.\n",
              "      quickchartButtonEl.classList.add('colab-df-spinner');\n",
              "      try {\n",
              "        const charts = await google.colab.kernel.invokeFunction(\n",
              "            'suggestCharts', [key], {});\n",
              "      } catch (error) {\n",
              "        console.error('Error during call to suggestCharts:', error);\n",
              "      }\n",
              "      quickchartButtonEl.classList.remove('colab-df-spinner');\n",
              "      quickchartButtonEl.classList.add('colab-df-quickchart-complete');\n",
              "    }\n",
              "    (() => {\n",
              "      let quickchartButtonEl =\n",
              "        document.querySelector('#df-f4eee1a5-0b8e-4748-86ba-b82507334ade button');\n",
              "      quickchartButtonEl.style.display =\n",
              "        google.colab.kernel.accessAllowed ? 'block' : 'none';\n",
              "    })();\n",
              "  </script>\n",
              "</div>\n",
              "\n",
              "    </div>\n",
              "  </div>\n"
            ],
            "text/plain": [
              "    Test_date  Cough_symptoms  Fever  Sore_throat  Shortness_of_breath  \\\n",
              "0  11-03-2020             1.0    0.0          1.0                  0.0   \n",
              "1  11-03-2020             0.0    1.0          0.0                  0.0   \n",
              "2  11-03-2020             0.0    1.0          0.0                  0.0   \n",
              "3  11-03-2020             1.0    0.0          0.0                  0.0   \n",
              "4  11-03-2020             1.0    0.0          0.0                  0.0   \n",
              "\n",
              "   Headache  Corona  Age_60_above  Sex  Known_contact  \n",
              "0       0.0       0             2    2              1  \n",
              "1       0.0       1             2    2              1  \n",
              "2       0.0       1             2    2              1  \n",
              "3       0.0       0             2    2              1  \n",
              "4       0.0       0             2    2              2  "
            ]
          },
          "execution_count": 59,
          "metadata": {},
          "output_type": "execute_result"
        }
      ],
      "source": [
        "from sklearn.preprocessing import LabelEncoder\n",
        "le = LabelEncoder()\n",
        "data['Corona'] = le.fit_transform(data['Corona'])\n",
        "data.head()"
      ]
    },
    {
      "cell_type": "markdown",
      "metadata": {
        "id": "y68em95J0Waj"
      },
      "source": [
        "Converting 'Test_date' to datetime data type from object data type"
      ]
    },
    {
      "cell_type": "code",
      "execution_count": 60,
      "metadata": {
        "colab": {
          "base_uri": "https://localhost:8080/",
          "height": 0
        },
        "id": "wtK_0XcN0OQJ",
        "outputId": "1f2c9913-3615-4380-e47b-dc7c9dfce1a6"
      },
      "outputs": [
        {
          "data": {
            "text/html": [
              "\n",
              "  <div id=\"df-39c7c535-2469-409b-ab6b-8ae0019afb29\" class=\"colab-df-container\">\n",
              "    <div>\n",
              "<style scoped>\n",
              "    .dataframe tbody tr th:only-of-type {\n",
              "        vertical-align: middle;\n",
              "    }\n",
              "\n",
              "    .dataframe tbody tr th {\n",
              "        vertical-align: top;\n",
              "    }\n",
              "\n",
              "    .dataframe thead th {\n",
              "        text-align: right;\n",
              "    }\n",
              "</style>\n",
              "<table border=\"1\" class=\"dataframe\">\n",
              "  <thead>\n",
              "    <tr style=\"text-align: right;\">\n",
              "      <th></th>\n",
              "      <th>Test_date</th>\n",
              "      <th>Cough_symptoms</th>\n",
              "      <th>Fever</th>\n",
              "      <th>Sore_throat</th>\n",
              "      <th>Shortness_of_breath</th>\n",
              "      <th>Headache</th>\n",
              "      <th>Corona</th>\n",
              "      <th>Age_60_above</th>\n",
              "      <th>Sex</th>\n",
              "      <th>Known_contact</th>\n",
              "    </tr>\n",
              "  </thead>\n",
              "  <tbody>\n",
              "    <tr>\n",
              "      <th>0</th>\n",
              "      <td>2020-03-11</td>\n",
              "      <td>1.0</td>\n",
              "      <td>0.0</td>\n",
              "      <td>1.0</td>\n",
              "      <td>0.0</td>\n",
              "      <td>0.0</td>\n",
              "      <td>0</td>\n",
              "      <td>2</td>\n",
              "      <td>2</td>\n",
              "      <td>1</td>\n",
              "    </tr>\n",
              "    <tr>\n",
              "      <th>1</th>\n",
              "      <td>2020-03-11</td>\n",
              "      <td>0.0</td>\n",
              "      <td>1.0</td>\n",
              "      <td>0.0</td>\n",
              "      <td>0.0</td>\n",
              "      <td>0.0</td>\n",
              "      <td>1</td>\n",
              "      <td>2</td>\n",
              "      <td>2</td>\n",
              "      <td>1</td>\n",
              "    </tr>\n",
              "    <tr>\n",
              "      <th>2</th>\n",
              "      <td>2020-03-11</td>\n",
              "      <td>0.0</td>\n",
              "      <td>1.0</td>\n",
              "      <td>0.0</td>\n",
              "      <td>0.0</td>\n",
              "      <td>0.0</td>\n",
              "      <td>1</td>\n",
              "      <td>2</td>\n",
              "      <td>2</td>\n",
              "      <td>1</td>\n",
              "    </tr>\n",
              "    <tr>\n",
              "      <th>3</th>\n",
              "      <td>2020-03-11</td>\n",
              "      <td>1.0</td>\n",
              "      <td>0.0</td>\n",
              "      <td>0.0</td>\n",
              "      <td>0.0</td>\n",
              "      <td>0.0</td>\n",
              "      <td>0</td>\n",
              "      <td>2</td>\n",
              "      <td>2</td>\n",
              "      <td>1</td>\n",
              "    </tr>\n",
              "    <tr>\n",
              "      <th>4</th>\n",
              "      <td>2020-03-11</td>\n",
              "      <td>1.0</td>\n",
              "      <td>0.0</td>\n",
              "      <td>0.0</td>\n",
              "      <td>0.0</td>\n",
              "      <td>0.0</td>\n",
              "      <td>0</td>\n",
              "      <td>2</td>\n",
              "      <td>2</td>\n",
              "      <td>2</td>\n",
              "    </tr>\n",
              "    <tr>\n",
              "      <th>...</th>\n",
              "      <td>...</td>\n",
              "      <td>...</td>\n",
              "      <td>...</td>\n",
              "      <td>...</td>\n",
              "      <td>...</td>\n",
              "      <td>...</td>\n",
              "      <td>...</td>\n",
              "      <td>...</td>\n",
              "      <td>...</td>\n",
              "      <td>...</td>\n",
              "    </tr>\n",
              "    <tr>\n",
              "      <th>278843</th>\n",
              "      <td>2020-04-30</td>\n",
              "      <td>0.0</td>\n",
              "      <td>0.0</td>\n",
              "      <td>0.0</td>\n",
              "      <td>0.0</td>\n",
              "      <td>0.0</td>\n",
              "      <td>1</td>\n",
              "      <td>2</td>\n",
              "      <td>1</td>\n",
              "      <td>0</td>\n",
              "    </tr>\n",
              "    <tr>\n",
              "      <th>278844</th>\n",
              "      <td>2020-04-30</td>\n",
              "      <td>0.0</td>\n",
              "      <td>0.0</td>\n",
              "      <td>0.0</td>\n",
              "      <td>0.0</td>\n",
              "      <td>0.0</td>\n",
              "      <td>0</td>\n",
              "      <td>2</td>\n",
              "      <td>0</td>\n",
              "      <td>0</td>\n",
              "    </tr>\n",
              "    <tr>\n",
              "      <th>278845</th>\n",
              "      <td>2020-04-30</td>\n",
              "      <td>0.0</td>\n",
              "      <td>0.0</td>\n",
              "      <td>0.0</td>\n",
              "      <td>0.0</td>\n",
              "      <td>0.0</td>\n",
              "      <td>0</td>\n",
              "      <td>2</td>\n",
              "      <td>1</td>\n",
              "      <td>0</td>\n",
              "    </tr>\n",
              "    <tr>\n",
              "      <th>278846</th>\n",
              "      <td>2020-04-30</td>\n",
              "      <td>0.0</td>\n",
              "      <td>0.0</td>\n",
              "      <td>0.0</td>\n",
              "      <td>0.0</td>\n",
              "      <td>0.0</td>\n",
              "      <td>0</td>\n",
              "      <td>2</td>\n",
              "      <td>1</td>\n",
              "      <td>0</td>\n",
              "    </tr>\n",
              "    <tr>\n",
              "      <th>278847</th>\n",
              "      <td>2020-04-30</td>\n",
              "      <td>0.0</td>\n",
              "      <td>0.0</td>\n",
              "      <td>0.0</td>\n",
              "      <td>0.0</td>\n",
              "      <td>0.0</td>\n",
              "      <td>0</td>\n",
              "      <td>2</td>\n",
              "      <td>0</td>\n",
              "      <td>0</td>\n",
              "    </tr>\n",
              "  </tbody>\n",
              "</table>\n",
              "<p>278594 rows × 10 columns</p>\n",
              "</div>\n",
              "    <div class=\"colab-df-buttons\">\n",
              "\n",
              "  <div class=\"colab-df-container\">\n",
              "    <button class=\"colab-df-convert\" onclick=\"convertToInteractive('df-39c7c535-2469-409b-ab6b-8ae0019afb29')\"\n",
              "            title=\"Convert this dataframe to an interactive table.\"\n",
              "            style=\"display:none;\">\n",
              "\n",
              "  <svg xmlns=\"http://www.w3.org/2000/svg\" height=\"24px\" viewBox=\"0 -960 960 960\">\n",
              "    <path d=\"M120-120v-720h720v720H120Zm60-500h600v-160H180v160Zm220 220h160v-160H400v160Zm0 220h160v-160H400v160ZM180-400h160v-160H180v160Zm440 0h160v-160H620v160ZM180-180h160v-160H180v160Zm440 0h160v-160H620v160Z\"/>\n",
              "  </svg>\n",
              "    </button>\n",
              "\n",
              "  <style>\n",
              "    .colab-df-container {\n",
              "      display:flex;\n",
              "      gap: 12px;\n",
              "    }\n",
              "\n",
              "    .colab-df-convert {\n",
              "      background-color: #E8F0FE;\n",
              "      border: none;\n",
              "      border-radius: 50%;\n",
              "      cursor: pointer;\n",
              "      display: none;\n",
              "      fill: #1967D2;\n",
              "      height: 32px;\n",
              "      padding: 0 0 0 0;\n",
              "      width: 32px;\n",
              "    }\n",
              "\n",
              "    .colab-df-convert:hover {\n",
              "      background-color: #E2EBFA;\n",
              "      box-shadow: 0px 1px 2px rgba(60, 64, 67, 0.3), 0px 1px 3px 1px rgba(60, 64, 67, 0.15);\n",
              "      fill: #174EA6;\n",
              "    }\n",
              "\n",
              "    .colab-df-buttons div {\n",
              "      margin-bottom: 4px;\n",
              "    }\n",
              "\n",
              "    [theme=dark] .colab-df-convert {\n",
              "      background-color: #3B4455;\n",
              "      fill: #D2E3FC;\n",
              "    }\n",
              "\n",
              "    [theme=dark] .colab-df-convert:hover {\n",
              "      background-color: #434B5C;\n",
              "      box-shadow: 0px 1px 3px 1px rgba(0, 0, 0, 0.15);\n",
              "      filter: drop-shadow(0px 1px 2px rgba(0, 0, 0, 0.3));\n",
              "      fill: #FFFFFF;\n",
              "    }\n",
              "  </style>\n",
              "\n",
              "    <script>\n",
              "      const buttonEl =\n",
              "        document.querySelector('#df-39c7c535-2469-409b-ab6b-8ae0019afb29 button.colab-df-convert');\n",
              "      buttonEl.style.display =\n",
              "        google.colab.kernel.accessAllowed ? 'block' : 'none';\n",
              "\n",
              "      async function convertToInteractive(key) {\n",
              "        const element = document.querySelector('#df-39c7c535-2469-409b-ab6b-8ae0019afb29');\n",
              "        const dataTable =\n",
              "          await google.colab.kernel.invokeFunction('convertToInteractive',\n",
              "                                                    [key], {});\n",
              "        if (!dataTable) return;\n",
              "\n",
              "        const docLinkHtml = 'Like what you see? Visit the ' +\n",
              "          '<a target=\"_blank\" href=https://colab.research.google.com/notebooks/data_table.ipynb>data table notebook</a>'\n",
              "          + ' to learn more about interactive tables.';\n",
              "        element.innerHTML = '';\n",
              "        dataTable['output_type'] = 'display_data';\n",
              "        await google.colab.output.renderOutput(dataTable, element);\n",
              "        const docLink = document.createElement('div');\n",
              "        docLink.innerHTML = docLinkHtml;\n",
              "        element.appendChild(docLink);\n",
              "      }\n",
              "    </script>\n",
              "  </div>\n",
              "\n",
              "\n",
              "<div id=\"df-d0c9bdef-c330-425c-a258-d052cb1bacf9\">\n",
              "  <button class=\"colab-df-quickchart\" onclick=\"quickchart('df-d0c9bdef-c330-425c-a258-d052cb1bacf9')\"\n",
              "            title=\"Suggest charts\"\n",
              "            style=\"display:none;\">\n",
              "\n",
              "<svg xmlns=\"http://www.w3.org/2000/svg\" height=\"24px\"viewBox=\"0 0 24 24\"\n",
              "     width=\"24px\">\n",
              "    <g>\n",
              "        <path d=\"M19 3H5c-1.1 0-2 .9-2 2v14c0 1.1.9 2 2 2h14c1.1 0 2-.9 2-2V5c0-1.1-.9-2-2-2zM9 17H7v-7h2v7zm4 0h-2V7h2v10zm4 0h-2v-4h2v4z\"/>\n",
              "    </g>\n",
              "</svg>\n",
              "  </button>\n",
              "\n",
              "<style>\n",
              "  .colab-df-quickchart {\n",
              "      --bg-color: #E8F0FE;\n",
              "      --fill-color: #1967D2;\n",
              "      --hover-bg-color: #E2EBFA;\n",
              "      --hover-fill-color: #174EA6;\n",
              "      --disabled-fill-color: #AAA;\n",
              "      --disabled-bg-color: #DDD;\n",
              "  }\n",
              "\n",
              "  [theme=dark] .colab-df-quickchart {\n",
              "      --bg-color: #3B4455;\n",
              "      --fill-color: #D2E3FC;\n",
              "      --hover-bg-color: #434B5C;\n",
              "      --hover-fill-color: #FFFFFF;\n",
              "      --disabled-bg-color: #3B4455;\n",
              "      --disabled-fill-color: #666;\n",
              "  }\n",
              "\n",
              "  .colab-df-quickchart {\n",
              "    background-color: var(--bg-color);\n",
              "    border: none;\n",
              "    border-radius: 50%;\n",
              "    cursor: pointer;\n",
              "    display: none;\n",
              "    fill: var(--fill-color);\n",
              "    height: 32px;\n",
              "    padding: 0;\n",
              "    width: 32px;\n",
              "  }\n",
              "\n",
              "  .colab-df-quickchart:hover {\n",
              "    background-color: var(--hover-bg-color);\n",
              "    box-shadow: 0 1px 2px rgba(60, 64, 67, 0.3), 0 1px 3px 1px rgba(60, 64, 67, 0.15);\n",
              "    fill: var(--button-hover-fill-color);\n",
              "  }\n",
              "\n",
              "  .colab-df-quickchart-complete:disabled,\n",
              "  .colab-df-quickchart-complete:disabled:hover {\n",
              "    background-color: var(--disabled-bg-color);\n",
              "    fill: var(--disabled-fill-color);\n",
              "    box-shadow: none;\n",
              "  }\n",
              "\n",
              "  .colab-df-spinner {\n",
              "    border: 2px solid var(--fill-color);\n",
              "    border-color: transparent;\n",
              "    border-bottom-color: var(--fill-color);\n",
              "    animation:\n",
              "      spin 1s steps(1) infinite;\n",
              "  }\n",
              "\n",
              "  @keyframes spin {\n",
              "    0% {\n",
              "      border-color: transparent;\n",
              "      border-bottom-color: var(--fill-color);\n",
              "      border-left-color: var(--fill-color);\n",
              "    }\n",
              "    20% {\n",
              "      border-color: transparent;\n",
              "      border-left-color: var(--fill-color);\n",
              "      border-top-color: var(--fill-color);\n",
              "    }\n",
              "    30% {\n",
              "      border-color: transparent;\n",
              "      border-left-color: var(--fill-color);\n",
              "      border-top-color: var(--fill-color);\n",
              "      border-right-color: var(--fill-color);\n",
              "    }\n",
              "    40% {\n",
              "      border-color: transparent;\n",
              "      border-right-color: var(--fill-color);\n",
              "      border-top-color: var(--fill-color);\n",
              "    }\n",
              "    60% {\n",
              "      border-color: transparent;\n",
              "      border-right-color: var(--fill-color);\n",
              "    }\n",
              "    80% {\n",
              "      border-color: transparent;\n",
              "      border-right-color: var(--fill-color);\n",
              "      border-bottom-color: var(--fill-color);\n",
              "    }\n",
              "    90% {\n",
              "      border-color: transparent;\n",
              "      border-bottom-color: var(--fill-color);\n",
              "    }\n",
              "  }\n",
              "</style>\n",
              "\n",
              "  <script>\n",
              "    async function quickchart(key) {\n",
              "      const quickchartButtonEl =\n",
              "        document.querySelector('#' + key + ' button');\n",
              "      quickchartButtonEl.disabled = true;  // To prevent multiple clicks.\n",
              "      quickchartButtonEl.classList.add('colab-df-spinner');\n",
              "      try {\n",
              "        const charts = await google.colab.kernel.invokeFunction(\n",
              "            'suggestCharts', [key], {});\n",
              "      } catch (error) {\n",
              "        console.error('Error during call to suggestCharts:', error);\n",
              "      }\n",
              "      quickchartButtonEl.classList.remove('colab-df-spinner');\n",
              "      quickchartButtonEl.classList.add('colab-df-quickchart-complete');\n",
              "    }\n",
              "    (() => {\n",
              "      let quickchartButtonEl =\n",
              "        document.querySelector('#df-d0c9bdef-c330-425c-a258-d052cb1bacf9 button');\n",
              "      quickchartButtonEl.style.display =\n",
              "        google.colab.kernel.accessAllowed ? 'block' : 'none';\n",
              "    })();\n",
              "  </script>\n",
              "</div>\n",
              "\n",
              "  <div id=\"id_56edf962-6ae9-483c-bd45-3148aa501f35\">\n",
              "    <style>\n",
              "      .colab-df-generate {\n",
              "        background-color: #E8F0FE;\n",
              "        border: none;\n",
              "        border-radius: 50%;\n",
              "        cursor: pointer;\n",
              "        display: none;\n",
              "        fill: #1967D2;\n",
              "        height: 32px;\n",
              "        padding: 0 0 0 0;\n",
              "        width: 32px;\n",
              "      }\n",
              "\n",
              "      .colab-df-generate:hover {\n",
              "        background-color: #E2EBFA;\n",
              "        box-shadow: 0px 1px 2px rgba(60, 64, 67, 0.3), 0px 1px 3px 1px rgba(60, 64, 67, 0.15);\n",
              "        fill: #174EA6;\n",
              "      }\n",
              "\n",
              "      [theme=dark] .colab-df-generate {\n",
              "        background-color: #3B4455;\n",
              "        fill: #D2E3FC;\n",
              "      }\n",
              "\n",
              "      [theme=dark] .colab-df-generate:hover {\n",
              "        background-color: #434B5C;\n",
              "        box-shadow: 0px 1px 3px 1px rgba(0, 0, 0, 0.15);\n",
              "        filter: drop-shadow(0px 1px 2px rgba(0, 0, 0, 0.3));\n",
              "        fill: #FFFFFF;\n",
              "      }\n",
              "    </style>\n",
              "    <button class=\"colab-df-generate\" onclick=\"generateWithVariable('data')\"\n",
              "            title=\"Generate code using this dataframe.\"\n",
              "            style=\"display:none;\">\n",
              "\n",
              "  <svg xmlns=\"http://www.w3.org/2000/svg\" height=\"24px\"viewBox=\"0 0 24 24\"\n",
              "       width=\"24px\">\n",
              "    <path d=\"M7,19H8.4L18.45,9,17,7.55,7,17.6ZM5,21V16.75L18.45,3.32a2,2,0,0,1,2.83,0l1.4,1.43a1.91,1.91,0,0,1,.58,1.4,1.91,1.91,0,0,1-.58,1.4L9.25,21ZM18.45,9,17,7.55Zm-12,3A5.31,5.31,0,0,0,4.9,8.1,5.31,5.31,0,0,0,1,6.5,5.31,5.31,0,0,0,4.9,4.9,5.31,5.31,0,0,0,6.5,1,5.31,5.31,0,0,0,8.1,4.9,5.31,5.31,0,0,0,12,6.5,5.46,5.46,0,0,0,6.5,12Z\"/>\n",
              "  </svg>\n",
              "    </button>\n",
              "    <script>\n",
              "      (() => {\n",
              "      const buttonEl =\n",
              "        document.querySelector('#id_56edf962-6ae9-483c-bd45-3148aa501f35 button.colab-df-generate');\n",
              "      buttonEl.style.display =\n",
              "        google.colab.kernel.accessAllowed ? 'block' : 'none';\n",
              "\n",
              "      buttonEl.onclick = () => {\n",
              "        google.colab.notebook.generateWithVariable('data');\n",
              "      }\n",
              "      })();\n",
              "    </script>\n",
              "  </div>\n",
              "\n",
              "    </div>\n",
              "  </div>\n"
            ],
            "text/plain": [
              "        Test_date  Cough_symptoms  Fever  Sore_throat  Shortness_of_breath  \\\n",
              "0      2020-03-11             1.0    0.0          1.0                  0.0   \n",
              "1      2020-03-11             0.0    1.0          0.0                  0.0   \n",
              "2      2020-03-11             0.0    1.0          0.0                  0.0   \n",
              "3      2020-03-11             1.0    0.0          0.0                  0.0   \n",
              "4      2020-03-11             1.0    0.0          0.0                  0.0   \n",
              "...           ...             ...    ...          ...                  ...   \n",
              "278843 2020-04-30             0.0    0.0          0.0                  0.0   \n",
              "278844 2020-04-30             0.0    0.0          0.0                  0.0   \n",
              "278845 2020-04-30             0.0    0.0          0.0                  0.0   \n",
              "278846 2020-04-30             0.0    0.0          0.0                  0.0   \n",
              "278847 2020-04-30             0.0    0.0          0.0                  0.0   \n",
              "\n",
              "        Headache  Corona  Age_60_above  Sex  Known_contact  \n",
              "0            0.0       0             2    2              1  \n",
              "1            0.0       1             2    2              1  \n",
              "2            0.0       1             2    2              1  \n",
              "3            0.0       0             2    2              1  \n",
              "4            0.0       0             2    2              2  \n",
              "...          ...     ...           ...  ...            ...  \n",
              "278843       0.0       1             2    1              0  \n",
              "278844       0.0       0             2    0              0  \n",
              "278845       0.0       0             2    1              0  \n",
              "278846       0.0       0             2    1              0  \n",
              "278847       0.0       0             2    0              0  \n",
              "\n",
              "[278594 rows x 10 columns]"
            ]
          },
          "execution_count": 60,
          "metadata": {},
          "output_type": "execute_result"
        }
      ],
      "source": [
        "# changing date column into datetime dtype\n",
        "data['Test_date'] = pd.to_datetime(data['Test_date'], format='%d-%m-%Y')\n",
        "\n",
        "data"
      ]
    },
    {
      "cell_type": "code",
      "execution_count": 61,
      "metadata": {
        "colab": {
          "base_uri": "https://localhost:8080/"
        },
        "id": "si5tVhAI6m6q",
        "outputId": "3e9d84a5-1cea-4d6d-8691-843d0eba5dbb"
      },
      "outputs": [
        {
          "name": "stdout",
          "output_type": "stream",
          "text": [
            "<class 'pandas.core.frame.DataFrame'>\n",
            "Int64Index: 278594 entries, 0 to 278847\n",
            "Data columns (total 10 columns):\n",
            " #   Column               Non-Null Count   Dtype         \n",
            "---  ------               --------------   -----         \n",
            " 0   Test_date            278594 non-null  datetime64[ns]\n",
            " 1   Cough_symptoms       278594 non-null  float64       \n",
            " 2   Fever                278594 non-null  float64       \n",
            " 3   Sore_throat          278594 non-null  float64       \n",
            " 4   Shortness_of_breath  278594 non-null  float64       \n",
            " 5   Headache             278594 non-null  float64       \n",
            " 6   Corona               278594 non-null  int64         \n",
            " 7   Age_60_above         278594 non-null  int64         \n",
            " 8   Sex                  278594 non-null  int64         \n",
            " 9   Known_contact        278594 non-null  int64         \n",
            "dtypes: datetime64[ns](1), float64(5), int64(4)\n",
            "memory usage: 23.4 MB\n"
          ]
        }
      ],
      "source": [
        "data.info()"
      ]
    },
    {
      "cell_type": "markdown",
      "metadata": {
        "id": "ET2OD0of1yDb"
      },
      "source": [
        "## CHECKING MULTICOLLINEARITY"
      ]
    },
    {
      "cell_type": "markdown",
      "metadata": {
        "id": "_kUM7BEfEKwC"
      },
      "source": [
        "Multicollinearity refers to a situation where two or more independent variables (features) in a model are highly correlated. It measures the degree to which variables are related based on their correlation. To detect Multicollinearity, we are using **Variance Inflation Factor (VIF)**."
      ]
    },
    {
      "cell_type": "code",
      "execution_count": 62,
      "metadata": {
        "colab": {
          "base_uri": "https://localhost:8080/"
        },
        "id": "x1_SCWfmcs4R",
        "outputId": "c00e512d-6e24-43c4-e9fc-039d59b6a47a"
      },
      "outputs": [
        {
          "name": "stdout",
          "output_type": "stream",
          "text": [
            "        Cough_symptoms     Fever  Sore_throat  Shortness_of_breath  Headache  \\\n",
            "0             2.365943 -0.291009    11.997919            -0.075378 -0.093374   \n",
            "1            -0.422664  3.436325    -0.083348            -0.075378 -0.093374   \n",
            "2            -0.422664  3.436325    -0.083348            -0.075378 -0.093374   \n",
            "3             2.365943 -0.291009    -0.083348            -0.075378 -0.093374   \n",
            "4             2.365943 -0.291009    -0.083348            -0.075378 -0.093374   \n",
            "...                ...       ...          ...                  ...       ...   \n",
            "278589       -0.422664 -0.291009    -0.083348            -0.075378 -0.093374   \n",
            "278590       -0.422664 -0.291009    -0.083348            -0.075378 -0.093374   \n",
            "278591       -0.422664 -0.291009    -0.083348            -0.075378 -0.093374   \n",
            "278592       -0.422664 -0.291009    -0.083348            -0.075378 -0.093374   \n",
            "278593       -0.422664 -0.291009    -0.083348            -0.075378 -0.093374   \n",
            "\n",
            "          Corona  Age_60_above       Sex  Known_contact  \n",
            "0      -0.235966      0.984552  2.266523       1.791386  \n",
            "1       4.237890      0.984552  2.266523       1.791386  \n",
            "2       4.237890      0.984552  2.266523       1.791386  \n",
            "3      -0.235966      0.984552  2.266523       1.791386  \n",
            "4      -0.235966      0.984552  2.266523       3.943697  \n",
            "...          ...           ...       ...            ...  \n",
            "278589  4.237890      0.984552  0.643585      -0.360925  \n",
            "278590 -0.235966      0.984552 -0.979353      -0.360925  \n",
            "278591 -0.235966      0.984552  0.643585      -0.360925  \n",
            "278592 -0.235966      0.984552  0.643585      -0.360925  \n",
            "278593 -0.235966      0.984552 -0.979353      -0.360925  \n",
            "\n",
            "[278594 rows x 9 columns]\n"
          ]
        }
      ],
      "source": [
        "from statsmodels.stats.outliers_influence import variance_inflation_factor\n",
        "from sklearn.preprocessing import StandardScaler\n",
        "vif_data = pd.DataFrame()\n",
        "data_for_vif = data.copy()\n",
        "# col_to_drop = ['Ind_ID','Test_date', 'Age_60_above_No', 'Age_60_above_Yes', 'Sex_female', 'Sex_male', 'Known_contact_Abroad', 'Known_contact_Contact with confirmed', 'Headache', 'Shortness_of_breath', 'Sore_throat', 'Cough_symptoms', 'Fever']\n",
        "col_to_drop = ['Test_date']\n",
        "data_for_vif = data_for_vif.drop(col_to_drop, axis =1)\n",
        "\n",
        "# Standardize your data\n",
        "scaler = StandardScaler()\n",
        "data_scaled = pd.DataFrame(scaler.fit_transform(data_for_vif), columns=data_for_vif.columns)\n",
        "\n",
        "print(data_scaled)"
      ]
    },
    {
      "cell_type": "code",
      "execution_count": 63,
      "metadata": {
        "colab": {
          "base_uri": "https://localhost:8080/"
        },
        "id": "3kvAhb1QfVxp",
        "outputId": "fb71861e-3810-4d7b-e17e-5248e04954e1"
      },
      "outputs": [
        {
          "name": "stdout",
          "output_type": "stream",
          "text": [
            "               feature       VIF\n",
            "0       Cough_symptoms  1.520682\n",
            "1                Fever  1.326576\n",
            "2          Sore_throat  1.172415\n",
            "3  Shortness_of_breath  1.095247\n",
            "4             Headache  1.247562\n",
            "5               Corona  1.540650\n",
            "6         Age_60_above  1.014727\n",
            "7                  Sex  1.004070\n",
            "8        Known_contact  1.660632\n"
          ]
        }
      ],
      "source": [
        "vif_data[\"feature\"] = data_scaled.columns\n",
        "vif_data[\"VIF\"] = [variance_inflation_factor(data_scaled.values, i) for i in range(len(data_scaled.columns))]\n",
        "# vif_data[\"VIF\"] = [variance_inflation_factor(data.values, i)\n",
        "# \t\t\t\t\t\tfor i in range(len(data_for_vif.columns))]\n",
        "\n",
        "print(vif_data)"
      ]
    },
    {
      "cell_type": "markdown",
      "metadata": {
        "id": "-9Tm5AoQrp3z"
      },
      "source": [
        "* The default VIF value is 5 and only variables with a VIF less than 5 will be included in the model.\n",
        "* All the features have VIF value less than 5, so we can select all features.\n"
      ]
    },
    {
      "cell_type": "markdown",
      "metadata": {
        "id": "lmOfEymH2BkA"
      },
      "source": [
        "## CORRELATION BETWEEN FEATURES AND TARGET VARIABLE"
      ]
    },
    {
      "cell_type": "code",
      "execution_count": 64,
      "metadata": {
        "id": "IJKiLVpL2EL8"
      },
      "outputs": [],
      "source": [
        "#Encoding columns'Age_60_above','Sex','Known_contact' with one-Hot encoding and 'Corona' with LabelEncoder\n",
        "data_corr = pd.get_dummies(data_corr, columns=['Age_60_above', 'Sex', 'Known_contact'])\n",
        "\n",
        "columns_to_drop = ['Age_60_above_None','Sex_None', 'Known_contact_Other']\n",
        "\n",
        "data_corr = data_corr.drop(columns_to_drop, axis=1)\n"
      ]
    },
    {
      "cell_type": "code",
      "execution_count": 65,
      "metadata": {
        "colab": {
          "base_uri": "https://localhost:8080/",
          "height": 0
        },
        "id": "_Gv1-cDFAeY9",
        "outputId": "296217ee-9cf1-4def-dd1a-2a7247ebd738"
      },
      "outputs": [
        {
          "data": {
            "text/html": [
              "\n",
              "  <div id=\"df-d0d7007a-9e6f-42be-adec-24b30a4d5a1c\" class=\"colab-df-container\">\n",
              "    <div>\n",
              "<style scoped>\n",
              "    .dataframe tbody tr th:only-of-type {\n",
              "        vertical-align: middle;\n",
              "    }\n",
              "\n",
              "    .dataframe tbody tr th {\n",
              "        vertical-align: top;\n",
              "    }\n",
              "\n",
              "    .dataframe thead th {\n",
              "        text-align: right;\n",
              "    }\n",
              "</style>\n",
              "<table border=\"1\" class=\"dataframe\">\n",
              "  <thead>\n",
              "    <tr style=\"text-align: right;\">\n",
              "      <th></th>\n",
              "      <th>Test_date</th>\n",
              "      <th>Cough_symptoms</th>\n",
              "      <th>Fever</th>\n",
              "      <th>Sore_throat</th>\n",
              "      <th>Shortness_of_breath</th>\n",
              "      <th>Headache</th>\n",
              "      <th>Corona</th>\n",
              "      <th>Age_60_above_No</th>\n",
              "      <th>Age_60_above_Yes</th>\n",
              "      <th>Sex_female</th>\n",
              "      <th>Sex_male</th>\n",
              "      <th>Known_contact_Abroad</th>\n",
              "      <th>Known_contact_Contact with confirmed</th>\n",
              "    </tr>\n",
              "  </thead>\n",
              "  <tbody>\n",
              "    <tr>\n",
              "      <th>0</th>\n",
              "      <td>11-03-2020</td>\n",
              "      <td>1.0</td>\n",
              "      <td>0.0</td>\n",
              "      <td>1.0</td>\n",
              "      <td>0.0</td>\n",
              "      <td>0.0</td>\n",
              "      <td>0</td>\n",
              "      <td>0</td>\n",
              "      <td>0</td>\n",
              "      <td>0</td>\n",
              "      <td>0</td>\n",
              "      <td>1</td>\n",
              "      <td>0</td>\n",
              "    </tr>\n",
              "    <tr>\n",
              "      <th>1</th>\n",
              "      <td>11-03-2020</td>\n",
              "      <td>0.0</td>\n",
              "      <td>1.0</td>\n",
              "      <td>0.0</td>\n",
              "      <td>0.0</td>\n",
              "      <td>0.0</td>\n",
              "      <td>1</td>\n",
              "      <td>0</td>\n",
              "      <td>0</td>\n",
              "      <td>0</td>\n",
              "      <td>0</td>\n",
              "      <td>1</td>\n",
              "      <td>0</td>\n",
              "    </tr>\n",
              "    <tr>\n",
              "      <th>2</th>\n",
              "      <td>11-03-2020</td>\n",
              "      <td>0.0</td>\n",
              "      <td>1.0</td>\n",
              "      <td>0.0</td>\n",
              "      <td>0.0</td>\n",
              "      <td>0.0</td>\n",
              "      <td>1</td>\n",
              "      <td>0</td>\n",
              "      <td>0</td>\n",
              "      <td>0</td>\n",
              "      <td>0</td>\n",
              "      <td>1</td>\n",
              "      <td>0</td>\n",
              "    </tr>\n",
              "    <tr>\n",
              "      <th>3</th>\n",
              "      <td>11-03-2020</td>\n",
              "      <td>1.0</td>\n",
              "      <td>0.0</td>\n",
              "      <td>0.0</td>\n",
              "      <td>0.0</td>\n",
              "      <td>0.0</td>\n",
              "      <td>0</td>\n",
              "      <td>0</td>\n",
              "      <td>0</td>\n",
              "      <td>0</td>\n",
              "      <td>0</td>\n",
              "      <td>1</td>\n",
              "      <td>0</td>\n",
              "    </tr>\n",
              "    <tr>\n",
              "      <th>4</th>\n",
              "      <td>11-03-2020</td>\n",
              "      <td>1.0</td>\n",
              "      <td>0.0</td>\n",
              "      <td>0.0</td>\n",
              "      <td>0.0</td>\n",
              "      <td>0.0</td>\n",
              "      <td>0</td>\n",
              "      <td>0</td>\n",
              "      <td>0</td>\n",
              "      <td>0</td>\n",
              "      <td>0</td>\n",
              "      <td>0</td>\n",
              "      <td>1</td>\n",
              "    </tr>\n",
              "  </tbody>\n",
              "</table>\n",
              "</div>\n",
              "    <div class=\"colab-df-buttons\">\n",
              "\n",
              "  <div class=\"colab-df-container\">\n",
              "    <button class=\"colab-df-convert\" onclick=\"convertToInteractive('df-d0d7007a-9e6f-42be-adec-24b30a4d5a1c')\"\n",
              "            title=\"Convert this dataframe to an interactive table.\"\n",
              "            style=\"display:none;\">\n",
              "\n",
              "  <svg xmlns=\"http://www.w3.org/2000/svg\" height=\"24px\" viewBox=\"0 -960 960 960\">\n",
              "    <path d=\"M120-120v-720h720v720H120Zm60-500h600v-160H180v160Zm220 220h160v-160H400v160Zm0 220h160v-160H400v160ZM180-400h160v-160H180v160Zm440 0h160v-160H620v160ZM180-180h160v-160H180v160Zm440 0h160v-160H620v160Z\"/>\n",
              "  </svg>\n",
              "    </button>\n",
              "\n",
              "  <style>\n",
              "    .colab-df-container {\n",
              "      display:flex;\n",
              "      gap: 12px;\n",
              "    }\n",
              "\n",
              "    .colab-df-convert {\n",
              "      background-color: #E8F0FE;\n",
              "      border: none;\n",
              "      border-radius: 50%;\n",
              "      cursor: pointer;\n",
              "      display: none;\n",
              "      fill: #1967D2;\n",
              "      height: 32px;\n",
              "      padding: 0 0 0 0;\n",
              "      width: 32px;\n",
              "    }\n",
              "\n",
              "    .colab-df-convert:hover {\n",
              "      background-color: #E2EBFA;\n",
              "      box-shadow: 0px 1px 2px rgba(60, 64, 67, 0.3), 0px 1px 3px 1px rgba(60, 64, 67, 0.15);\n",
              "      fill: #174EA6;\n",
              "    }\n",
              "\n",
              "    .colab-df-buttons div {\n",
              "      margin-bottom: 4px;\n",
              "    }\n",
              "\n",
              "    [theme=dark] .colab-df-convert {\n",
              "      background-color: #3B4455;\n",
              "      fill: #D2E3FC;\n",
              "    }\n",
              "\n",
              "    [theme=dark] .colab-df-convert:hover {\n",
              "      background-color: #434B5C;\n",
              "      box-shadow: 0px 1px 3px 1px rgba(0, 0, 0, 0.15);\n",
              "      filter: drop-shadow(0px 1px 2px rgba(0, 0, 0, 0.3));\n",
              "      fill: #FFFFFF;\n",
              "    }\n",
              "  </style>\n",
              "\n",
              "    <script>\n",
              "      const buttonEl =\n",
              "        document.querySelector('#df-d0d7007a-9e6f-42be-adec-24b30a4d5a1c button.colab-df-convert');\n",
              "      buttonEl.style.display =\n",
              "        google.colab.kernel.accessAllowed ? 'block' : 'none';\n",
              "\n",
              "      async function convertToInteractive(key) {\n",
              "        const element = document.querySelector('#df-d0d7007a-9e6f-42be-adec-24b30a4d5a1c');\n",
              "        const dataTable =\n",
              "          await google.colab.kernel.invokeFunction('convertToInteractive',\n",
              "                                                    [key], {});\n",
              "        if (!dataTable) return;\n",
              "\n",
              "        const docLinkHtml = 'Like what you see? Visit the ' +\n",
              "          '<a target=\"_blank\" href=https://colab.research.google.com/notebooks/data_table.ipynb>data table notebook</a>'\n",
              "          + ' to learn more about interactive tables.';\n",
              "        element.innerHTML = '';\n",
              "        dataTable['output_type'] = 'display_data';\n",
              "        await google.colab.output.renderOutput(dataTable, element);\n",
              "        const docLink = document.createElement('div');\n",
              "        docLink.innerHTML = docLinkHtml;\n",
              "        element.appendChild(docLink);\n",
              "      }\n",
              "    </script>\n",
              "  </div>\n",
              "\n",
              "\n",
              "<div id=\"df-baec8e3d-5dee-4082-a4c7-06b5d35f8fa3\">\n",
              "  <button class=\"colab-df-quickchart\" onclick=\"quickchart('df-baec8e3d-5dee-4082-a4c7-06b5d35f8fa3')\"\n",
              "            title=\"Suggest charts\"\n",
              "            style=\"display:none;\">\n",
              "\n",
              "<svg xmlns=\"http://www.w3.org/2000/svg\" height=\"24px\"viewBox=\"0 0 24 24\"\n",
              "     width=\"24px\">\n",
              "    <g>\n",
              "        <path d=\"M19 3H5c-1.1 0-2 .9-2 2v14c0 1.1.9 2 2 2h14c1.1 0 2-.9 2-2V5c0-1.1-.9-2-2-2zM9 17H7v-7h2v7zm4 0h-2V7h2v10zm4 0h-2v-4h2v4z\"/>\n",
              "    </g>\n",
              "</svg>\n",
              "  </button>\n",
              "\n",
              "<style>\n",
              "  .colab-df-quickchart {\n",
              "      --bg-color: #E8F0FE;\n",
              "      --fill-color: #1967D2;\n",
              "      --hover-bg-color: #E2EBFA;\n",
              "      --hover-fill-color: #174EA6;\n",
              "      --disabled-fill-color: #AAA;\n",
              "      --disabled-bg-color: #DDD;\n",
              "  }\n",
              "\n",
              "  [theme=dark] .colab-df-quickchart {\n",
              "      --bg-color: #3B4455;\n",
              "      --fill-color: #D2E3FC;\n",
              "      --hover-bg-color: #434B5C;\n",
              "      --hover-fill-color: #FFFFFF;\n",
              "      --disabled-bg-color: #3B4455;\n",
              "      --disabled-fill-color: #666;\n",
              "  }\n",
              "\n",
              "  .colab-df-quickchart {\n",
              "    background-color: var(--bg-color);\n",
              "    border: none;\n",
              "    border-radius: 50%;\n",
              "    cursor: pointer;\n",
              "    display: none;\n",
              "    fill: var(--fill-color);\n",
              "    height: 32px;\n",
              "    padding: 0;\n",
              "    width: 32px;\n",
              "  }\n",
              "\n",
              "  .colab-df-quickchart:hover {\n",
              "    background-color: var(--hover-bg-color);\n",
              "    box-shadow: 0 1px 2px rgba(60, 64, 67, 0.3), 0 1px 3px 1px rgba(60, 64, 67, 0.15);\n",
              "    fill: var(--button-hover-fill-color);\n",
              "  }\n",
              "\n",
              "  .colab-df-quickchart-complete:disabled,\n",
              "  .colab-df-quickchart-complete:disabled:hover {\n",
              "    background-color: var(--disabled-bg-color);\n",
              "    fill: var(--disabled-fill-color);\n",
              "    box-shadow: none;\n",
              "  }\n",
              "\n",
              "  .colab-df-spinner {\n",
              "    border: 2px solid var(--fill-color);\n",
              "    border-color: transparent;\n",
              "    border-bottom-color: var(--fill-color);\n",
              "    animation:\n",
              "      spin 1s steps(1) infinite;\n",
              "  }\n",
              "\n",
              "  @keyframes spin {\n",
              "    0% {\n",
              "      border-color: transparent;\n",
              "      border-bottom-color: var(--fill-color);\n",
              "      border-left-color: var(--fill-color);\n",
              "    }\n",
              "    20% {\n",
              "      border-color: transparent;\n",
              "      border-left-color: var(--fill-color);\n",
              "      border-top-color: var(--fill-color);\n",
              "    }\n",
              "    30% {\n",
              "      border-color: transparent;\n",
              "      border-left-color: var(--fill-color);\n",
              "      border-top-color: var(--fill-color);\n",
              "      border-right-color: var(--fill-color);\n",
              "    }\n",
              "    40% {\n",
              "      border-color: transparent;\n",
              "      border-right-color: var(--fill-color);\n",
              "      border-top-color: var(--fill-color);\n",
              "    }\n",
              "    60% {\n",
              "      border-color: transparent;\n",
              "      border-right-color: var(--fill-color);\n",
              "    }\n",
              "    80% {\n",
              "      border-color: transparent;\n",
              "      border-right-color: var(--fill-color);\n",
              "      border-bottom-color: var(--fill-color);\n",
              "    }\n",
              "    90% {\n",
              "      border-color: transparent;\n",
              "      border-bottom-color: var(--fill-color);\n",
              "    }\n",
              "  }\n",
              "</style>\n",
              "\n",
              "  <script>\n",
              "    async function quickchart(key) {\n",
              "      const quickchartButtonEl =\n",
              "        document.querySelector('#' + key + ' button');\n",
              "      quickchartButtonEl.disabled = true;  // To prevent multiple clicks.\n",
              "      quickchartButtonEl.classList.add('colab-df-spinner');\n",
              "      try {\n",
              "        const charts = await google.colab.kernel.invokeFunction(\n",
              "            'suggestCharts', [key], {});\n",
              "      } catch (error) {\n",
              "        console.error('Error during call to suggestCharts:', error);\n",
              "      }\n",
              "      quickchartButtonEl.classList.remove('colab-df-spinner');\n",
              "      quickchartButtonEl.classList.add('colab-df-quickchart-complete');\n",
              "    }\n",
              "    (() => {\n",
              "      let quickchartButtonEl =\n",
              "        document.querySelector('#df-baec8e3d-5dee-4082-a4c7-06b5d35f8fa3 button');\n",
              "      quickchartButtonEl.style.display =\n",
              "        google.colab.kernel.accessAllowed ? 'block' : 'none';\n",
              "    })();\n",
              "  </script>\n",
              "</div>\n",
              "\n",
              "    </div>\n",
              "  </div>\n"
            ],
            "text/plain": [
              "    Test_date  Cough_symptoms  Fever  Sore_throat  Shortness_of_breath  \\\n",
              "0  11-03-2020             1.0    0.0          1.0                  0.0   \n",
              "1  11-03-2020             0.0    1.0          0.0                  0.0   \n",
              "2  11-03-2020             0.0    1.0          0.0                  0.0   \n",
              "3  11-03-2020             1.0    0.0          0.0                  0.0   \n",
              "4  11-03-2020             1.0    0.0          0.0                  0.0   \n",
              "\n",
              "   Headache  Corona  Age_60_above_No  Age_60_above_Yes  Sex_female  Sex_male  \\\n",
              "0       0.0       0                0                 0           0         0   \n",
              "1       0.0       1                0                 0           0         0   \n",
              "2       0.0       1                0                 0           0         0   \n",
              "3       0.0       0                0                 0           0         0   \n",
              "4       0.0       0                0                 0           0         0   \n",
              "\n",
              "   Known_contact_Abroad  Known_contact_Contact with confirmed  \n",
              "0                     1                                     0  \n",
              "1                     1                                     0  \n",
              "2                     1                                     0  \n",
              "3                     1                                     0  \n",
              "4                     0                                     1  "
            ]
          },
          "execution_count": 65,
          "metadata": {},
          "output_type": "execute_result"
        }
      ],
      "source": [
        "from sklearn.preprocessing import LabelEncoder\n",
        "le = LabelEncoder()\n",
        "data_corr['Corona'] = le.fit_transform(data_corr['Corona'])\n",
        "data_corr.head()"
      ]
    },
    {
      "cell_type": "code",
      "execution_count": 66,
      "metadata": {
        "id": "MUI13ueZ6wpj"
      },
      "outputs": [],
      "source": [
        "correlation_matrix = data_corr.corr()"
      ]
    },
    {
      "cell_type": "code",
      "execution_count": 67,
      "metadata": {
        "colab": {
          "base_uri": "https://localhost:8080/"
        },
        "id": "XoBK0lDL62WN",
        "outputId": "5a5c2c27-e4f3-4185-cdc9-6484a295fe42"
      },
      "outputs": [
        {
          "data": {
            "text/plain": [
              "Corona                                  1.000000\n",
              "Known_contact_Contact with confirmed    0.565660\n",
              "Headache                                0.364830\n",
              "Sore_throat                             0.275809\n",
              "Fever                                   0.264012\n",
              "Shortness_of_breath                     0.231174\n",
              "Cough_symptoms                          0.195017\n",
              "Age_60_above_No                         0.084611\n",
              "Age_60_above_Yes                        0.046362\n",
              "Known_contact_Abroad                    0.029148\n",
              "Sex_female                              0.026820\n",
              "Sex_male                                0.022623\n",
              "Name: Corona, dtype: float64"
            ]
          },
          "execution_count": 67,
          "metadata": {},
          "output_type": "execute_result"
        }
      ],
      "source": [
        "corona_corr = correlation_matrix[\"Corona\"].abs()\n",
        "corona_corr.sort_values(ascending=False)"
      ]
    },
    {
      "cell_type": "code",
      "execution_count": 68,
      "metadata": {
        "colab": {
          "base_uri": "https://localhost:8080/",
          "height": 0
        },
        "id": "T7Ab-N3U7y4J",
        "outputId": "ad13351e-af5b-4c4f-eba2-acb9c2c2fa3d"
      },
      "outputs": [
        {
          "data": {
            "text/plain": [
              "<Axes: >"
            ]
          },
          "execution_count": 68,
          "metadata": {},
          "output_type": "execute_result"
        },
        {
          "data": {
            "image/png": "[encoded data removed]",
            "text/plain": [
              "<Figure size 1000x600 with 2 Axes>"
            ]
          },
          "metadata": {},
          "output_type": "display_data"
        }
      ],
      "source": [
        "#plotting the heatmap for correlation\n",
        "plt.figure(figsize=(10,6))\n",
        "sns.heatmap(correlation_matrix,annot=True)"
      ]
    },
    {
      "cell_type": "code",
      "execution_count": 69,
      "metadata": {
        "colab": {
          "base_uri": "https://localhost:8080/",
          "height": 0
        },
        "id": "Z5yo9XNPngqU",
        "outputId": "6a5d1418-2ba4-4139-88a2-0b89034e533b"
      },
      "outputs": [
        {
          "data": {
            "image/png": "[encoded data removed]",
            "text/plain": [
              "<Figure size 1000x600 with 1 Axes>"
            ]
          },
          "metadata": {},
          "output_type": "display_data"
        }
      ],
      "source": [
        "plt.figure(figsize=(10, 6))\n",
        "sns.barplot(x=corona_corr.index, y= corona_corr.values)\n",
        "plt.xticks(rotation=90)\n",
        "plt.title('Correlation of Features with COVID-19 Test Result (Corona)')\n",
        "plt.xlabel('Features')\n",
        "plt.ylabel('Correlation Coefficient')\n",
        "plt.show()"
      ]
    },
    {
      "cell_type": "markdown",
      "metadata": {
        "id": "BOWvEcZB8c2I"
      },
      "source": [
        "We can infer that all features are correlated with Corona with known contact with confirmed patients are strongly correlated and Sex column is least correlated with corona .\n",
        "\n",
        "Also, we can see that 'Fever' symptom is also significantly correlated with 'Corona' , proving the first hypothesis right."
      ]
    },
    {
      "cell_type": "markdown",
      "metadata": {
        "id": "VC_JbJJOIViy"
      },
      "source": [
        "# ***SECTION 4: MACHINE LEARNING APPROACH***\n",
        "\n",
        "For predicting COVID-19 outcomes (positive or negative) based on the features in COVID-19 dataset, we can consider a variety of machine learning algorithms. Since, this is a binary classification problem, we are going to select following models based on factors such as interpretability,scalability and complexity of the relationship within the data:\n",
        "1. Logistic Regression\n",
        "2. Boosted Decision Tress Classifier(XGBoost)\n",
        "3. Random Forest Classifier\n",
        "4. Support Veactor Machine\n",
        "\n",
        "As we noticed class imbalance in EDA, we'll apply **scale_pos_weight** in XGBoost and use **class_weight** as **balanced** in Random forest classifier.\n",
        "\n",
        "We'll first perform data processing where we'll identofy relevant features, split data into train, test, and validation paritions and do feature scaling.\n",
        "\n",
        "For each model, we'll perform following actions:\n",
        "1. **Hyperparameter tuning**: We'll tune hyper-parameters to *maximize recall* of corona positive.  Recall is crucial for a medical diagnostic tool to *minimize false negatives*. A high recall rate means, model is effective at identifying most individuals who are infected, reducing the risk of them spreading the virus to others.\n",
        "2. **Threshold tuning**: We'll tune thresholds to select a threshold for a binary classifier that strikes a balance between sensitivity (correctly identifying positive cases) and specificity (correctly identifying negative cases).\n",
        "3. **Cross-validation**: Eventually, we'll do cross-validation to assess the effectiveness of the model and ensure that the model's performance is robust and reliable across different data partitions. This also guards against overfitting. We compute *variance* scores for different cross-validation splits to check that the value is small."
      ]
    },
    {
      "cell_type": "markdown",
      "metadata": {
        "id": "yYrJNIaLP_ZX"
      },
      "source": [
        "## DATA PROCESSING"
      ]
    },
    {
      "cell_type": "markdown",
      "metadata": {
        "id": "ERhOIjcqyOKf"
      },
      "source": [
        "### FEATURE SELECTION"
      ]
    },
    {
      "cell_type": "markdown",
      "metadata": {
        "id": "XXkEnwekDPtS"
      },
      "source": [
        "Performing Recursive Feature Elimination (RFE) to find the best features to train the model.\n",
        "\n",
        "We'll drop Test Date as it is clear from domain knowledge that this attribute is irrelevant to predict Corona positive or negative."
      ]
    },
    {
      "cell_type": "code",
      "execution_count": 70,
      "metadata": {
        "id": "JuFkuREkub8f"
      },
      "outputs": [],
      "source": [
        "data_feat_selection = data.copy()\n",
        "col_to_drop = ['Test_date']\n",
        "data_feat_selection = data_feat_selection.drop(col_to_drop, axis = 1)"
      ]
    },
    {
      "cell_type": "code",
      "execution_count": 71,
      "metadata": {
        "colab": {
          "base_uri": "https://localhost:8080/"
        },
        "id": "2L5xSEA6usvN",
        "outputId": "2e5b4cf1-dd80-447a-f332-58f7bfe4aaf9"
      },
      "outputs": [
        {
          "name": "stdout",
          "output_type": "stream",
          "text": [
            "Top 7 selected features: Index(['Cough_symptoms', 'Fever', 'Sore_throat', 'Shortness_of_breath',\n",
            "       'Headache', 'Age_60_above', 'Known_contact'],\n",
            "      dtype='object')\n"
          ]
        }
      ],
      "source": [
        "#RFE with LogisticRegression\n",
        "from sklearn.feature_selection import RFE\n",
        "from sklearn.model_selection import train_test_split\n",
        "from sklearn.linear_model import LogisticRegression\n",
        "\n",
        "X = data_feat_selection.drop('Corona', axis=1)\n",
        "y = data_feat_selection['Corona']\n",
        "\n",
        "X_train, X_test, y_train, y_test = train_test_split(X, y, test_size=0.2, random_state= 0)\n",
        "\n",
        "# Create the RFE object and rank each feature\n",
        "model = LogisticRegression()\n",
        "rfe = RFE(model, n_features_to_select=7) # Adjust n_features_to_select as needed\n",
        "rfe = rfe.fit(X_train, y_train)\n",
        "\n",
        "# Summarize the selection of the attributes\n",
        "print('Top 7 selected features:', X_train.columns[rfe.support_])"
      ]
    },
    {
      "cell_type": "code",
      "execution_count": 73,
      "metadata": {
        "colab": {
          "base_uri": "https://localhost:8080/"
        },
        "id": "IW2iUmCwN4up",
        "outputId": "25a3e325-fb99-4ef3-907f-526a3150f4a3"
      },
      "outputs": [
        {
          "name": "stdout",
          "output_type": "stream",
          "text": [
            "Selected features: Index(['Cough_symptoms', 'Fever', 'Sore_throat', 'Shortness_of_breath',\n",
            "       'Headache', 'Age_60_above', 'Known_contact'],\n",
            "      dtype='object')\n"
          ]
        }
      ],
      "source": [
        "#RFE with RandomForestClassifier\n",
        "from sklearn.ensemble import RandomForestClassifier\n",
        "rf_classifier = RandomForestClassifier()\n",
        "\n",
        "# Create RFE object, selecting 7 features\n",
        "rfe = RFE(estimator=rf_classifier, n_features_to_select=7)\n",
        "\n",
        "# Fit RFE\n",
        "rfe.fit(X_train, y_train)\n",
        "\n",
        "# Summarize selected features\n",
        "selected_features = X_train.columns[rfe.support_]\n",
        "print(\"Selected features:\", selected_features)\n"
      ]
    },
    {
      "cell_type": "markdown",
      "metadata": {
        "id": "X234BRm-L6nf"
      },
      "source": [
        "As we see, Sex is not one of the selected features . This is aligned with our observation in Data Analysis where we saw Sex had very minimal correlation with target variable of Corona."
      ]
    },
    {
      "cell_type": "markdown",
      "metadata": {
        "id": "IMGr1oLi8279"
      },
      "source": [
        "### TRAIN-TEST-VALIDATION PARTITIONING"
      ]
    },
    {
      "cell_type": "code",
      "execution_count": 74,
      "metadata": {
        "id": "kfK8EVIp84Ly"
      },
      "outputs": [],
      "source": [
        "from sklearn.preprocessing import StandardScaler\n",
        "from sklearn.model_selection import train_test_split,GridSearchCV,RandomizedSearchCV,cross_val_score\n",
        "from sklearn.metrics import classification_report, confusion_matrix\n",
        "from sklearn.metrics import roc_curve, roc_auc_score, accuracy_score"
      ]
    },
    {
      "cell_type": "code",
      "execution_count": 109,
      "metadata": {
        "id": "7leqtULs9kR8"
      },
      "outputs": [],
      "source": [
        "train_and_validation_data = data[(data['Test_date'] >= '2020-03-11') & (data['Test_date'] <= '2020-04-15')]\n",
        "test_data = data[(data['Test_date'] > '2020-04-15') & (data['Test_date'] <= '2020-04-30')]"
      ]
    },
    {
      "cell_type": "code",
      "execution_count": 110,
      "metadata": {
        "id": "W6PoyqbDCAxc"
      },
      "outputs": [],
      "source": [
        "X_train_and_val = train_and_validation_data.drop('Corona', axis=1)\n",
        "y_train_and_val = train_and_validation_data['Corona']\n",
        "X_test = test_data.drop('Corona', axis=1)\n",
        "y_test = test_data['Corona']"
      ]
    },
    {
      "cell_type": "code",
      "execution_count": 111,
      "metadata": {
        "id": "hbQ2Zem395X9"
      },
      "outputs": [],
      "source": [
        "X_train, X_val, y_train, y_val = train_test_split(X_train_and_val, y_train_and_val, test_size=0.2, random_state=0)\n"
      ]
    },
    {
      "cell_type": "code",
      "execution_count": 112,
      "metadata": {
        "id": "IoXJD_VBnJeo"
      },
      "outputs": [],
      "source": [
        "Col_to_drop = ['Test_date','Sex']"
      ]
    },
    {
      "cell_type": "code",
      "execution_count": 113,
      "metadata": {
        "id": "dZwrAYcaFd1c"
      },
      "outputs": [],
      "source": [
        "X_train = X_train.drop(Col_to_drop, axis=1)\n",
        "X_test = X_test.drop(Col_to_drop, axis=1)\n",
        "X_val = X_val.drop(Col_to_drop,axis = 1)"
      ]
    },
    {
      "cell_type": "markdown",
      "metadata": {
        "id": "hldkUVYSswTF"
      },
      "source": [
        "### FEATURE SCALING"
      ]
    },
    {
      "cell_type": "code",
      "execution_count": 114,
      "metadata": {
        "colab": {
          "base_uri": "https://localhost:8080/"
        },
        "id": "EhGaZfse-RfA",
        "outputId": "19ea141c-2594-4032-cb10-d29e10eff80f"
      },
      "outputs": [
        {
          "name": "stdout",
          "output_type": "stream",
          "text": [
            "[[-0.46607647 -0.31831028 -0.10807813 ... -0.12132963 -1.94039661\n",
            "  -0.40607711]\n",
            " [-0.46607647 -0.31831028 -0.10807813 ... -0.12132963 -1.94039661\n",
            "  -0.40607711]\n",
            " [-0.46607647 -0.31831028 -0.10807813 ... -0.12132963  0.18270164\n",
            "  -0.40607711]\n",
            " ...\n",
            " [-0.46607647 -0.31831028 -0.10807813 ... -0.12132963  0.18270164\n",
            "  -0.40607711]\n",
            " [-0.46607647 -0.31831028 -0.10807813 ... -0.12132963  0.18270164\n",
            "  -0.40607711]\n",
            " [-0.46607647 -0.31831028 -0.10807813 ... -0.12132963  0.18270164\n",
            "  -0.40607711]]\n",
            "[[-0.46607647 -0.31831028 -0.10807813 ... -0.12132963 -1.94039661\n",
            "  -0.40607711]\n",
            " [-0.46607647 -0.31831028 -0.10807813 ... -0.12132963  0.18270164\n",
            "  -0.40607711]\n",
            " [-0.46607647 -0.31831028 -0.10807813 ... -0.12132963  0.18270164\n",
            "   1.50791094]\n",
            " ...\n",
            " [-0.46607647 -0.31831028 -0.10807813 ... -0.12132963  0.18270164\n",
            "  -0.40607711]\n",
            " [-0.46607647 -0.31831028 -0.10807813 ... -0.12132963  0.18270164\n",
            "  -0.40607711]\n",
            " [ 2.14557066  3.14158873 -0.10807813 ... -0.12132963 -1.94039661\n",
            "  -0.40607711]]\n"
          ]
        }
      ],
      "source": [
        "# Scaling features\n",
        "scaler = StandardScaler()\n",
        "X_train_scaled = scaler.fit_transform(X_train)\n",
        "X_val_scaled = scaler.transform(X_val)\n",
        "\n",
        "print(X_train_scaled)\n",
        "print(X_val_scaled)"
      ]
    },
    {
      "cell_type": "markdown",
      "metadata": {
        "id": "U0Nj9zi3SPsZ"
      },
      "source": [
        "## MODEL BUILDING"
      ]
    },
    {
      "cell_type": "markdown",
      "metadata": {
        "id": "LDCy0dnCQlKU"
      },
      "source": [
        "### LOGISTIC REGRESSION"
      ]
    },
    {
      "cell_type": "markdown",
      "metadata": {
        "id": "QmELtQH-X5sH"
      },
      "source": [
        "#### Hyperparameter Tuning"
      ]
    },
    {
      "cell_type": "code",
      "execution_count": 81,
      "metadata": {
        "colab": {
          "base_uri": "https://localhost:8080/"
        },
        "id": "6fd95JiHX1ss",
        "outputId": "e9d06942-a055-4d63-dd9f-a3ac63605b70"
      },
      "outputs": [
        {
          "name": "stdout",
          "output_type": "stream",
          "text": [
            "Best parameters: {'C': 1, 'penalty': 'l1', 'solver': 'liblinear'}\n",
            "Best cross-validation score: 0.4136238338270616\n"
          ]
        }
      ],
      "source": [
        "from sklearn.linear_model import LogisticRegression\n",
        "lr = LogisticRegression()\n",
        "# Define hyperparameter grid\n",
        "param_grid = {\n",
        "    'C': [1, 10],          # Regularization parameter\n",
        "    'penalty': ['l1', 'l2'],                     # Type of regularization\n",
        "    'solver': ['liblinear'] # Optimization algorithm\n",
        "}\n",
        "# Create GridSearchCV object\n",
        "grid_search = GridSearchCV(lr, param_grid, cv=5, scoring='recall')\n",
        "\n",
        "# Fit the model to the training data\n",
        "grid_search.fit(X_train_scaled, y_train)\n",
        "\n",
        "print(\"Best parameters:\", grid_search.best_params_)\n",
        "\n",
        "print(\"Best cross-validation score:\", grid_search.best_score_)\n"
      ]
    },
    {
      "cell_type": "markdown",
      "metadata": {
        "id": "WiJTfoA9eb1I"
      },
      "source": [
        "#### Model training"
      ]
    },
    {
      "cell_type": "code",
      "execution_count": 82,
      "metadata": {
        "colab": {
          "base_uri": "https://localhost:8080/",
          "height": 75
        },
        "id": "ozHqT-MVCXYm",
        "outputId": "24a6f5af-db4f-4eaa-bc5e-d25e260a936f"
      },
      "outputs": [
        {
          "data": {
            "text/html": [
              "<style>#sk-container-id-1 {color: black;background-color: white;}#sk-container-id-1 pre{padding: 0;}#sk-container-id-1 div.sk-toggleable {background-color: white;}#sk-container-id-1 label.sk-toggleable__label {cursor: pointer;display: block;width: 100%;margin-bottom: 0;padding: 0.3em;box-sizing: border-box;text-align: center;}#sk-container-id-1 label.sk-toggleable__label-arrow:before {content: \"▸\";float: left;margin-right: 0.25em;color: #696969;}#sk-container-id-1 label.sk-toggleable__label-arrow:hover:before {color: black;}#sk-container-id-1 div.sk-estimator:hover label.sk-toggleable__label-arrow:before {color: black;}#sk-container-id-1 div.sk-toggleable__content {max-height: 0;max-width: 0;overflow: hidden;text-align: left;background-color: #f0f8ff;}#sk-container-id-1 div.sk-toggleable__content pre {margin: 0.2em;color: black;border-radius: 0.25em;background-color: #f0f8ff;}#sk-container-id-1 input.sk-toggleable__control:checked~div.sk-toggleable__content {max-height: 200px;max-width: 100%;overflow: auto;}#sk-container-id-1 input.sk-toggleable__control:checked~label.sk-toggleable__label-arrow:before {content: \"▾\";}#sk-container-id-1 div.sk-estimator input.sk-toggleable__control:checked~label.sk-toggleable__label {background-color: #d4ebff;}#sk-container-id-1 div.sk-label input.sk-toggleable__control:checked~label.sk-toggleable__label {background-color: #d4ebff;}#sk-container-id-1 input.sk-hidden--visually {border: 0;clip: rect(1px 1px 1px 1px);clip: rect(1px, 1px, 1px, 1px);height: 1px;margin: -1px;overflow: hidden;padding: 0;position: absolute;width: 1px;}#sk-container-id-1 div.sk-estimator {font-family: monospace;background-color: #f0f8ff;border: 1px dotted black;border-radius: 0.25em;box-sizing: border-box;margin-bottom: 0.5em;}#sk-container-id-1 div.sk-estimator:hover {background-color: #d4ebff;}#sk-container-id-1 div.sk-parallel-item::after {content: \"\";width: 100%;border-bottom: 1px solid gray;flex-grow: 1;}#sk-container-id-1 div.sk-label:hover label.sk-toggleable__label {background-color: #d4ebff;}#sk-container-id-1 div.sk-serial::before {content: \"\";position: absolute;border-left: 1px solid gray;box-sizing: border-box;top: 0;bottom: 0;left: 50%;z-index: 0;}#sk-container-id-1 div.sk-serial {display: flex;flex-direction: column;align-items: center;background-color: white;padding-right: 0.2em;padding-left: 0.2em;position: relative;}#sk-container-id-1 div.sk-item {position: relative;z-index: 1;}#sk-container-id-1 div.sk-parallel {display: flex;align-items: stretch;justify-content: center;background-color: white;position: relative;}#sk-container-id-1 div.sk-item::before, #sk-container-id-1 div.sk-parallel-item::before {content: \"\";position: absolute;border-left: 1px solid gray;box-sizing: border-box;top: 0;bottom: 0;left: 50%;z-index: -1;}#sk-container-id-1 div.sk-parallel-item {display: flex;flex-direction: column;z-index: 1;position: relative;background-color: white;}#sk-container-id-1 div.sk-parallel-item:first-child::after {align-self: flex-end;width: 50%;}#sk-container-id-1 div.sk-parallel-item:last-child::after {align-self: flex-start;width: 50%;}#sk-container-id-1 div.sk-parallel-item:only-child::after {width: 0;}#sk-container-id-1 div.sk-dashed-wrapped {border: 1px dashed gray;margin: 0 0.4em 0.5em 0.4em;box-sizing: border-box;padding-bottom: 0.4em;background-color: white;}#sk-container-id-1 div.sk-label label {font-family: monospace;font-weight: bold;display: inline-block;line-height: 1.2em;}#sk-container-id-1 div.sk-label-container {text-align: center;}#sk-container-id-1 div.sk-container {/* jupyter's `normalize.less` sets `[hidden] { display: none; }` but bootstrap.min.css set `[hidden] { display: none !important; }` so we also need the `!important` here to be able to override the default hidden behavior on the sphinx rendered scikit-learn.org. See: https://github.com/scikit-learn/scikit-learn/issues/21755 */display: inline-block !important;position: relative;}#sk-container-id-1 div.sk-text-repr-fallback {display: none;}</style><div id=\"sk-container-id-1\" class=\"sk-top-container\"><div class=\"sk-text-repr-fallback\"><pre>LogisticRegression(C=1, penalty=&#x27;l1&#x27;, solver=&#x27;liblinear&#x27;)</pre><b>In a Jupyter environment, please rerun this cell to show the HTML representation or trust the notebook. <br />On GitHub, the HTML representation is unable to render, please try loading this page with nbviewer.org.</b></div><div class=\"sk-container\" hidden><div class=\"sk-item\"><div class=\"sk-estimator sk-toggleable\"><input class=\"sk-toggleable__control sk-hidden--visually\" id=\"sk-estimator-id-1\" type=\"checkbox\" checked><label for=\"sk-estimator-id-1\" class=\"sk-toggleable__label sk-toggleable__label-arrow\">LogisticRegression</label><div class=\"sk-toggleable__content\"><pre>LogisticRegression(C=1, penalty=&#x27;l1&#x27;, solver=&#x27;liblinear&#x27;)</pre></div></div></div></div></div>"
            ],
            "text/plain": [
              "LogisticRegression(C=1, penalty='l1', solver='liblinear')"
            ]
          },
          "execution_count": 82,
          "metadata": {},
          "output_type": "execute_result"
        }
      ],
      "source": [
        "lr = LogisticRegression(C = 1, penalty = 'l1', solver ='liblinear')\n",
        "lr.fit(X_train_scaled, y_train)\n"
      ]
    },
    {
      "cell_type": "code",
      "execution_count": 83,
      "metadata": {
        "colab": {
          "base_uri": "https://localhost:8080/"
        },
        "id": "ppmU3plQcONs",
        "outputId": "6cd17c7e-2c9d-4810-dd34-bbcf335ad040"
      },
      "outputs": [
        {
          "name": "stdout",
          "output_type": "stream",
          "text": [
            "Confusion Matrix: [[29936   212]\n",
            " [ 1434  1005]]\n",
            "Classification Report:\n",
            "               precision    recall  f1-score   support\n",
            "\n",
            "           0       0.95      0.99      0.97     30148\n",
            "           1       0.83      0.41      0.55      2439\n",
            "\n",
            "    accuracy                           0.95     32587\n",
            "   macro avg       0.89      0.70      0.76     32587\n",
            "weighted avg       0.94      0.95      0.94     32587\n",
            "\n"
          ]
        }
      ],
      "source": [
        "# Evaluate the model\n",
        "y_pred = lr.predict(X_val_scaled)\n",
        "print(\"Confusion Matrix:\",confusion_matrix(y_val, y_pred))\n",
        "print(\"Classification Report:\\n\", classification_report(y_val, y_pred))\n"
      ]
    },
    {
      "cell_type": "markdown",
      "metadata": {
        "id": "1DI_yip_ce3z"
      },
      "source": [
        "#### Threshold selection"
      ]
    },
    {
      "cell_type": "code",
      "execution_count": 84,
      "metadata": {
        "id": "LpFnMz3aXXn3"
      },
      "outputs": [],
      "source": [
        "y_probs = lr.predict_proba(X_val_scaled)[:, 1]  # Probabilities of the positive class\n",
        "fpr, tpr, thresholds = roc_curve(y_val, y_probs)"
      ]
    },
    {
      "cell_type": "code",
      "execution_count": 85,
      "metadata": {
        "colab": {
          "base_uri": "https://localhost:8080/",
          "height": 449
        },
        "id": "0mYfxMIfZDs3",
        "outputId": "85c80403-9d0b-42be-819a-24db5f66b6f1"
      },
      "outputs": [
        {
          "data": {
            "image/png": "[encoded data removed]",
            "text/plain": [
              "<Figure size 640x480 with 1 Axes>"
            ]
          },
          "metadata": {},
          "output_type": "display_data"
        }
      ],
      "source": [
        "sen = tpr\n",
        "spec = 1-fpr\n",
        "plt.plot(thresholds,sen,label=\"sen\")\n",
        "plt.plot(thresholds,spec,label=\"spec\")\n",
        "plt.xlabel(\"threhold\")\n",
        "plt.ylabel(\"Sens & Spec\")\n",
        "plt.legend()\n",
        "plt.show()"
      ]
    },
    {
      "cell_type": "code",
      "execution_count": 86,
      "metadata": {
        "colab": {
          "base_uri": "https://localhost:8080/"
        },
        "id": "SWxIuHJhYDzQ",
        "outputId": "483e1851-13d2-4108-a7be-b5d46fa238ba"
      },
      "outputs": [
        {
          "name": "stdout",
          "output_type": "stream",
          "text": [
            "0.03443080336132072\n"
          ]
        }
      ],
      "source": [
        "# optimal_idx = np.argmax(tpr - fpr)\n",
        "optimal_idx = np.argmin(np.abs(tpr - (1 - fpr)))\n",
        "lr_optimal_threshold = thresholds[optimal_idx]\n",
        "print(lr_optimal_threshold)\n"
      ]
    },
    {
      "cell_type": "code",
      "execution_count": 87,
      "metadata": {
        "colab": {
          "base_uri": "https://localhost:8080/"
        },
        "id": "08VHi9U7aaII",
        "outputId": "d8b91346-c3b1-41ec-b51c-742af840370d"
      },
      "outputs": [
        {
          "name": "stdout",
          "output_type": "stream",
          "text": [
            "Confusion Matrix: [[25587  4561]\n",
            " [  379  2060]]\n",
            "Classification Report:\n",
            "               precision    recall  f1-score   support\n",
            "\n",
            "           0       0.99      0.85      0.91     30148\n",
            "           1       0.31      0.84      0.45      2439\n",
            "\n",
            "    accuracy                           0.85     32587\n",
            "   macro avg       0.65      0.85      0.68     32587\n",
            "weighted avg       0.93      0.85      0.88     32587\n",
            "\n"
          ]
        }
      ],
      "source": [
        "y_pred = (y_probs >= lr_optimal_threshold).astype(int)\n",
        "# Evaluate the model\n",
        "print(\"Confusion Matrix:\",confusion_matrix(y_val, y_pred))\n",
        "print(\"Classification Report:\\n\", classification_report(y_val, y_pred))"
      ]
    },
    {
      "cell_type": "markdown",
      "metadata": {
        "id": "mud7EqY6Sezt"
      },
      "source": [
        "#### Cross Validation"
      ]
    },
    {
      "cell_type": "code",
      "execution_count": 88,
      "metadata": {
        "colab": {
          "base_uri": "https://localhost:8080/"
        },
        "id": "4b2FxiqaSiSV",
        "outputId": "9cb8a0af-9022-40af-cc15-1f8665047a24"
      },
      "outputs": [
        {
          "name": "stdout",
          "output_type": "stream",
          "text": [
            "[0.76323451 0.75947971 0.75843424 0.7611602  0.7568975 ]\n"
          ]
        }
      ],
      "source": [
        "scores = cross_val_score(lr,X_train_scaled, y_train, cv=5, scoring='f1_macro')\n",
        "print(scores)"
      ]
    },
    {
      "cell_type": "code",
      "execution_count": 89,
      "metadata": {
        "colab": {
          "base_uri": "https://localhost:8080/"
        },
        "id": "559cNvrpdwh3",
        "outputId": "c5f78ee5-fd84-41c7-afb3-73a4cfdcd505"
      },
      "outputs": [
        {
          "name": "stdout",
          "output_type": "stream",
          "text": [
            "4.805979770624767e-06\n"
          ]
        }
      ],
      "source": [
        "variance_score = np.var(scores)\n",
        "print(variance_score)"
      ]
    },
    {
      "cell_type": "markdown",
      "metadata": {
        "id": "j7Tg4WogLfa8"
      },
      "source": [
        "### BOOSTED DECISION TREE CLASSIFIER"
      ]
    },
    {
      "cell_type": "markdown",
      "metadata": {
        "id": "i7w11CmWrmXw"
      },
      "source": [
        "#### Hyperparameter tuning"
      ]
    },
    {
      "cell_type": "code",
      "execution_count": 90,
      "metadata": {
        "colab": {
          "base_uri": "https://localhost:8080/"
        },
        "id": "nx_tFQPLLjQF",
        "outputId": "ba361f4e-f500-483b-84f8-f2198b27e135"
      },
      "outputs": [
        {
          "name": "stdout",
          "output_type": "stream",
          "text": [
            "Fitting 3 folds for each of 10 candidates, totalling 30 fits\n",
            "Best parameters found:  {'max_depth': 7, 'n_estimators': 120}\n",
            "Best accuracy found:  0.8071559475110727\n"
          ]
        }
      ],
      "source": [
        "import xgboost as xgb\n",
        "from scipy.stats import uniform, randint\n",
        "\n",
        "y = y_train_and_val\n",
        "scale_pos_weight = len(y[y == 0]) / len(y[y == 1])\n",
        "# Hyperparameter distribution\n",
        "param_dist = {\n",
        "    'max_depth': randint(3, 10),\n",
        "    'n_estimators': randint(100, 500)\n",
        "}\n",
        "\n",
        "# Initialize XGBoost classifier\n",
        "model = xgb.XGBClassifier(scale_pos_weight=scale_pos_weight)\n",
        "\n",
        "# Initialize the Random Search model\n",
        "random_search = RandomizedSearchCV(model, param_distributions=param_dist, scoring='recall', cv=3, n_jobs=-1, verbose=2, random_state=42)\n",
        "\n",
        "# Fit the Random Search model\n",
        "random_search.fit(X_train, y_train)\n",
        "\n",
        "# Best parameters and best score\n",
        "print(\"Best parameters found: \", random_search.best_params_)\n",
        "print(\"Best accuracy found: \", random_search.best_score_)\n"
      ]
    },
    {
      "cell_type": "markdown",
      "metadata": {
        "id": "DMNo2vI4ruDq"
      },
      "source": [
        "#### Model training"
      ]
    },
    {
      "cell_type": "code",
      "execution_count": 91,
      "metadata": {
        "colab": {
          "base_uri": "https://localhost:8080/",
          "height": 248
        },
        "id": "qJoy435gffO0",
        "outputId": "5afcd8fd-b0cd-4b16-dc20-c019a32f2922"
      },
      "outputs": [
        {
          "data": {
            "text/html": [
              "<style>#sk-container-id-2 {color: black;background-color: white;}#sk-container-id-2 pre{padding: 0;}#sk-container-id-2 div.sk-toggleable {background-color: white;}#sk-container-id-2 label.sk-toggleable__label {cursor: pointer;display: block;width: 100%;margin-bottom: 0;padding: 0.3em;box-sizing: border-box;text-align: center;}#sk-container-id-2 label.sk-toggleable__label-arrow:before {content: \"▸\";float: left;margin-right: 0.25em;color: #696969;}#sk-container-id-2 label.sk-toggleable__label-arrow:hover:before {color: black;}#sk-container-id-2 div.sk-estimator:hover label.sk-toggleable__label-arrow:before {color: black;}#sk-container-id-2 div.sk-toggleable__content {max-height: 0;max-width: 0;overflow: hidden;text-align: left;background-color: #f0f8ff;}#sk-container-id-2 div.sk-toggleable__content pre {margin: 0.2em;color: black;border-radius: 0.25em;background-color: #f0f8ff;}#sk-container-id-2 input.sk-toggleable__control:checked~div.sk-toggleable__content {max-height: 200px;max-width: 100%;overflow: auto;}#sk-container-id-2 input.sk-toggleable__control:checked~label.sk-toggleable__label-arrow:before {content: \"▾\";}#sk-container-id-2 div.sk-estimator input.sk-toggleable__control:checked~label.sk-toggleable__label {background-color: #d4ebff;}#sk-container-id-2 div.sk-label input.sk-toggleable__control:checked~label.sk-toggleable__label {background-color: #d4ebff;}#sk-container-id-2 input.sk-hidden--visually {border: 0;clip: rect(1px 1px 1px 1px);clip: rect(1px, 1px, 1px, 1px);height: 1px;margin: -1px;overflow: hidden;padding: 0;position: absolute;width: 1px;}#sk-container-id-2 div.sk-estimator {font-family: monospace;background-color: #f0f8ff;border: 1px dotted black;border-radius: 0.25em;box-sizing: border-box;margin-bottom: 0.5em;}#sk-container-id-2 div.sk-estimator:hover {background-color: #d4ebff;}#sk-container-id-2 div.sk-parallel-item::after {content: \"\";width: 100%;border-bottom: 1px solid gray;flex-grow: 1;}#sk-container-id-2 div.sk-label:hover label.sk-toggleable__label {background-color: #d4ebff;}#sk-container-id-2 div.sk-serial::before {content: \"\";position: absolute;border-left: 1px solid gray;box-sizing: border-box;top: 0;bottom: 0;left: 50%;z-index: 0;}#sk-container-id-2 div.sk-serial {display: flex;flex-direction: column;align-items: center;background-color: white;padding-right: 0.2em;padding-left: 0.2em;position: relative;}#sk-container-id-2 div.sk-item {position: relative;z-index: 1;}#sk-container-id-2 div.sk-parallel {display: flex;align-items: stretch;justify-content: center;background-color: white;position: relative;}#sk-container-id-2 div.sk-item::before, #sk-container-id-2 div.sk-parallel-item::before {content: \"\";position: absolute;border-left: 1px solid gray;box-sizing: border-box;top: 0;bottom: 0;left: 50%;z-index: -1;}#sk-container-id-2 div.sk-parallel-item {display: flex;flex-direction: column;z-index: 1;position: relative;background-color: white;}#sk-container-id-2 div.sk-parallel-item:first-child::after {align-self: flex-end;width: 50%;}#sk-container-id-2 div.sk-parallel-item:last-child::after {align-self: flex-start;width: 50%;}#sk-container-id-2 div.sk-parallel-item:only-child::after {width: 0;}#sk-container-id-2 div.sk-dashed-wrapped {border: 1px dashed gray;margin: 0 0.4em 0.5em 0.4em;box-sizing: border-box;padding-bottom: 0.4em;background-color: white;}#sk-container-id-2 div.sk-label label {font-family: monospace;font-weight: bold;display: inline-block;line-height: 1.2em;}#sk-container-id-2 div.sk-label-container {text-align: center;}#sk-container-id-2 div.sk-container {/* jupyter's `normalize.less` sets `[hidden] { display: none; }` but bootstrap.min.css set `[hidden] { display: none !important; }` so we also need the `!important` here to be able to override the default hidden behavior on the sphinx rendered scikit-learn.org. See: https://github.com/scikit-learn/scikit-learn/issues/21755 */display: inline-block !important;position: relative;}#sk-container-id-2 div.sk-text-repr-fallback {display: none;}</style><div id=\"sk-container-id-2\" class=\"sk-top-container\"><div class=\"sk-text-repr-fallback\"><pre>XGBClassifier(base_score=None, booster=None, callbacks=None,\n",
              "              colsample_bylevel=None, colsample_bynode=None,\n",
              "              colsample_bytree=None, device=None, early_stopping_rounds=None,\n",
              "              enable_categorical=False, eval_metric=None, feature_types=None,\n",
              "              gamma=None, grow_policy=None, importance_type=None,\n",
              "              interaction_constraints=None, learning_rate=None, max_bin=None,\n",
              "              max_cat_threshold=None, max_cat_to_onehot=None,\n",
              "              max_delta_step=None, max_depth=7, max_leaves=None,\n",
              "              min_child_weight=None, missing=nan, monotone_constraints=None,\n",
              "              multi_strategy=None, n_estimators=120, n_jobs=None,\n",
              "              num_parallel_tree=None, random_state=None, ...)</pre><b>In a Jupyter environment, please rerun this cell to show the HTML representation or trust the notebook. <br />On GitHub, the HTML representation is unable to render, please try loading this page with nbviewer.org.</b></div><div class=\"sk-container\" hidden><div class=\"sk-item\"><div class=\"sk-estimator sk-toggleable\"><input class=\"sk-toggleable__control sk-hidden--visually\" id=\"sk-estimator-id-2\" type=\"checkbox\" checked><label for=\"sk-estimator-id-2\" class=\"sk-toggleable__label sk-toggleable__label-arrow\">XGBClassifier</label><div class=\"sk-toggleable__content\"><pre>XGBClassifier(base_score=None, booster=None, callbacks=None,\n",
              "              colsample_bylevel=None, colsample_bynode=None,\n",
              "              colsample_bytree=None, device=None, early_stopping_rounds=None,\n",
              "              enable_categorical=False, eval_metric=None, feature_types=None,\n",
              "              gamma=None, grow_policy=None, importance_type=None,\n",
              "              interaction_constraints=None, learning_rate=None, max_bin=None,\n",
              "              max_cat_threshold=None, max_cat_to_onehot=None,\n",
              "              max_delta_step=None, max_depth=7, max_leaves=None,\n",
              "              min_child_weight=None, missing=nan, monotone_constraints=None,\n",
              "              multi_strategy=None, n_estimators=120, n_jobs=None,\n",
              "              num_parallel_tree=None, random_state=None, ...)</pre></div></div></div></div></div>"
            ],
            "text/plain": [
              "XGBClassifier(base_score=None, booster=None, callbacks=None,\n",
              "              colsample_bylevel=None, colsample_bynode=None,\n",
              "              colsample_bytree=None, device=None, early_stopping_rounds=None,\n",
              "              enable_categorical=False, eval_metric=None, feature_types=None,\n",
              "              gamma=None, grow_policy=None, importance_type=None,\n",
              "              interaction_constraints=None, learning_rate=None, max_bin=None,\n",
              "              max_cat_threshold=None, max_cat_to_onehot=None,\n",
              "              max_delta_step=None, max_depth=7, max_leaves=None,\n",
              "              min_child_weight=None, missing=nan, monotone_constraints=None,\n",
              "              multi_strategy=None, n_estimators=120, n_jobs=None,\n",
              "              num_parallel_tree=None, random_state=None, ...)"
            ]
          },
          "execution_count": 91,
          "metadata": {},
          "output_type": "execute_result"
        }
      ],
      "source": [
        "xgb_model = xgb.XGBClassifier(scale_pos_weight=scale_pos_weight, n_estimators = 120, max_depth = 7)\n",
        "xgb_model.fit(X_train_scaled, y_train)"
      ]
    },
    {
      "cell_type": "code",
      "execution_count": 92,
      "metadata": {
        "colab": {
          "base_uri": "https://localhost:8080/"
        },
        "id": "zCgztP0XNcjs",
        "outputId": "182c093c-452e-4ec5-fb9d-07b49378c662"
      },
      "outputs": [
        {
          "name": "stdout",
          "output_type": "stream",
          "text": [
            "Confusion Matrix: [[26874  3274]\n",
            " [  399  2040]]\n",
            "Classification Report:\n",
            "               precision    recall  f1-score   support\n",
            "\n",
            "           0       0.99      0.89      0.94     30148\n",
            "           1       0.38      0.84      0.53      2439\n",
            "\n",
            "    accuracy                           0.89     32587\n",
            "   macro avg       0.68      0.86      0.73     32587\n",
            "weighted avg       0.94      0.89      0.91     32587\n",
            "\n"
          ]
        }
      ],
      "source": [
        "# Evaluate the model\n",
        "y_pred = xgb_model.predict(X_val_scaled)\n",
        "print(\"Confusion Matrix:\",confusion_matrix(y_val, y_pred))\n",
        "print(\"Classification Report:\\n\", classification_report(y_val, y_pred))"
      ]
    },
    {
      "cell_type": "markdown",
      "metadata": {
        "id": "iByjUdFigvh-"
      },
      "source": [
        "In XGBoost, just by using scale_pos_weight which balanced the positive and negative weights, the recall (84%) is quite good if we compare it with LogisticRegression which has the recall 41% and only after performing threshold selection it went up to 84%"
      ]
    },
    {
      "cell_type": "markdown",
      "metadata": {
        "id": "44LJX0KpjNVV"
      },
      "source": [
        "#### Threshold Selection"
      ]
    },
    {
      "cell_type": "code",
      "execution_count": 93,
      "metadata": {
        "id": "ftIEItkwjStr"
      },
      "outputs": [],
      "source": [
        "y_probs = xgb_model.predict_proba(X_val_scaled)[:, 1]  # Probabilities of the positive class\n",
        "fpr, tpr, thresholds = roc_curve(y_val, y_probs)"
      ]
    },
    {
      "cell_type": "code",
      "execution_count": 94,
      "metadata": {
        "colab": {
          "base_uri": "https://localhost:8080/",
          "height": 449
        },
        "id": "4pMSc1GsjSkz",
        "outputId": "efad49f3-7cd9-487b-b5d3-ee8ea7c38c94"
      },
      "outputs": [
        {
          "data": {
            "image/png": "[encoded data removed]",
            "text/plain": [
              "<Figure size 640x480 with 1 Axes>"
            ]
          },
          "metadata": {},
          "output_type": "display_data"
        }
      ],
      "source": [
        "sen = tpr\n",
        "spec = 1-fpr\n",
        "plt.plot(thresholds,sen,label=\"sen\")\n",
        "plt.plot(thresholds,spec,label=\"spec\")\n",
        "plt.xlabel(\"threhold\")\n",
        "plt.ylabel(\"Sens & Spec\")\n",
        "plt.legend()\n",
        "plt.show()"
      ]
    },
    {
      "cell_type": "code",
      "execution_count": 95,
      "metadata": {
        "colab": {
          "base_uri": "https://localhost:8080/"
        },
        "id": "DCfkvfeOjSUD",
        "outputId": "954be80d-5b84-4104-a922-bf86f28ba8e3"
      },
      "outputs": [
        {
          "name": "stdout",
          "output_type": "stream",
          "text": [
            "0.41001537\n"
          ]
        }
      ],
      "source": [
        "# optimal_idx = np.argmax(tpr - fpr)\n",
        "optimal_idx = np.argmin(np.abs(tpr - (1 - fpr)))\n",
        "xgb_optimal_threshold = thresholds[optimal_idx]\n",
        "print(xgb_optimal_threshold)"
      ]
    },
    {
      "cell_type": "code",
      "execution_count": 96,
      "metadata": {
        "colab": {
          "base_uri": "https://localhost:8080/"
        },
        "id": "JEQfMvKXjoL0",
        "outputId": "9835aa7e-1349-47e7-fde8-bb9bfa94e424"
      },
      "outputs": [
        {
          "name": "stdout",
          "output_type": "stream",
          "text": [
            "Confusion Matrix: [[25986  4162]\n",
            " [  351  2088]]\n",
            "Classification Report:\n",
            "               precision    recall  f1-score   support\n",
            "\n",
            "           0       0.99      0.86      0.92     30148\n",
            "           1       0.33      0.86      0.48      2439\n",
            "\n",
            "    accuracy                           0.86     32587\n",
            "   macro avg       0.66      0.86      0.70     32587\n",
            "weighted avg       0.94      0.86      0.89     32587\n",
            "\n"
          ]
        }
      ],
      "source": [
        "y_pred = (y_probs >= xgb_optimal_threshold).astype(int)\n",
        "# Evaluate the model\n",
        "print(\"Confusion Matrix:\",confusion_matrix(y_val, y_pred))\n",
        "print(\"Classification Report:\\n\", classification_report(y_val, y_pred))"
      ]
    },
    {
      "cell_type": "markdown",
      "metadata": {
        "id": "ahru71pRBeAB"
      },
      "source": [
        "#### Cross Validation"
      ]
    },
    {
      "cell_type": "code",
      "execution_count": 97,
      "metadata": {
        "colab": {
          "base_uri": "https://localhost:8080/"
        },
        "id": "D_MF5Lb3Beyz",
        "outputId": "fae4b099-a488-46f1-d884-842a41a1029e"
      },
      "outputs": [
        {
          "name": "stdout",
          "output_type": "stream",
          "text": [
            "[0.7647813  0.72750655 0.75520947 0.72682185 0.72005606]\n"
          ]
        }
      ],
      "source": [
        "scores = cross_val_score(xgb_model,X_train_scaled, y_train, cv=5, scoring='f1_macro')\n",
        "print(scores)"
      ]
    },
    {
      "cell_type": "code",
      "execution_count": 98,
      "metadata": {
        "colab": {
          "base_uri": "https://localhost:8080/"
        },
        "id": "syGMZQlfBkNa",
        "outputId": "76b7d18b-4ec5-43c8-a3a6-4714bd6aba20"
      },
      "outputs": [
        {
          "name": "stdout",
          "output_type": "stream",
          "text": [
            "0.0003133247766283696\n"
          ]
        }
      ],
      "source": [
        "variance_score = np.var(scores)\n",
        "print(variance_score)"
      ]
    },
    {
      "cell_type": "markdown",
      "metadata": {
        "id": "rojXQz5Z6cT8"
      },
      "source": [
        "### RANDOM FOREST CLASSIFIER"
      ]
    },
    {
      "cell_type": "markdown",
      "metadata": {
        "id": "KY2jtbog6kM9"
      },
      "source": [
        "#### Hyperparameter Tuning"
      ]
    },
    {
      "cell_type": "code",
      "execution_count": 99,
      "metadata": {
        "colab": {
          "base_uri": "https://localhost:8080/"
        },
        "id": "hkKLMrst6jaD",
        "outputId": "39103b17-d553-46f3-a4a5-865cf6b81086"
      },
      "outputs": [
        {
          "name": "stdout",
          "output_type": "stream",
          "text": [
            "Fitting 3 folds for each of 5 candidates, totalling 15 fits\n",
            "Best parameters: {'n_estimators': 500}\n",
            "Best cross-validation score: 0.57423937076883\n"
          ]
        }
      ],
      "source": [
        "from sklearn.ensemble import RandomForestClassifier\n",
        "\n",
        "rf = RandomForestClassifier()\n",
        "\n",
        "# Define hyperparameter grid\n",
        "param_dist = {\n",
        "    'n_estimators': [100, 200, 300, 400, 500]\n",
        "}\n",
        "random_search = RandomizedSearchCV(rf,param_distributions=param_dist, scoring='recall', cv=3, n_jobs=-1, verbose=2)\n",
        "\n",
        "\n",
        "# Fit the model to the training data\n",
        "random_search.fit(X_train_scaled, y_train)\n",
        "\n",
        "print(\"Best parameters:\", random_search.best_params_)\n",
        "print(\"Best cross-validation score:\", random_search.best_score_)"
      ]
    },
    {
      "cell_type": "markdown",
      "metadata": {
        "id": "ZNXiXZGbhGHe"
      },
      "source": [
        "#### Model training"
      ]
    },
    {
      "cell_type": "code",
      "execution_count": 115,
      "metadata": {
        "colab": {
          "base_uri": "https://localhost:8080/",
          "height": 75
        },
        "id": "vStnMMnr6qpM",
        "outputId": "597ea022-0720-459d-f189-c1cf586a7971"
      },
      "outputs": [
        {
          "data": {
            "text/html": [
              "<style>#sk-container-id-4 {color: black;background-color: white;}#sk-container-id-4 pre{padding: 0;}#sk-container-id-4 div.sk-toggleable {background-color: white;}#sk-container-id-4 label.sk-toggleable__label {cursor: pointer;display: block;width: 100%;margin-bottom: 0;padding: 0.3em;box-sizing: border-box;text-align: center;}#sk-container-id-4 label.sk-toggleable__label-arrow:before {content: \"▸\";float: left;margin-right: 0.25em;color: #696969;}#sk-container-id-4 label.sk-toggleable__label-arrow:hover:before {color: black;}#sk-container-id-4 div.sk-estimator:hover label.sk-toggleable__label-arrow:before {color: black;}#sk-container-id-4 div.sk-toggleable__content {max-height: 0;max-width: 0;overflow: hidden;text-align: left;background-color: #f0f8ff;}#sk-container-id-4 div.sk-toggleable__content pre {margin: 0.2em;color: black;border-radius: 0.25em;background-color: #f0f8ff;}#sk-container-id-4 input.sk-toggleable__control:checked~div.sk-toggleable__content {max-height: 200px;max-width: 100%;overflow: auto;}#sk-container-id-4 input.sk-toggleable__control:checked~label.sk-toggleable__label-arrow:before {content: \"▾\";}#sk-container-id-4 div.sk-estimator input.sk-toggleable__control:checked~label.sk-toggleable__label {background-color: #d4ebff;}#sk-container-id-4 div.sk-label input.sk-toggleable__control:checked~label.sk-toggleable__label {background-color: #d4ebff;}#sk-container-id-4 input.sk-hidden--visually {border: 0;clip: rect(1px 1px 1px 1px);clip: rect(1px, 1px, 1px, 1px);height: 1px;margin: -1px;overflow: hidden;padding: 0;position: absolute;width: 1px;}#sk-container-id-4 div.sk-estimator {font-family: monospace;background-color: #f0f8ff;border: 1px dotted black;border-radius: 0.25em;box-sizing: border-box;margin-bottom: 0.5em;}#sk-container-id-4 div.sk-estimator:hover {background-color: #d4ebff;}#sk-container-id-4 div.sk-parallel-item::after {content: \"\";width: 100%;border-bottom: 1px solid gray;flex-grow: 1;}#sk-container-id-4 div.sk-label:hover label.sk-toggleable__label {background-color: #d4ebff;}#sk-container-id-4 div.sk-serial::before {content: \"\";position: absolute;border-left: 1px solid gray;box-sizing: border-box;top: 0;bottom: 0;left: 50%;z-index: 0;}#sk-container-id-4 div.sk-serial {display: flex;flex-direction: column;align-items: center;background-color: white;padding-right: 0.2em;padding-left: 0.2em;position: relative;}#sk-container-id-4 div.sk-item {position: relative;z-index: 1;}#sk-container-id-4 div.sk-parallel {display: flex;align-items: stretch;justify-content: center;background-color: white;position: relative;}#sk-container-id-4 div.sk-item::before, #sk-container-id-4 div.sk-parallel-item::before {content: \"\";position: absolute;border-left: 1px solid gray;box-sizing: border-box;top: 0;bottom: 0;left: 50%;z-index: -1;}#sk-container-id-4 div.sk-parallel-item {display: flex;flex-direction: column;z-index: 1;position: relative;background-color: white;}#sk-container-id-4 div.sk-parallel-item:first-child::after {align-self: flex-end;width: 50%;}#sk-container-id-4 div.sk-parallel-item:last-child::after {align-self: flex-start;width: 50%;}#sk-container-id-4 div.sk-parallel-item:only-child::after {width: 0;}#sk-container-id-4 div.sk-dashed-wrapped {border: 1px dashed gray;margin: 0 0.4em 0.5em 0.4em;box-sizing: border-box;padding-bottom: 0.4em;background-color: white;}#sk-container-id-4 div.sk-label label {font-family: monospace;font-weight: bold;display: inline-block;line-height: 1.2em;}#sk-container-id-4 div.sk-label-container {text-align: center;}#sk-container-id-4 div.sk-container {/* jupyter's `normalize.less` sets `[hidden] { display: none; }` but bootstrap.min.css set `[hidden] { display: none !important; }` so we also need the `!important` here to be able to override the default hidden behavior on the sphinx rendered scikit-learn.org. See: https://github.com/scikit-learn/scikit-learn/issues/21755 */display: inline-block !important;position: relative;}#sk-container-id-4 div.sk-text-repr-fallback {display: none;}</style><div id=\"sk-container-id-4\" class=\"sk-top-container\"><div class=\"sk-text-repr-fallback\"><pre>RandomForestClassifier(class_weight=&#x27;balanced&#x27;, n_estimators=500)</pre><b>In a Jupyter environment, please rerun this cell to show the HTML representation or trust the notebook. <br />On GitHub, the HTML representation is unable to render, please try loading this page with nbviewer.org.</b></div><div class=\"sk-container\" hidden><div class=\"sk-item\"><div class=\"sk-estimator sk-toggleable\"><input class=\"sk-toggleable__control sk-hidden--visually\" id=\"sk-estimator-id-4\" type=\"checkbox\" checked><label for=\"sk-estimator-id-4\" class=\"sk-toggleable__label sk-toggleable__label-arrow\">RandomForestClassifier</label><div class=\"sk-toggleable__content\"><pre>RandomForestClassifier(class_weight=&#x27;balanced&#x27;, n_estimators=500)</pre></div></div></div></div></div>"
            ],
            "text/plain": [
              "RandomForestClassifier(class_weight='balanced', n_estimators=500)"
            ]
          },
          "execution_count": 115,
          "metadata": {},
          "output_type": "execute_result"
        }
      ],
      "source": [
        "rf = RandomForestClassifier(n_estimators = 500, class_weight='balanced')\n",
        "rf.fit(X_train_scaled, y_train)"
      ]
    },
    {
      "cell_type": "code",
      "execution_count": 116,
      "metadata": {
        "colab": {
          "base_uri": "https://localhost:8080/"
        },
        "id": "bSFUa4nC-QHe",
        "outputId": "12431e7a-651d-41b0-a1c6-468ebe6ecfec"
      },
      "outputs": [
        {
          "name": "stdout",
          "output_type": "stream",
          "text": [
            "Confusion Matrix: [[26875  3273]\n",
            " [  400  2039]]\n",
            "Classification Report:\n",
            "               precision    recall  f1-score   support\n",
            "\n",
            "           0       0.99      0.89      0.94     30148\n",
            "           1       0.38      0.84      0.53      2439\n",
            "\n",
            "    accuracy                           0.89     32587\n",
            "   macro avg       0.68      0.86      0.73     32587\n",
            "weighted avg       0.94      0.89      0.91     32587\n",
            "\n"
          ]
        }
      ],
      "source": [
        "# Evaluate the model\n",
        "y_pred = rf.predict(X_val_scaled)\n",
        "print(\"Confusion Matrix:\",confusion_matrix(y_val, y_pred))\n",
        "print(\"Classification Report:\\n\", classification_report(y_val, y_pred))"
      ]
    },
    {
      "cell_type": "markdown",
      "metadata": {
        "id": "KZ--9xBfhO00"
      },
      "source": [
        "#### Threshold selection"
      ]
    },
    {
      "cell_type": "code",
      "execution_count": 117,
      "metadata": {
        "id": "UaBJeC9BhQWr"
      },
      "outputs": [],
      "source": [
        "y_probs = rf.predict_proba(X_val_scaled)[:, 1]  # Probabilities of the positive class\n",
        "fpr, tpr, thresholds = roc_curve(y_val, y_probs)"
      ]
    },
    {
      "cell_type": "code",
      "execution_count": 118,
      "metadata": {
        "colab": {
          "base_uri": "https://localhost:8080/",
          "height": 449
        },
        "id": "vCH9_Uc7hQOX",
        "outputId": "fea34527-6637-4b1c-e349-9f51c6ad7624"
      },
      "outputs": [
        {
          "data": {
            "image/png": "[encoded data removed]",
            "text/plain": [
              "<Figure size 640x480 with 1 Axes>"
            ]
          },
          "metadata": {},
          "output_type": "display_data"
        }
      ],
      "source": [
        "sen = tpr\n",
        "spec = 1-fpr\n",
        "plt.plot(thresholds,sen,label=\"sen\")\n",
        "plt.plot(thresholds,spec,label=\"spec\")\n",
        "plt.xlabel(\"threhold\")\n",
        "plt.ylabel(\"Sens & Spec\")\n",
        "plt.legend()\n",
        "plt.show()"
      ]
    },
    {
      "cell_type": "code",
      "execution_count": 119,
      "metadata": {
        "colab": {
          "base_uri": "https://localhost:8080/"
        },
        "id": "U1I9V3-shQGl",
        "outputId": "9f34e966-8136-48e1-e758-a617424861ad"
      },
      "outputs": [
        {
          "name": "stdout",
          "output_type": "stream",
          "text": [
            "0.38822689158783924\n"
          ]
        }
      ],
      "source": [
        "# optimal_idx = np.argmax(tpr - fpr)\n",
        "optimal_idx = np.argmin(np.abs(tpr - (1 - fpr)))\n",
        "rf_optimal_threshold = thresholds[optimal_idx]\n",
        "print(rf_optimal_threshold)\n"
      ]
    },
    {
      "cell_type": "code",
      "execution_count": 120,
      "metadata": {
        "colab": {
          "base_uri": "https://localhost:8080/"
        },
        "id": "XVrz9bswhP4k",
        "outputId": "45e8f4e9-afef-4bd2-890a-73ab744551ee"
      },
      "outputs": [
        {
          "name": "stdout",
          "output_type": "stream",
          "text": [
            "Confusion Matrix: [[25989  4159]\n",
            " [  351  2088]]\n",
            "Classification Report:\n",
            "               precision    recall  f1-score   support\n",
            "\n",
            "           0       0.99      0.86      0.92     30148\n",
            "           1       0.33      0.86      0.48      2439\n",
            "\n",
            "    accuracy                           0.86     32587\n",
            "   macro avg       0.66      0.86      0.70     32587\n",
            "weighted avg       0.94      0.86      0.89     32587\n",
            "\n"
          ]
        }
      ],
      "source": [
        "y_pred = (y_probs >= rf_optimal_threshold).astype(int)\n",
        "# Evaluate the model\n",
        "print(\"Confusion Matrix:\",confusion_matrix(y_val, y_pred))\n",
        "print(\"Classification Report:\\n\", classification_report(y_val, y_pred))"
      ]
    },
    {
      "cell_type": "markdown",
      "metadata": {
        "id": "UNzGrn5n-fES"
      },
      "source": [
        "#### Cross Validation"
      ]
    },
    {
      "cell_type": "code",
      "execution_count": 121,
      "metadata": {
        "colab": {
          "base_uri": "https://localhost:8080/"
        },
        "id": "_OPQULUd-ieL",
        "outputId": "8ac1c876-a283-4aa0-cbeb-d955386aec2d"
      },
      "outputs": [
        {
          "name": "stdout",
          "output_type": "stream",
          "text": [
            "[0.76484708 0.72761411 0.75527287 0.726906   0.72037325]\n"
          ]
        }
      ],
      "source": [
        "scores = cross_val_score(rf,X_train_scaled, y_train, cv=5, scoring='f1_macro')\n",
        "print(scores)"
      ]
    },
    {
      "cell_type": "code",
      "execution_count": 122,
      "metadata": {
        "colab": {
          "base_uri": "https://localhost:8080/"
        },
        "id": "4hITXj0uhlha",
        "outputId": "4769f8d1-e0fa-47f9-8cd0-6040fdf7e2c3"
      },
      "outputs": [
        {
          "name": "stdout",
          "output_type": "stream",
          "text": [
            "0.00031114743852003816\n"
          ]
        }
      ],
      "source": [
        "variance_score = np.var(scores)\n",
        "print(variance_score)"
      ]
    },
    {
      "cell_type": "markdown",
      "metadata": {
        "id": "GEyEKEgn_GoY"
      },
      "source": [
        "### SUPPORT VECTOR MACHINE"
      ]
    },
    {
      "cell_type": "markdown",
      "metadata": {
        "id": "tzLKcTwj_KVH"
      },
      "source": [
        "#### Hyperparameter Tuning"
      ]
    },
    {
      "cell_type": "code",
      "execution_count": 123,
      "metadata": {
        "colab": {
          "base_uri": "https://localhost:8080/"
        },
        "id": "8J8ApHgH_Z8O",
        "outputId": "e60861d6-3b5c-4137-ab39-019987ded0ee"
      },
      "outputs": [
        {
          "name": "stdout",
          "output_type": "stream",
          "text": [
            "Fitting 3 folds for each of 4 candidates, totalling 12 fits\n",
            "Best parameters: {'kernel': 'rbf', 'C': 0.1}\n",
            "Best cross-validation score: 0.5775879099527202\n"
          ]
        }
      ],
      "source": [
        "from sklearn.svm import SVC\n",
        "svc_model = SVC()\n",
        "\n",
        "param_dist = {\n",
        "    'C': [ 0.1, 1],          # Regularization parameter\n",
        "    'kernel': ['linear', 'rbf']\n",
        "}\n",
        "\n",
        "random_search = RandomizedSearchCV(svc_model, param_distributions= param_dist,cv=3, n_jobs=-1, verbose=2, scoring='recall')\n",
        "\n",
        "# Fit the model to the training data\n",
        "random_search.fit(X_train_scaled, y_train)\n",
        "\n",
        "print(\"Best parameters:\", random_search.best_params_)\n",
        "print(\"Best cross-validation score:\", random_search.best_score_)\n"
      ]
    },
    {
      "cell_type": "code",
      "execution_count": 124,
      "metadata": {
        "colab": {
          "base_uri": "https://localhost:8080/",
          "height": 75
        },
        "id": "fmx-91rwQE9a",
        "outputId": "e6601d9e-c2da-4ace-a8c0-b5772e96db74"
      },
      "outputs": [
        {
          "data": {
            "text/html": [
              "<style>#sk-container-id-5 {color: black;background-color: white;}#sk-container-id-5 pre{padding: 0;}#sk-container-id-5 div.sk-toggleable {background-color: white;}#sk-container-id-5 label.sk-toggleable__label {cursor: pointer;display: block;width: 100%;margin-bottom: 0;padding: 0.3em;box-sizing: border-box;text-align: center;}#sk-container-id-5 label.sk-toggleable__label-arrow:before {content: \"▸\";float: left;margin-right: 0.25em;color: #696969;}#sk-container-id-5 label.sk-toggleable__label-arrow:hover:before {color: black;}#sk-container-id-5 div.sk-estimator:hover label.sk-toggleable__label-arrow:before {color: black;}#sk-container-id-5 div.sk-toggleable__content {max-height: 0;max-width: 0;overflow: hidden;text-align: left;background-color: #f0f8ff;}#sk-container-id-5 div.sk-toggleable__content pre {margin: 0.2em;color: black;border-radius: 0.25em;background-color: #f0f8ff;}#sk-container-id-5 input.sk-toggleable__control:checked~div.sk-toggleable__content {max-height: 200px;max-width: 100%;overflow: auto;}#sk-container-id-5 input.sk-toggleable__control:checked~label.sk-toggleable__label-arrow:before {content: \"▾\";}#sk-container-id-5 div.sk-estimator input.sk-toggleable__control:checked~label.sk-toggleable__label {background-color: #d4ebff;}#sk-container-id-5 div.sk-label input.sk-toggleable__control:checked~label.sk-toggleable__label {background-color: #d4ebff;}#sk-container-id-5 input.sk-hidden--visually {border: 0;clip: rect(1px 1px 1px 1px);clip: rect(1px, 1px, 1px, 1px);height: 1px;margin: -1px;overflow: hidden;padding: 0;position: absolute;width: 1px;}#sk-container-id-5 div.sk-estimator {font-family: monospace;background-color: #f0f8ff;border: 1px dotted black;border-radius: 0.25em;box-sizing: border-box;margin-bottom: 0.5em;}#sk-container-id-5 div.sk-estimator:hover {background-color: #d4ebff;}#sk-container-id-5 div.sk-parallel-item::after {content: \"\";width: 100%;border-bottom: 1px solid gray;flex-grow: 1;}#sk-container-id-5 div.sk-label:hover label.sk-toggleable__label {background-color: #d4ebff;}#sk-container-id-5 div.sk-serial::before {content: \"\";position: absolute;border-left: 1px solid gray;box-sizing: border-box;top: 0;bottom: 0;left: 50%;z-index: 0;}#sk-container-id-5 div.sk-serial {display: flex;flex-direction: column;align-items: center;background-color: white;padding-right: 0.2em;padding-left: 0.2em;position: relative;}#sk-container-id-5 div.sk-item {position: relative;z-index: 1;}#sk-container-id-5 div.sk-parallel {display: flex;align-items: stretch;justify-content: center;background-color: white;position: relative;}#sk-container-id-5 div.sk-item::before, #sk-container-id-5 div.sk-parallel-item::before {content: \"\";position: absolute;border-left: 1px solid gray;box-sizing: border-box;top: 0;bottom: 0;left: 50%;z-index: -1;}#sk-container-id-5 div.sk-parallel-item {display: flex;flex-direction: column;z-index: 1;position: relative;background-color: white;}#sk-container-id-5 div.sk-parallel-item:first-child::after {align-self: flex-end;width: 50%;}#sk-container-id-5 div.sk-parallel-item:last-child::after {align-self: flex-start;width: 50%;}#sk-container-id-5 div.sk-parallel-item:only-child::after {width: 0;}#sk-container-id-5 div.sk-dashed-wrapped {border: 1px dashed gray;margin: 0 0.4em 0.5em 0.4em;box-sizing: border-box;padding-bottom: 0.4em;background-color: white;}#sk-container-id-5 div.sk-label label {font-family: monospace;font-weight: bold;display: inline-block;line-height: 1.2em;}#sk-container-id-5 div.sk-label-container {text-align: center;}#sk-container-id-5 div.sk-container {/* jupyter's `normalize.less` sets `[hidden] { display: none; }` but bootstrap.min.css set `[hidden] { display: none !important; }` so we also need the `!important` here to be able to override the default hidden behavior on the sphinx rendered scikit-learn.org. See: https://github.com/scikit-learn/scikit-learn/issues/21755 */display: inline-block !important;position: relative;}#sk-container-id-5 div.sk-text-repr-fallback {display: none;}</style><div id=\"sk-container-id-5\" class=\"sk-top-container\"><div class=\"sk-text-repr-fallback\"><pre>SVC(C=0.1, probability=True)</pre><b>In a Jupyter environment, please rerun this cell to show the HTML representation or trust the notebook. <br />On GitHub, the HTML representation is unable to render, please try loading this page with nbviewer.org.</b></div><div class=\"sk-container\" hidden><div class=\"sk-item\"><div class=\"sk-estimator sk-toggleable\"><input class=\"sk-toggleable__control sk-hidden--visually\" id=\"sk-estimator-id-5\" type=\"checkbox\" checked><label for=\"sk-estimator-id-5\" class=\"sk-toggleable__label sk-toggleable__label-arrow\">SVC</label><div class=\"sk-toggleable__content\"><pre>SVC(C=0.1, probability=True)</pre></div></div></div></div></div>"
            ],
            "text/plain": [
              "SVC(C=0.1, probability=True)"
            ]
          },
          "execution_count": 124,
          "metadata": {},
          "output_type": "execute_result"
        }
      ],
      "source": [
        "svc_model = SVC(C = 0.1, kernel = 'rbf', probability=True)\n",
        "svc_model.fit(X_train_scaled, y_train)"
      ]
    },
    {
      "cell_type": "code",
      "execution_count": 125,
      "metadata": {
        "colab": {
          "base_uri": "https://localhost:8080/"
        },
        "id": "vpZDwOIR_ckp",
        "outputId": "1339c9b7-3c7c-48f0-be37-e539952bc3af"
      },
      "outputs": [
        {
          "name": "stdout",
          "output_type": "stream",
          "text": [
            "Confusion Matrix: [[29812   336]\n",
            " [ 1026  1413]]\n",
            "Classification Report:\n",
            "               precision    recall  f1-score   support\n",
            "\n",
            "           0       0.97      0.99      0.98     30148\n",
            "           1       0.81      0.58      0.67      2439\n",
            "\n",
            "    accuracy                           0.96     32587\n",
            "   macro avg       0.89      0.78      0.83     32587\n",
            "weighted avg       0.95      0.96      0.95     32587\n",
            "\n"
          ]
        }
      ],
      "source": [
        "# Evaluate the model\n",
        "y_pred = svc_model.predict(X_val_scaled)\n",
        "print(\"Confusion Matrix:\",confusion_matrix(y_val, y_pred))\n",
        "print(\"Classification Report:\\n\", classification_report(y_val, y_pred))"
      ]
    },
    {
      "cell_type": "markdown",
      "metadata": {
        "id": "SYUaft8FOMvs"
      },
      "source": [
        "#### Threshold Selection"
      ]
    },
    {
      "cell_type": "code",
      "execution_count": 126,
      "metadata": {
        "id": "QJBlPn0yOTBX"
      },
      "outputs": [],
      "source": [
        "y_probs = svc_model.predict_proba(X_val_scaled)[:, 1]  # Probabilities of the positive class\n",
        "fpr, tpr, thresholds = roc_curve(y_val, y_probs)"
      ]
    },
    {
      "cell_type": "code",
      "execution_count": 127,
      "metadata": {
        "colab": {
          "base_uri": "https://localhost:8080/",
          "height": 449
        },
        "id": "7OUEa1tBOYBV",
        "outputId": "d1fd1b3e-ee5a-4f7a-b6a5-e903a66a1d29"
      },
      "outputs": [
        {
          "data": {
            "image/png": "[encoded data removed]",
            "text/plain": [
              "<Figure size 640x480 with 1 Axes>"
            ]
          },
          "metadata": {},
          "output_type": "display_data"
        }
      ],
      "source": [
        "sen = tpr\n",
        "spec = 1-fpr\n",
        "plt.plot(thresholds,sen,label=\"sen\")\n",
        "plt.plot(thresholds,spec,label=\"spec\")\n",
        "plt.xlabel(\"threhold\")\n",
        "plt.ylabel(\"Sens & Spec\")\n",
        "plt.legend()\n",
        "plt.show()"
      ]
    },
    {
      "cell_type": "code",
      "execution_count": 128,
      "metadata": {
        "colab": {
          "base_uri": "https://localhost:8080/"
        },
        "id": "7ZteiWcERWuU",
        "outputId": "db9935a1-a342-4047-ae38-947a6c6da210"
      },
      "outputs": [
        {
          "name": "stdout",
          "output_type": "stream",
          "text": [
            "0.03356416549080507\n"
          ]
        }
      ],
      "source": [
        "# optimal_idx = np.argmax(tpr - fpr)\n",
        "optimal_idx = np.argmin(np.abs(tpr - (1 - fpr)))\n",
        "svc_optimal_threshold = thresholds[optimal_idx]\n",
        "print(svc_optimal_threshold)\n"
      ]
    },
    {
      "cell_type": "code",
      "execution_count": 129,
      "metadata": {
        "colab": {
          "base_uri": "https://localhost:8080/"
        },
        "id": "75cl4ItaRXYj",
        "outputId": "c8cf73f2-90c3-4eed-9916-f39ed622bc42"
      },
      "outputs": [
        {
          "name": "stdout",
          "output_type": "stream",
          "text": [
            "Confusion Matrix: [[24725  5423]\n",
            " [  594  1845]]\n",
            "Classification Report:\n",
            "               precision    recall  f1-score   support\n",
            "\n",
            "           0       0.98      0.82      0.89     30148\n",
            "           1       0.25      0.76      0.38      2439\n",
            "\n",
            "    accuracy                           0.82     32587\n",
            "   macro avg       0.62      0.79      0.64     32587\n",
            "weighted avg       0.92      0.82      0.85     32587\n",
            "\n"
          ]
        }
      ],
      "source": [
        "y_pred = (y_probs >= svc_optimal_threshold).astype(int)\n",
        "# Evaluate the model\n",
        "print(\"Confusion Matrix:\",confusion_matrix(y_val, y_pred))\n",
        "print(\"Classification Report:\\n\", classification_report(y_val, y_pred))"
      ]
    },
    {
      "cell_type": "markdown",
      "metadata": {
        "id": "9Gv8yCc7BtAF"
      },
      "source": [
        "#### Cross validation"
      ]
    },
    {
      "cell_type": "code",
      "execution_count": 130,
      "metadata": {
        "colab": {
          "base_uri": "https://localhost:8080/"
        },
        "id": "IyKoOtf0BuDk",
        "outputId": "101c9460-f3aa-431e-85a6-5d3cab90b1f3"
      },
      "outputs": [
        {
          "name": "stdout",
          "output_type": "stream",
          "text": [
            "[0.76484708 0.72739119 0.75520947 0.72682185 0.72005606]\n"
          ]
        }
      ],
      "source": [
        "scores = cross_val_score(model,X_train_scaled, y_train, cv=5, scoring='f1_macro')\n",
        "print(scores)"
      ]
    },
    {
      "cell_type": "code",
      "execution_count": 131,
      "metadata": {
        "colab": {
          "base_uri": "https://localhost:8080/"
        },
        "id": "tWspeqHa6wxA",
        "outputId": "00b5d0c8-b964-4502-f6a8-76171218188a"
      },
      "outputs": [
        {
          "name": "stdout",
          "output_type": "stream",
          "text": [
            "0.00031453445220806596\n"
          ]
        }
      ],
      "source": [
        "variance_score = np.var(scores)\n",
        "print(variance_score)"
      ]
    },
    {
      "cell_type": "markdown",
      "metadata": {
        "id": "tEiGk_SB2TZ3"
      },
      "source": [
        "## MODEL COMPARISON"
      ]
    },
    {
      "cell_type": "markdown",
      "metadata": {
        "id": "zDxkg2b1m0dU"
      },
      "source": [
        "### Comparing models before threshold tuning"
      ]
    },
    {
      "cell_type": "code",
      "execution_count": 132,
      "metadata": {
        "colab": {
          "base_uri": "https://localhost:8080/"
        },
        "id": "2LEAZfvUkISL",
        "outputId": "e216dc7a-3cc5-4316-e1cb-3a0175b2dc88"
      },
      "outputs": [
        {
          "name": "stdout",
          "output_type": "stream",
          "text": [
            "                 Model    Recall  Macro F1  Accuracy\n",
            "0  Logistic Regression  0.412054  0.761512  0.949489\n",
            "1              XGBoost  0.836408  0.731141  0.887286\n",
            "2        Random Forest  0.835998  0.731081  0.887286\n",
            "3                  SVC  0.579336  0.826226  0.958204\n"
          ]
        }
      ],
      "source": [
        "from sklearn.metrics import recall_score, f1_score, accuracy_score\n",
        "\n",
        "# Names of the models\n",
        "models = ['Logistic Regression','Boosted Decision Tree Classifier', 'Random Forest Classifier', 'Support Vector Machine']\n",
        "\n",
        "y_pred = lr.predict(X_val_scaled)\n",
        "lr_metrics = [\n",
        "    recall_score(y_val, y_pred),\n",
        "    f1_score(y_val, y_pred, average='macro'),\n",
        "    accuracy_score(y_val, y_pred),\n",
        "]\n",
        "\n",
        "y_pred = xgb_model.predict(X_val_scaled)\n",
        "xgb_metrics = [\n",
        "    recall_score(y_val, y_pred),\n",
        "    f1_score(y_val, y_pred, average='macro'),\n",
        "    accuracy_score(y_val, y_pred),\n",
        "]\n",
        "\n",
        "y_pred = rf.predict(X_val_scaled)\n",
        "rf_metrics = [\n",
        "    recall_score(y_val, y_pred),\n",
        "    f1_score(y_val, y_pred, average='macro'),\n",
        "    accuracy_score(y_val, y_pred),\n",
        "]\n",
        "\n",
        "y_pred = svc_model.predict(X_val_scaled)\n",
        "svc_metrics = [\n",
        "    recall_score(y_val, y_pred),\n",
        "    f1_score(y_val, y_pred, average='macro'),\n",
        "    accuracy_score(y_val, y_pred),\n",
        "]\n",
        "\n",
        "metrics_before = {\n",
        "    'Model': ['Logistic Regression', 'XGBoost', 'Random Forest', 'SVC'],\n",
        "    'Recall': [lr_metrics[0], xgb_metrics[0], rf_metrics[0], svc_metrics[0]],\n",
        "    'Macro F1': [lr_metrics[1], xgb_metrics[1], rf_metrics[1], svc_metrics[1]],\n",
        "    'Accuracy': [lr_metrics[2], xgb_metrics[2], rf_metrics[2], svc_metrics[2]],\n",
        "}\n",
        "metrics_before_df = pd.DataFrame(metrics_before)\n",
        "print(metrics_before_df)\n"
      ]
    },
    {
      "cell_type": "code",
      "execution_count": 133,
      "metadata": {
        "colab": {
          "base_uri": "https://localhost:8080/",
          "height": 641
        },
        "id": "FWtpaCE8Z25x",
        "outputId": "80c4d3b3-0d77-4352-faba-972228ecfdcd"
      },
      "outputs": [
        {
          "data": {
            "image/png": "[encoded data removed]",
            "text/plain": [
              "<Figure size 900x700 with 1 Axes>"
            ]
          },
          "metadata": {},
          "output_type": "display_data"
        }
      ],
      "source": [
        "melted_before_df = metrics_before_df.melt(id_vars=['Model'], var_name='Metric', value_name='Metric value')\n",
        "\n",
        "# Plotting the graph\n",
        "custom_palette = ['#4e79a7', '#f28e2b', '#e15759', '#76b7b2']\n",
        "plt.figure(figsize=(9, 7))\n",
        "sns.barplot(x='Metric', y='Metric value', hue='Model', data=melted_before_df, palette=custom_palette)\n",
        "plt.title('Model Performance Comparison Before Threshold Tuning')\n",
        "plt.ylabel('Scores')\n",
        "plt.xlabel('Metrics')\n",
        "plt.legend(title='Models')\n",
        "plt.show()"
      ]
    },
    {
      "cell_type": "markdown",
      "metadata": {
        "id": "f5upZzW_m6VG"
      },
      "source": [
        "**Observations:**\n",
        "\n",
        "As we notice, Boosted decision tree and Random forest have substantially better recall compared to Logistic regression and SVC models. As we mentioned earlier, recall is critical for a medical diagnostic tool to minimize false negatives.\n",
        "\n",
        "On the other hand, the two models have only slightly lower macro_f1 score and accuracy values.\n",
        "\n",
        "The reason for high recall with Boosted decision tree and Random forest models is that we applied class balancing while training these two models. We had to apply class balancing as dataset is highly skewed against corona positive examples."
      ]
    },
    {
      "cell_type": "markdown",
      "metadata": {
        "id": "9iQWlQ6ZvAwk"
      },
      "source": [
        "### Comparing models after threshold tuning"
      ]
    },
    {
      "cell_type": "code",
      "execution_count": 134,
      "metadata": {
        "colab": {
          "base_uri": "https://localhost:8080/"
        },
        "id": "vbTX_4trZ-M-",
        "outputId": "0efd74d7-7492-435e-b07b-fbced5313352"
      },
      "outputs": [
        {
          "name": "stdout",
          "output_type": "stream",
          "text": [
            "                 Model    Recall  Macro F1  Accuracy\n",
            "0  Logistic Regression  0.844608  0.683356  0.848406\n",
            "1              XGBoost  0.856089  0.700355  0.861509\n",
            "2        Random Forest  0.856089  0.700467  0.861601\n",
            "3                  SVC  0.756458  0.635830  0.815356\n"
          ]
        }
      ],
      "source": [
        "from sklearn.metrics import recall_score, f1_score, accuracy_score\n",
        "\n",
        "# Names of the models\n",
        "models = ['Logistic Regression','Boosted Decision Tree Classifier', 'Random Forest Classifier', 'Support Vector Machine']\n",
        "\n",
        "y_probs = lr.predict_proba(X_val_scaled)[:, 1]\n",
        "y_pred = (y_probs >= lr_optimal_threshold).astype(int)\n",
        "lr_metrics = [\n",
        "    recall_score(y_val, y_pred),\n",
        "    f1_score(y_val, y_pred, average='macro'),\n",
        "    accuracy_score(y_val, y_pred),\n",
        "]\n",
        "\n",
        "y_probs = xgb_model.predict_proba(X_val_scaled)[:, 1]\n",
        "y_pred = (y_probs >= xgb_optimal_threshold).astype(int)\n",
        "xgb_metrics = [\n",
        "    recall_score(y_val, y_pred),\n",
        "    f1_score(y_val, y_pred, average='macro'),\n",
        "    accuracy_score(y_val, y_pred),\n",
        "]\n",
        "\n",
        "y_probs = rf.predict_proba(X_val_scaled)[:, 1]\n",
        "y_pred = (y_probs >= rf_optimal_threshold).astype(int)\n",
        "rf_metrics = [\n",
        "    recall_score(y_val, y_pred),\n",
        "    f1_score(y_val, y_pred, average='macro'),\n",
        "    accuracy_score(y_val, y_pred),\n",
        "]\n",
        "\n",
        "y_probs = svc_model.predict_proba(X_val_scaled)[:, 1]\n",
        "y_pred = (y_probs >= svc_optimal_threshold).astype(int)\n",
        "svc_metrics = [\n",
        "    recall_score(y_val, y_pred),\n",
        "    f1_score(y_val, y_pred, average='macro'),\n",
        "    accuracy_score(y_val, y_pred),\n",
        "]\n",
        "\n",
        "metrics_after = {\n",
        "    'Model': ['Logistic Regression', 'XGBoost', 'Random Forest', 'SVC'],\n",
        "    'Recall': [lr_metrics[0], xgb_metrics[0], rf_metrics[0], svc_metrics[0]],\n",
        "    'Macro F1': [lr_metrics[1], xgb_metrics[1], rf_metrics[1], svc_metrics[1]],\n",
        "    'Accuracy': [lr_metrics[2], xgb_metrics[2], rf_metrics[2], svc_metrics[2]],\n",
        "}\n",
        "metrics_after_df = pd.DataFrame(metrics_after)\n",
        "print(metrics_after_df)"
      ]
    },
    {
      "cell_type": "code",
      "execution_count": 135,
      "metadata": {
        "colab": {
          "base_uri": "https://localhost:8080/",
          "height": 641
        },
        "id": "zgR9UDyL3JFM",
        "outputId": "0e0967d5-25b1-4b3c-d4e0-fe0e209d4823"
      },
      "outputs": [
        {
          "data": {
            "image/png": "[encoded data removed]",
            "text/plain": [
              "<Figure size 900x700 with 1 Axes>"
            ]
          },
          "metadata": {},
          "output_type": "display_data"
        }
      ],
      "source": [
        "melted_after_df = metrics_after_df.melt(id_vars=['Model'], var_name='Metric', value_name='Metric value')\n",
        "\n",
        "# Plotting the graph\n",
        "custom_palette = ['#4e79a7', '#f28e2b', '#e15759', '#76b7b2']\n",
        "plt.figure(figsize=(9, 7))\n",
        "sns.barplot(x='Metric', y='Metric value', hue='Model', data=melted_after_df, palette=custom_palette)\n",
        "plt.title('Model Performance Comparison After Threshold Tuning')\n",
        "plt.ylabel('Scores')\n",
        "plt.xlabel('Metrics')\n",
        "plt.legend(title='Models')\n",
        "plt.show()"
      ]
    },
    {
      "cell_type": "markdown",
      "metadata": {
        "id": "vCv2RB_uonEL"
      },
      "source": [
        "**Observations:**\n",
        "\n",
        "We notice that all four models have quite similar performance after threshold selection with Boosted decision tree and Random forest performing the best across metrics. Logistic regression is also not very far away."
      ]
    },
    {
      "cell_type": "markdown",
      "metadata": {
        "id": "qrD8y_JR_oz3"
      },
      "source": [
        "## TESTING HYPOTHESIS 3"
      ]
    },
    {
      "cell_type": "markdown",
      "metadata": {
        "id": "qABB4wCa_riS"
      },
      "source": [
        "As we observed in the Model Comparison section, the recall is very low for Logistic regression and SVC models before threshold tuning as we hadn't done any class balancing on the target variables."
      ]
    },
    {
      "cell_type": "markdown",
      "metadata": {
        "id": "H-ndmRSU5bgT"
      },
      "source": [
        "##EVALUATION ON TEST DATA"
      ]
    },
    {
      "cell_type": "code",
      "execution_count": 136,
      "metadata": {
        "colab": {
          "base_uri": "https://localhost:8080/"
        },
        "id": "1PBtPvZt5bDK",
        "outputId": "7003cf54-0e51-4bf2-d3f1-b9219ed2b135"
      },
      "outputs": [
        {
          "name": "stdout",
          "output_type": "stream",
          "text": [
            "[[ 2.79597725 -0.24779699 -0.01410319 ... -0.01499498  0.\n",
            "   2.49934026]\n",
            " [-0.3576567  -0.24779699 -0.01410319 ... -0.01499498  0.\n",
            "  -0.29191912]\n",
            " [ 2.79597725 -0.24779699 -0.01410319 ... -0.01499498  0.\n",
            "   2.49934026]\n",
            " ...\n",
            " [-0.3576567  -0.24779699 -0.01410319 ... -0.01499498  0.\n",
            "  -0.29191912]\n",
            " [-0.3576567  -0.24779699 -0.01410319 ... -0.01499498  0.\n",
            "  -0.29191912]\n",
            " [-0.3576567  -0.24779699 -0.01410319 ... -0.01499498  0.\n",
            "  -0.29191912]]\n"
          ]
        }
      ],
      "source": [
        "# Scaling features\n",
        "X_test_scaled = scaler.fit_transform(X_test)\n",
        "print(X_test_scaled)"
      ]
    },
    {
      "cell_type": "markdown",
      "metadata": {
        "id": "KkTfN05l585C"
      },
      "source": [
        "###Evaluation with Random Forest Classifier"
      ]
    },
    {
      "cell_type": "code",
      "execution_count": 138,
      "metadata": {
        "colab": {
          "base_uri": "https://localhost:8080/"
        },
        "id": "IxAggyJW5mBR",
        "outputId": "a34c09d3-13c7-4c82-9ba1-a6d7cf6502db"
      },
      "outputs": [
        {
          "name": "stdout",
          "output_type": "stream",
          "text": [
            "Confusion Matrix: [[97003 15958]\n",
            " [  821  1877]]\n",
            "Classification Report:\n",
            "               precision    recall  f1-score   support\n",
            "\n",
            "           0       0.99      0.86      0.92    112961\n",
            "           1       0.11      0.70      0.18      2698\n",
            "\n",
            "    accuracy                           0.85    115659\n",
            "   macro avg       0.55      0.78      0.55    115659\n",
            "weighted avg       0.97      0.85      0.90    115659\n",
            "\n"
          ]
        }
      ],
      "source": [
        "y_pred = rf.predict(X_test_scaled)\n",
        "print(\"Confusion Matrix:\",confusion_matrix(y_test, y_pred))\n",
        "print(\"Classification Report:\\n\", classification_report(y_test, y_pred))\n"
      ]
    },
    {
      "cell_type": "markdown",
      "metadata": {
        "id": "MllRmqx-6J27"
      },
      "source": [
        "### Evaluation with Boosted Decision Tree Classifier"
      ]
    },
    {
      "cell_type": "code",
      "execution_count": 139,
      "metadata": {
        "colab": {
          "base_uri": "https://localhost:8080/"
        },
        "id": "jFL-PucO6S78",
        "outputId": "b72fcad7-9cca-4403-8718-34ec8d0686fb"
      },
      "outputs": [
        {
          "name": "stdout",
          "output_type": "stream",
          "text": [
            "Confusion Matrix: [[100653  12308]\n",
            " [   846   1852]]\n",
            "Classification Report:\n",
            "               precision    recall  f1-score   support\n",
            "\n",
            "           0       0.99      0.89      0.94    112961\n",
            "           1       0.13      0.69      0.22      2698\n",
            "\n",
            "    accuracy                           0.89    115659\n",
            "   macro avg       0.56      0.79      0.58    115659\n",
            "weighted avg       0.97      0.89      0.92    115659\n",
            "\n"
          ]
        }
      ],
      "source": [
        "# evaluation of the model with the test data\n",
        "y_pred = xgb_model.predict(X_test_scaled)\n",
        "print(\"Confusion Matrix:\",confusion_matrix(y_test, y_pred))\n",
        "print(\"Classification Report:\\n\", classification_report(y_test, y_pred))\n"
      ]
    },
    {
      "cell_type": "markdown",
      "metadata": {
        "id": "Guav4BT4uXsD"
      },
      "source": [
        "### **CONCLUSION:**"
      ]
    },
    {
      "cell_type": "markdown",
      "metadata": {
        "id": "keYR2HFwulpt"
      },
      "source": [
        "From the above results, **XGBoost** appears to be the more appropriate model for a few reasons:\n",
        "* It has a higher overall accuracy, meaning it correctly identifies more cases (both positive and negative) than Random Forest.\n",
        "* It maintains a comparable recall for the positive class while having a higher precision, which means it has fewer false positives."
      ]
    },
    {
      "cell_type": "markdown",
      "metadata": {
        "id": "X1BbDlZ28Z7A"
      },
      "source": [
        "# ***SQL***"
      ]
    },
    {
      "cell_type": "markdown",
      "metadata": {
        "id": "2js1fguz8cRh"
      },
      "source": [
        "## Using SQL to perform following queries based on cleaned dataset"
      ]
    },
    {
      "cell_type": "code",
      "execution_count": 140,
      "metadata": {
        "colab": {
          "base_uri": "https://localhost:8080/"
        },
        "id": "PT3aR84W8qfV",
        "outputId": "67aa74fa-fbfa-47ba-ac54-d5b939887a2c"
      },
      "outputs": [
        {
          "data": {
            "text/plain": [
              "<duckdb.duckdb.DuckDBPyConnection at 0x782f0b021e70>"
            ]
          },
          "execution_count": 140,
          "metadata": {},
          "output_type": "execute_result"
        }
      ],
      "source": [
        "import duckdb\n",
        "conn = duckdb.connect()\n",
        "conn.register(\"df_view\",cleaned_data_sql)"
      ]
    },
    {
      "cell_type": "code",
      "execution_count": 141,
      "metadata": {
        "colab": {
          "base_uri": "https://localhost:8080/"
        },
        "id": "PynIt9Rq88k6",
        "outputId": "ee49bda8-21a7-4331-fa2d-d686c66c2c2e"
      },
      "outputs": [
        {
          "name": "stdout",
          "output_type": "stream",
          "text": [
            "1164\n"
          ]
        }
      ],
      "source": [
        "# task 1\n",
        "query_1 = \"\"\"\n",
        "select count(Corona) as num_corona_patients\n",
        "from df_view\n",
        "where Shortness_of_breath= 'true' and Corona = 'positive'\n",
        "\"\"\"\n",
        "result_1 = conn.execute(query_1).fetchall()\n",
        "print(result_1[0][0])"
      ]
    },
    {
      "cell_type": "code",
      "execution_count": 142,
      "metadata": {
        "colab": {
          "base_uri": "https://localhost:8080/"
        },
        "id": "HQ5EcJkP89Sf",
        "outputId": "ad568888-1f1f-4245-c83e-cee41c6a393d"
      },
      "outputs": [
        {
          "name": "stdout",
          "output_type": "stream",
          "text": [
            "142\n"
          ]
        }
      ],
      "source": [
        "#task 2\n",
        "query_2 = \"\"\"\n",
        "select count(Corona) as num_negative_patients\n",
        "from df_view\n",
        "where Corona = 'negative' and Fever = 'true' and Sore_throat = 'true'\n",
        "\"\"\"\n",
        "result_2 = conn.execute(query_2).fetchall()\n",
        "print(result_2[0][0])"
      ]
    },
    {
      "cell_type": "code",
      "execution_count": 143,
      "metadata": {
        "colab": {
          "base_uri": "https://localhost:8080/"
        },
        "id": "25z2jAWO9BZN",
        "outputId": "b1bc5fd0-f783-479d-e82a-6d9c585329e3"
      },
      "outputs": [
        {
          "name": "stdout",
          "output_type": "stream",
          "text": [
            "     month  positive_cases_count  rank\n",
            "0  2020-04                  8881     1\n",
            "1  2020-03                  5848     2\n"
          ]
        }
      ],
      "source": [
        "#task 3\n",
        "query_3 = \"\"\"\n",
        "select month,\n",
        "       positive_cases_count,\n",
        "       rank()over(order by positive_cases_count desc) as rank\n",
        "from\n",
        "    (select strftime('%Y-%m', CAST(Test_date as Date)) AS month,\n",
        "            count(Corona) AS positive_cases_count\n",
        "      from df_view\n",
        "      where Corona = 'positive'\n",
        "      group by month\n",
        ") subquery\n",
        "\"\"\"\n",
        "\n",
        "result_3 = conn.execute(query_3).fetchdf()\n",
        "print(result_3)"
      ]
    },
    {
      "cell_type": "code",
      "execution_count": 144,
      "metadata": {
        "colab": {
          "base_uri": "https://localhost:8080/"
        },
        "id": "MjA-WpuI9HLp",
        "outputId": "8669f98b-3f78-4750-85ef-f178dfbf0838"
      },
      "outputs": [
        {
          "name": "stdout",
          "output_type": "stream",
          "text": [
            "38\n"
          ]
        }
      ],
      "source": [
        "#task 4\n",
        "query_4 = \"\"\"\n",
        "select count(corona) num_patients\n",
        "from df_view\n",
        "where Sex = 'female' and Corona = 'negative' and cough_symptoms = 'true' and Headache = 'true'\n",
        "\"\"\"\n",
        "result_4 = conn.execute(query_4).fetchall()\n",
        "print(result_4[0][0])\n"
      ]
    },
    {
      "cell_type": "code",
      "execution_count": 145,
      "metadata": {
        "colab": {
          "base_uri": "https://localhost:8080/"
        },
        "id": "_G_mUD8C9LRv",
        "outputId": "7b32ddda-5cc3-499b-a807-96f597e20b36"
      },
      "outputs": [
        {
          "name": "stdout",
          "output_type": "stream",
          "text": [
            "263\n"
          ]
        }
      ],
      "source": [
        "#task 5\n",
        "query_5 = \"\"\"\n",
        "select count(Corona) as num_patients\n",
        "from df_view\n",
        "where Age_60_above = 'Yes' and Shortness_of_breath = 'true' and Corona = 'positive'\n",
        "\"\"\"\n",
        "\n",
        "result_5 = conn.execute(query_5).fetchall()\n",
        "print(result_5[0][0])\n"
      ]
    },
    {
      "cell_type": "code",
      "execution_count": 146,
      "metadata": {
        "colab": {
          "base_uri": "https://localhost:8080/"
        },
        "id": "LtQnMbUM9Quu",
        "outputId": "44fc4829-06fe-4839-861f-e5d47097d719"
      },
      "outputs": [
        {
          "name": "stdout",
          "output_type": "stream",
          "text": [
            "          symptom  frequency\n",
            "0  Cough_symptoms     6584.0\n",
            "1           Fever     5559.0\n",
            "2        Headache     2235.0\n"
          ]
        }
      ],
      "source": [
        "#task 6\n",
        "query_6 = \"\"\"\n",
        "select\n",
        "    'Cough_symptoms' as symptom, sum(case when Cough_symptoms = 'true' then 1 else 0 end) as frequency\n",
        "from df_view\n",
        "where Corona = 'positive'\n",
        "union all\n",
        "select\n",
        "    'Fever' as symptom, sum(case when Fever = 'true' then 1 else 0 end) as frequency\n",
        "from df_view\n",
        "where Corona = 'positive'\n",
        "union all\n",
        "select\n",
        "    'Sore_throat' as symptom, sum(case when Sore_throat = 'true' then 1 else 0 end) as frequency\n",
        "from df_view\n",
        "where Corona = 'positive'\n",
        "union all\n",
        "select\n",
        "    'Shortness_of_breath' as symptom, sum(case when Shortness_of_breath = 'true' then 1 else 0 end) as frequency\n",
        "from df_view\n",
        "where Corona = 'positive'\n",
        "union all\n",
        "select\n",
        "    'Headache' as symptom, sum(case when Headache = 'true' then 1 else 0 end) as frequency\n",
        "from df_view\n",
        "where Corona = 'positive'\n",
        "order by frequency desc\n",
        "limit 3\n",
        "\"\"\"\n",
        "\n",
        "result_6 = conn.execute(query_6).fetchdf()\n",
        "print(result_6)"
      ]
    },
    {
      "cell_type": "code",
      "execution_count": 147,
      "metadata": {
        "colab": {
          "base_uri": "https://localhost:8080/"
        },
        "id": "t3zVwCV59XrP",
        "outputId": "32890f66-11c4-47ac-c9ae-f5f67356b85e"
      },
      "outputs": [
        {
          "name": "stdout",
          "output_type": "stream",
          "text": [
            "    symptom  frequency\n",
            "0  Headache      179.0\n"
          ]
        }
      ],
      "source": [
        "# task 7\n",
        "query_7 = \"\"\"\n",
        "select\n",
        "    'Cough_symptoms' as symptom, sum(case when Cough_symptoms = 'true' then 1 else 0 end) as frequency\n",
        "from df_view\n",
        "where Corona = 'negative'\n",
        "union all\n",
        "select\n",
        "    'Fever' as symptom, sum(case when Fever = 'true' then 1 else 0 end) as frequency\n",
        "from df_view\n",
        "where Corona = 'negative'\n",
        "union all\n",
        "select\n",
        "    'Sore_throat' as symptom, sum(case when Sore_throat = 'true' then 1 else 0 end) as frequency\n",
        "from df_view\n",
        "where Corona = 'negative'\n",
        "union all\n",
        "select\n",
        "    'Shortness_of_breath' as symptom, sum(case when Shortness_of_breath = 'true' then 1 else 0 end) as frequency\n",
        "from df_view\n",
        "where Corona = 'negative'\n",
        "union all\n",
        "select\n",
        "    'Headache' as symptom, sum(case when Headache = 'true' then 1 else 0 end) as frequency\n",
        "from df_view\n",
        "where Corona = 'negative'\n",
        "order by frequency asc\n",
        "limit 1\n",
        "\"\"\"\n",
        "\n",
        "result_7 = conn.execute(query_7).fetchdf()\n",
        "print(result_7)"
      ]
    },
    {
      "cell_type": "code",
      "execution_count": 148,
      "metadata": {
        "colab": {
          "base_uri": "https://localhost:8080/"
        },
        "id": "8CanUrKu9dRf",
        "outputId": "f276fc28-b5ff-49f1-b60f-825db13a6b22"
      },
      "outputs": [
        {
          "name": "stdout",
          "output_type": "stream",
          "text": [
            "          symptom  total_cases\n",
            "0  Cough_symptoms        532.0\n",
            "1           Fever        407.0\n",
            "2        Headache        129.0\n"
          ]
        }
      ],
      "source": [
        "# task 8\n",
        "query_8 = \"\"\"\n",
        "select symptom, sum(case_count) as total_cases\n",
        "from (\n",
        "    select 'Cough_symptoms' as symptom, sum(case when Cough_symptoms = 'true' then 1 else 0 end) as case_count\n",
        "    from df_view\n",
        "    where Corona = 'positive' and Sex = 'male' and Known_contact = 'Abroad'\n",
        "    union all\n",
        "    select 'Fever', sum(case when Fever = 'true' then 1 else 0 end) as case_count\n",
        "    from df_view\n",
        "    where Corona = 'positive' and Sex = 'male' and Known_contact = 'Abroad'\n",
        "    union all\n",
        "    select 'Sore_throat', sum(case when Sore_throat = 'true' then 1 else 0 end) as case_count\n",
        "    from df_view\n",
        "    where Corona = 'positive' and Sex = 'male' and Known_contact = 'Abroad'\n",
        "    union all\n",
        "    select 'Shortness_of_breath', sum(case when Shortness_of_breath = 'true' then 1 else 0 end) as case_count\n",
        "    from df_view\n",
        "    where Corona = 'positive' and Sex = 'male' and Known_contact = 'Abroad'\n",
        "    union all\n",
        "    select 'Headache', sum(case when Headache  = 'true' then 1 else 0 end) as case_count\n",
        "    from df_view\n",
        "    where Corona = 'positive' and Sex = 'male' and Known_contact = 'Abroad'\n",
        ") as symptom_cases\n",
        "group by symptom\n",
        "order by total_cases desc\n",
        "limit 3\n",
        "\"\"\"\n",
        "\n",
        "result_8 = conn.execute(query_8).fetchdf()\n",
        "print(result_8)\n"
      ]
    }
  ],
  "metadata": {
    "colab": {
      "collapsed_sections": [
        "VG8-L2SeVck6",
        "uPT4qzZ5mpaE",
        "y58RpwMQfWAK",
        "33D6V3Y-oNn4"
      ],
      "provenance": []
    },
    "kernelspec": {
      "display_name": "Python 3",
      "name": "python3"
    },
    "language_info": {
      "name": "python"
    }
  },
  "nbformat": 4,
  "nbformat_minor": 0
}
